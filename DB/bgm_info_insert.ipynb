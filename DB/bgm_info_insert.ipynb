{
 "cells": [
  {
   "cell_type": "code",
   "execution_count": 5,
   "metadata": {},
   "outputs": [
    {
     "name": "stdout",
     "output_type": "stream",
     "text": [
      "Requirement already satisfied: pymysql in c:\\users\\user\\appdata\\local\\programs\\python\\python311\\lib\\site-packages (1.1.1)\n",
      "Note: you may need to restart the kernel to use updated packages.\n"
     ]
    },
    {
     "name": "stderr",
     "output_type": "stream",
     "text": [
      "\n",
      "[notice] A new release of pip available: 22.3.1 -> 24.3.1\n",
      "[notice] To update, run: python.exe -m pip install --upgrade pip\n"
     ]
    }
   ],
   "source": [
    "pip install pymysql"
   ]
  },
  {
   "cell_type": "code",
   "execution_count": 3,
   "metadata": {},
   "outputs": [
    {
     "name": "stdout",
     "output_type": "stream",
     "text": [
      "Collecting spotipyNote: you may need to restart the kernel to use updated packages.\n",
      "\n",
      "  Downloading spotipy-2.24.0-py3-none-any.whl.metadata (4.9 kB)\n",
      "Collecting redis>=3.5.3 (from spotipy)\n",
      "  Downloading redis-5.2.1-py3-none-any.whl.metadata (9.1 kB)\n",
      "Requirement already satisfied: requests>=2.25.0 in c:\\users\\user\\anaconda3\\lib\\site-packages (from spotipy) (2.31.0)\n",
      "Requirement already satisfied: urllib3>=1.26.0 in c:\\users\\user\\anaconda3\\lib\\site-packages (from spotipy) (1.26.16)\n",
      "Requirement already satisfied: charset-normalizer<4,>=2 in c:\\users\\user\\anaconda3\\lib\\site-packages (from requests>=2.25.0->spotipy) (2.0.4)\n",
      "Requirement already satisfied: idna<4,>=2.5 in c:\\users\\user\\anaconda3\\lib\\site-packages (from requests>=2.25.0->spotipy) (3.4)\n",
      "Requirement already satisfied: certifi>=2017.4.17 in c:\\users\\user\\anaconda3\\lib\\site-packages (from requests>=2.25.0->spotipy) (2023.7.22)\n",
      "Downloading spotipy-2.24.0-py3-none-any.whl (30 kB)\n",
      "Downloading redis-5.2.1-py3-none-any.whl (261 kB)\n",
      "Installing collected packages: redis, spotipy\n",
      "Successfully installed redis-5.2.1 spotipy-2.24.0\n"
     ]
    }
   ],
   "source": [
    "pip install spotipy"
   ]
  },
  {
   "cell_type": "code",
   "execution_count": 1,
   "metadata": {},
   "outputs": [],
   "source": [
    "from spotipy.oauth2 import SpotifyClientCredentials\n",
    "import spotipy"
   ]
  },
  {
   "cell_type": "code",
   "execution_count": 2,
   "metadata": {},
   "outputs": [],
   "source": [
    "# Spotify API 인증 설정\n",
    "client_id = \"9bd86ce2eea34cccb8961d47792e9796\"  # Spotify Developer Dashboard에서 발급받은 Client ID\n",
    "client_secret = \"71c37f5b363a47ca8ce1248ed4f3dfaa\"  # Spotify Developer Dashboard에서 발급받은 Client Secret"
   ]
  },
  {
   "cell_type": "code",
   "execution_count": 3,
   "metadata": {},
   "outputs": [],
   "source": [
    "sp = spotipy.Spotify(auth_manager=SpotifyClientCredentials(client_id=client_id, client_secret=client_secret))"
   ]
  },
  {
   "cell_type": "code",
   "execution_count": 4,
   "metadata": {},
   "outputs": [],
   "source": [
    "def get_tracks_by_keyword(keyword, limit=10):\n",
    "    \"\"\"\n",
    "    Spotify API를 통해 특정 키워드로 트랙 검색\n",
    "    :param keyword: 검색 키워드 (e.g., \"relaxing music\")\n",
    "    :param limit: 가져올 곡의 수\n",
    "    :return: 곡 정보 리스트\n",
    "    \"\"\"\n",
    "    results = sp.search(q=keyword, limit=limit, type=\"track\") # 키워드 검색 해 트랙 가져오기\n",
    "    tracks = [] # 트랙별 정보 딕셔너리가 담긴 리스트(name, )\n",
    "    for item in results['tracks']['items']:\n",
    "        # 트랙별 정보\n",
    "        track_info = {\n",
    "            \"BGM_name\": item['name'],  # 곡 이름\n",
    "            \"BGM_url\": item['external_urls']['spotify'],  # Spotify URL\n",
    "            \"artist\": \", \".join([artist['name'] for artist in item['artists']]),  # 아티스트 이름들 (여러 명일 경우 ','로 연결)\n",
    "            \"album_cover\": item['album']['images'][0]['url'] if item['album']['images'] else None  # 앨범 커버 이미지 URL (이미지가 없으면 None)\n",
    "        }\n",
    "        tracks.append(track_info)  # 리스트에 추가\n",
    "    return tracks"
   ]
  },
  {
   "cell_type": "code",
   "execution_count": 7,
   "metadata": {},
   "outputs": [],
   "source": [
    "import pymysql\n",
    "\n",
    "def save_to_database(tracks):\n",
    "    \"\"\"\n",
    "    곡 정보를 MySQL 데이터베이스에 저장\n",
    "    :param tracks: 곡 정보 리스트\n",
    "    \"\"\"\n",
    "    connection = pymysql.connect(\n",
    "        host=\"localhost\",\n",
    "        port= 3306,\n",
    "        user = 'root',\n",
    "        password=\"1111\",\n",
    "        database=\"prome_15\",\n",
    "        charset=\"utf8mb4\"\n",
    "    ) # sql 커넥션\n",
    "    try:\n",
    "        with connection.cursor() as cursor:\n",
    "            for track in tracks:\n",
    "                sql = \"\"\"\n",
    "                INSERT INTO bgm_track (BGM_name, BGM_url,artist,album_cover)\n",
    "                VALUES (%s, %s, %s, %s)\n",
    "                \"\"\"\n",
    "                cursor.execute(sql, (track['BGM_name'], track['BGM_url'],track['artist'], track['album_cover']))\n",
    "        connection.commit()\n",
    "    finally:\n",
    "        connection.close()\n",
    "        \n"
   ]
  },
  {
   "cell_type": "code",
   "execution_count": 8,
   "metadata": {},
   "outputs": [],
   "source": [
    "\n",
    "# 데이터 저장 예제\n",
    "if __name__ == \"__main__\":\n",
    "    tracks = get_tracks_by_keyword(\"아이유유\", limit=5)\n",
    "    save_to_database(tracks)\n"
   ]
  }
 ],
 "metadata": {
  "kernelspec": {
   "display_name": "Python 3",
   "language": "python",
   "name": "python3"
  },
  "language_info": {
   "codemirror_mode": {
    "name": "ipython",
    "version": 3
   },
   "file_extension": ".py",
   "mimetype": "text/x-python",
   "name": "python",
   "nbconvert_exporter": "python",
   "pygments_lexer": "ipython3",
   "version": "3.11.1"
  }
 },
 "nbformat": 4,
 "nbformat_minor": 2
}
