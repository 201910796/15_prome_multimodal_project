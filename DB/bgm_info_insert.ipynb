{
 "cells": [
  {
   "cell_type": "code",
   "execution_count": null,
   "metadata": {},
   "outputs": [],
   "source": [
    "pip install pymysql"
   ]
  },
  {
   "cell_type": "code",
   "execution_count": null,
   "metadata": {},
   "outputs": [],
   "source": [
    "pip install spotipy"
   ]
  },
  {
   "cell_type": "code",
   "execution_count": 7,
   "metadata": {},
   "outputs": [],
   "source": [
    "from spotipy.oauth2 import SpotifyClientCredentials\n",
    "import spotipy\n",
    "import pymysql\n",
    "from datetime import datetime"
   ]
  },
  {
   "cell_type": "code",
   "execution_count": 6,
   "metadata": {},
   "outputs": [],
   "source": [
    "# Spotify API 인증 설정\n",
    "client_id = \"9bd86ce2eea34cccb8961d47792e9796\"  # Spotify Developer Dashboard에서 발급받은 Client ID\n",
    "client_secret = \"71c37f5b363a47ca8ce1248ed4f3dfaa\"  # Spotify Developer Dashboard에서 발급받은 Client Secret"
   ]
  },
  {
   "cell_type": "code",
   "execution_count": 8,
   "metadata": {},
   "outputs": [],
   "source": [
    "sp = spotipy.Spotify(auth_manager=SpotifyClientCredentials(client_id=client_id, client_secret=client_secret))"
   ]
  },
  {
   "cell_type": "code",
   "execution_count": 1,
   "metadata": {},
   "outputs": [],
   "source": [
    "def get_track_id_from_url(url):\n",
    "    \"\"\"\n",
    "    Spotify URL에서 트랙 ID 추출\n",
    "    :param url: Spotify 트랙 URL\n",
    "    :return: 트랙 ID\n",
    "    \"\"\"\n",
    "    return url.split('/')[-1].split('?')[0]"
   ]
  },
  {
   "cell_type": "code",
   "execution_count": 3,
   "metadata": {},
   "outputs": [],
   "source": [
    "def get_tracks_by_keyword(keyword, limit=5):\n",
    "    \"\"\"\n",
    "    Spotify API를 통해 특정 키워드로 트랙 검색\n",
    "    :param keyword: 검색 키워드 (e.g., \"relaxing music\")\n",
    "    :param limit: 가져올 곡의 수\n",
    "    :return: 곡 정보 리스트\n",
    "    \"\"\"\n",
    "    results = sp.search(q=keyword, limit=limit, type=\"track\") # 키워드 검색 해 트랙 가져오기\n",
    "    tracks = [] # 트랙별 정보 딕셔너리가 담긴 리스트(name, )\n",
    "    for item in results['tracks']['items']:\n",
    "        # 트랙별 정보\n",
    "        track_info = {\n",
    "            \"bgm_id\": get_track_id_from_url(item['external_urls']['spotify']),  # URL에서 BGM ID 추출\n",
    "            \"bgm_name\": item['name'],  # 곡 이름\n",
    "            \"bgm_url\": item['external_urls']['spotify'],  # Spotify URL\n",
    "            \"artist\": \", \".join([artist['name'] for artist in item['artists']]),  # 아티스트 이름들 (여러 명일 경우 ','로 연결)\n",
    "            \"album_cover\": item['album']['images'][0]['url'] if item['album']['images'] else None,  # 앨범 커버 이미지 URL\n",
    "        }\n",
    "        tracks.append(track_info)  # 리스트에 추가\n",
    "    return tracks\n",
    "\n"
   ]
  },
  {
   "cell_type": "code",
   "execution_count": 9,
   "metadata": {},
   "outputs": [
    {
     "name": "stdout",
     "output_type": "stream",
     "text": [
      "검색된 곡 정보:\n",
      "bgm 고유 아이디: 5CievkVz0QepORWuOsFHiu곡 이름: Surprise!, 아티스트: JANNABI, URL: https://open.spotify.com/track/5CievkVz0QepORWuOsFHiu, 앨범 커버: https://i.scdn.co/image/ab67616d0000b273847b562f6711f072dd2b11a6\n",
      "bgm 고유 아이디: 10nyNJ6zNy2YVYLrcwLccB곡 이름: No Surprises, 아티스트: Radiohead, URL: https://open.spotify.com/track/10nyNJ6zNy2YVYLrcwLccB, 앨범 커버: https://i.scdn.co/image/ab67616d0000b273c8b444df094279e70d0ed856\n",
      "bgm 고유 아이디: 40cWWy4RgszGtvmmiAaJLM곡 이름: 항복, 아티스트: MRCH, URL: https://open.spotify.com/track/40cWWy4RgszGtvmmiAaJLM, 앨범 커버: https://i.scdn.co/image/ab67616d0000b273e58b1f86bf1ddb97e3de1e0d\n",
      "bgm 고유 아이디: 1ukI7i3fps8zaBlEf18v0l곡 이름: Surprise Yourself, 아티스트: Jack Garratt, URL: https://open.spotify.com/track/1ukI7i3fps8zaBlEf18v0l, 앨범 커버: https://i.scdn.co/image/ab67616d0000b27307143820b9a752eef7eb8643\n",
      "bgm 고유 아이디: 3tDAE08rX2Rnsg7Hp943f1곡 이름: SURPRISE-DRIVE, 아티스트: Mitsuru Matsuoka EARNEST DRIVE, URL: https://open.spotify.com/track/3tDAE08rX2Rnsg7Hp943f1, 앨범 커버: https://i.scdn.co/image/ab67616d0000b273f4f0ba48bb082e43105fbdea\n",
      "bgm 고유 아이디: 2uYPBoe4GTnLMmBENxkTAS곡 이름: Exaggerated Love, 아티스트: Redoor, URL: https://open.spotify.com/track/2uYPBoe4GTnLMmBENxkTAS, 앨범 커버: https://i.scdn.co/image/ab67616d0000b2738638f4ba489b5a04e0fa2046\n",
      "bgm 고유 아이디: 7bGZglIRdZOvnrTIt2Y3Nc곡 이름: Surprise Yourself, 아티스트: Jack Garratt, URL: https://open.spotify.com/track/7bGZglIRdZOvnrTIt2Y3Nc, 앨범 커버: https://i.scdn.co/image/ab67616d0000b27305b54cf3e2829e8759bae9b6\n",
      "bgm 고유 아이디: 0NocXhLse2zE02iHg5q3eu곡 이름: Surprise!, 아티스트: Livingston, URL: https://open.spotify.com/track/0NocXhLse2zE02iHg5q3eu, 앨범 커버: https://i.scdn.co/image/ab67616d0000b2739e29fcb2a0b61b2b11bf7332\n",
      "bgm 고유 아이디: 0s25odxo0VQWsGiCXz5o4Z곡 이름: Uprise (mini), 아티스트: 봄의 사랑, URL: https://open.spotify.com/track/0s25odxo0VQWsGiCXz5o4Z, 앨범 커버: https://i.scdn.co/image/ab67616d0000b273055a208c65fb6c3422b21a78\n",
      "bgm 고유 아이디: 6YaC65M3ujeROidG3b09J0곡 이름: Surprise Yourself, 아티스트: Jack Garratt, URL: https://open.spotify.com/track/6YaC65M3ujeROidG3b09J0, 앨범 커버: https://i.scdn.co/image/ab67616d0000b273ee053a3589ea64a4a4d00dc8\n"
     ]
    }
   ],
   "source": [
    "# 사용 예제\n",
    "if __name__ == \"__main__\":\n",
    "    keyword = \"surprise\"  # 검색 키워드\n",
    "    tracks = get_tracks_by_keyword(keyword, limit=10)  # 상위 5곡 검색\n",
    "\n",
    "    print(\"검색된 곡 정보:\")\n",
    "    for track in tracks:\n",
    "        print(f\"bgm 고유 아이디: {track['bgm_id']}곡 이름: {track['bgm_name']}, 아티스트: {track['artist']}, URL: {track['bgm_url']}, 앨범 커버: {track['album_cover']}\")"
   ]
  },
  {
   "cell_type": "code",
   "execution_count": 7,
   "metadata": {},
   "outputs": [],
   "source": [
    "def save_to_database(tracks):\n",
    "    \"\"\"\n",
    "    곡 정보를 MySQL 데이터베이스에 저장\n",
    "    :param tracks: 곡 정보 리스트\n",
    "    :param bgm_emotion: 곡 감정 정보\n",
    "    \"\"\"\n",
    "    connection = pymysql.connect(\n",
    "        host=\"localhost\",\n",
    "        port=3306,\n",
    "        user='root',\n",
    "        password=\"1111\",\n",
    "        database=\"prome_15\",\n",
    "        charset=\"utf8mb4\"\n",
    "    ) # sql 커넥션\n",
    "    try:\n",
    "        with connection.cursor() as cursor:\n",
    "            for track in tracks:\n",
    "                sql = \"\"\"\n",
    "                INSERT INTO bgm_track (\n",
    "                    bgm_id,bgm_name, bgm_url, artist, album_cover\n",
    "                )\n",
    "                VALUES (%s, %s, %s, %s, %s, %s)\n",
    "                \"\"\"\n",
    "                cursor.execute(sql, (\n",
    "                    track['bgm_id'],\n",
    "                    track['bgm_name'],\n",
    "                    track['bgm_url'],\n",
    "                    track['artist'],\n",
    "                    track['album_cover'],\n",
    "                ))\n",
    "        connection.commit()\n",
    "    finally:\n",
    "        connection.close()\n"
   ]
  },
  {
   "cell_type": "code",
   "execution_count": 8,
   "metadata": {},
   "outputs": [],
   "source": [
    "\n",
    "if __name__ == \"__main__\":\n",
    "    tracks = get_tracks_by_keyword(\"surpise\", limit=5)\n",
    "    save_to_database(tracks)\n"
   ]
  }
 ],
 "metadata": {
  "kernelspec": {
   "display_name": "Python 3",
   "language": "python",
   "name": "python3"
  },
  "language_info": {
   "codemirror_mode": {
    "name": "ipython",
    "version": 3
   },
   "file_extension": ".py",
   "mimetype": "text/x-python",
   "name": "python",
   "nbconvert_exporter": "python",
   "pygments_lexer": "ipython3",
   "version": "3.11.1"
  }
 },
 "nbformat": 4,
 "nbformat_minor": 2
}
