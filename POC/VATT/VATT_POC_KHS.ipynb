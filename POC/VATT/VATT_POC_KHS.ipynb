{
  "cells": [
    {
      "cell_type": "code",
      "execution_count": null,
      "metadata": {
        "colab": {
          "base_uri": "https://localhost:8080/"
        },
        "id": "D4cP973zaOT9",
        "outputId": "728b0955-8a5e-418f-d3dc-a80c3120ffbc"
      },
      "outputs": [
        {
          "name": "stdout",
          "output_type": "stream",
          "text": [
            "Drive already mounted at /content/drive; to attempt to forcibly remount, call drive.mount(\"/content/drive\", force_remount=True).\n"
          ]
        }
      ],
      "source": [
        "from google.colab import drive\n",
        "drive.mount('/content/drive')"
      ]
    },
    {
      "cell_type": "code",
      "execution_count": null,
      "metadata": {
        "id": "8xg2C_-tZw7s"
      },
      "outputs": [],
      "source": [
        "# 데이터 분석\n",
        "import os\n",
        "import pickle\n",
        "import zipfile\n",
        "from collections import Counter\n",
        "import pandas as pd\n",
        "\n",
        "# 트랜스포머 모델 구조\n",
        "import torch\n",
        "import torch.nn as nn\n",
        "from torch.nn import Transformer\n",
        "from tqdm import tqdm\n",
        "\n",
        "import torch.optim as optim\n",
        "from sklearn.metrics import accuracy_score, f1_score\n",
        "import matplotlib.pyplot as plt"
      ]
    },
    {
      "cell_type": "code",
      "execution_count": null,
      "metadata": {
        "id": "3Xq18H5GiUag"
      },
      "outputs": [],
      "source": [
        "from torch.utils.data import DataLoader, TensorDataset"
      ]
    },
    {
      "cell_type": "code",
      "execution_count": null,
      "metadata": {
        "id": "W969-Ru4akHa"
      },
      "outputs": [],
      "source": [
        "data_path = r'/content/drive/MyDrive/sns_multimodal_sentiment_pr/multimodal_dataset' # 데이터셋 저장위치\n",
        "file_path = r'/content/drive/MyDrive/sns_multimodal_sentiment_pr' # 프로젝트 파일 위치"
      ]
    },
    {
      "cell_type": "code",
      "execution_count": null,
      "metadata": {
        "colab": {
          "base_uri": "https://localhost:8080/"
        },
        "id": "t2_OJddliwrv",
        "outputId": "7656dc80-322f-46e0-bf67-7e59c4bd2bf9"
      },
      "outputs": [
        {
          "name": "stdout",
          "output_type": "stream",
          "text": [
            "Using device: cuda\n"
          ]
        }
      ],
      "source": [
        "# GPU 사용 여부 확인 및 설정\n",
        "device = torch.device(\"cuda\" if torch.cuda.is_available() else \"cpu\")\n",
        "print(f\"Using device: {device}\")"
      ]
    },
    {
      "cell_type": "markdown",
      "metadata": {
        "id": "QkDT-39hZDXs"
      },
      "source": [
        "# 모달리티별 데이터셋 다운로드\n",
        "## 비디오"
      ]
    },
    {
      "cell_type": "markdown",
      "metadata": {
        "id": "0oPULCkIcePM"
      },
      "source": [
        "### 비디오 파일 압축 해제"
      ]
    },
    {
      "cell_type": "code",
      "execution_count": null,
      "metadata": {
        "id": "IwtOu_5raSZq"
      },
      "outputs": [],
      "source": [
        "#압축파일 다운로드용 poc 이후에 함수로 만들어서 깔끔하게 사용하자\n",
        "\n",
        "# zip 파일 열기\n",
        "with zipfile.ZipFile(data_path + r'/video_embeddings_with_labels_dataset.zip', 'r') as zip_ref:\n",
        "    # 압축 파일 내의 파일 목록 가져오기\n",
        "    file_list = zip_ref.namelist()\n",
        "\n",
        "    # .m2ts 파일만 필터링\n",
        "    video_files = [file for file in file_list if file.endswith('.pkl')]\n",
        "    print(f\"추출할 비디오-피클 파일 목록: {video_files}\")\n",
        "\n",
        "    # 비디오 파일을 저장할 폴더 생성\n",
        "    extract_video_path = data_path + '//video_embeddings_with_labels_dataset'\n",
        "    os.makedirs(extract_video_path, exist_ok=True)\n",
        "\n",
        "    for video_file in video_files:\n",
        "        zip_ref.extract(video_file, extract_video_path)\n",
        "        print(f\"{video_file} 파일을 추출했습니다.\")\n",
        "\n",
        "print(\"표정비디오 파일 추출이 완료되었습니다.\")"
      ]
    },
    {
      "cell_type": "code",
      "execution_count": null,
      "metadata": {
        "id": "WYE_4UdO84-G"
      },
      "outputs": [],
      "source": [
        "def load_all_pickles(directory):\n",
        "    pickle_dict = {}\n",
        "    plk_file_cnt = 0\n",
        "    # 디렉토리 내의 모든 파일 탐색\n",
        "    for filename in os.listdir(directory):\n",
        "        if filename.endswith('.pkl'):\n",
        "            filepath = os.path.join(directory, filename)\n",
        "            filename = filename.split('_')[0].split('p')[1]\n",
        "            # 피클 파일 로드\n",
        "            with open(filepath, 'rb') as f:\n",
        "                try:\n",
        "                    data = pickle.load(f)\n",
        "                    pickle_dict[filename] = data\n",
        "                    plk_file_cnt += 1\n",
        "                except (pickle.UnpicklingError, EOFError):\n",
        "                    print(f\"Error loading {filename}. Skipping this file.\")\n",
        "\n",
        "    return pickle_dict\n",
        "\n",
        "# 사용 예시\n",
        "video_data = load_all_pickles(data_path + '/video_embeddings_with_labels_dataset/final_embeddings_with_labels')"
      ]
    },
    {
      "cell_type": "markdown",
      "metadata": {
        "id": "RFDcNrm8lHZ1"
      },
      "source": [
        "## 데이터 파악"
      ]
    },
    {
      "cell_type": "code",
      "execution_count": null,
      "metadata": {
        "colab": {
          "base_uri": "https://localhost:8080/"
        },
        "id": "a5Yn9qrslL8j",
        "outputId": "141296e7-094f-4618-f1af-4d2f5e90992f"
      },
      "outputs": [
        {
          "data": {
            "text/plain": [
              "(768,)"
            ]
          },
          "execution_count": 5,
          "metadata": {},
          "output_type": "execute_result"
        }
      ],
      "source": [
        "'''\n",
        "video 데이터\n",
        "삼중 딕셔너리 형식\n",
        "key : 클립파일\n",
        "value:  {key:프레임 번호 value: {key 'embedding','label' value:실제 임베딩벡터, 감정라벨} }\n",
        "\n",
        "사용예시\n",
        "all_video_pickles['850'][0]['label'] => 850번 비디오 파일에 0번 프레임의 감정라벨\n",
        "all_video_pickles['850'][1]['embedding'] => 850번 비디오 파일에 1번 프레임의 768차원의 임베딩 벡터\n",
        "'''\n",
        "video_data['850'][0]['embedding'].shape"
      ]
    },
    {
      "cell_type": "code",
      "execution_count": null,
      "metadata": {
        "colab": {
          "base_uri": "https://localhost:8080/"
        },
        "id": "m61n1qYidIvl",
        "outputId": "8bd484ef-e5da-4574-8321-30bcf0049850"
      },
      "outputs": [
        {
          "data": {
            "text/plain": [
              "509"
            ]
          },
          "execution_count": 31,
          "metadata": {},
          "output_type": "execute_result"
        }
      ],
      "source": [
        "# 509개의 비디오 파일\n",
        "len(video_data)"
      ]
    },
    {
      "cell_type": "code",
      "execution_count": null,
      "metadata": {
        "colab": {
          "base_uri": "https://localhost:8080/"
        },
        "id": "K_qIStc6lCy7",
        "outputId": "e18e792b-deae-442f-c904-49fd2d2d5507"
      },
      "outputs": [
        {
          "name": "stdout",
          "output_type": "stream",
          "text": [
            "Label: 3, Count: 49782\n",
            "Label: 1, Count: 73085\n",
            "Label: 0, Count: 41708\n",
            "Label: 4, Count: 35241\n",
            "Label: 2, Count: 11596\n",
            "Label: 5, Count: 24027\n"
          ]
        }
      ],
      "source": [
        "def calculate_label_count(pickle_dict):\n",
        "    label_counter = Counter()\n",
        "\n",
        "    # 각 클립 파일에 대해 반복\n",
        "    for clip, frames in pickle_dict.items():\n",
        "        # 각 프레임에 대해 반복\n",
        "        for frame, data in frames.items():\n",
        "            if 'label' in data:\n",
        "                label_counter[data['label']] += 1\n",
        "\n",
        "    return label_counter\n",
        "\n",
        "# 사용 예시\n",
        "label_counts = calculate_label_count(video_data)\n",
        "\n",
        "# 결과 출력\n",
        "for label, count in label_counts.items():\n",
        "    print(f\"Label: {label}, Count: {count}\")"
      ]
    },
    {
      "cell_type": "markdown",
      "metadata": {
        "id": "oAaeuEDIlyzq"
      },
      "source": [
        "## 오디오\n",
        "### .pt파일(임베딩 벡터) 와 .pkl파일(라벨파일) 이용\n",
        "### 라벨인코더 학습된 라벨 : 학습된 라벨:  ['Anger' 'Disgust' 'Fear' 'Joy' 'Sad' 'Surprise']"
      ]
    },
    {
      "cell_type": "code",
      "execution_count": null,
      "metadata": {
        "colab": {
          "base_uri": "https://localhost:8080/"
        },
        "id": "laSqvUJPq9YV",
        "outputId": "62f5e3de-67e1-422c-96cf-d083904d582f"
      },
      "outputs": [
        {
          "name": "stdout",
          "output_type": "stream",
          "text": [
            "       feature0   feature1   feature2   feature3   feature4   feature5  \\\n",
            "3440 -58.659317 -51.784115  52.293150  39.594425 -51.634136 -34.141113   \n",
            "3441 -66.391685 -58.268600  59.215714  45.533780 -56.273182 -39.581055   \n",
            "3442 -64.365830 -54.211853  55.036770  48.416466 -51.172886 -39.003790   \n",
            "3443 -59.195960 -51.119140  51.954360  43.638165 -52.837620 -38.817528   \n",
            "3444 -52.915615 -46.662487  50.691437  41.163307 -50.120620 -35.447388   \n",
            "\n",
            "      feature6   feature7  feature8  feature9  ...  feature759  feature760  \\\n",
            "3440 -2.427839 -14.605315 -1.756148 -5.909170  ...  -70.441605   13.726962   \n",
            "3441 -4.880929 -18.391668 -0.821934 -6.091936  ...  -79.488740   15.851904   \n",
            "3442 -3.194179 -12.685541  0.435401 -6.084556  ...  -75.935800   16.499413   \n",
            "3443 -2.694785 -12.124321 -2.260647 -4.181356  ...  -73.972380   12.483691   \n",
            "3444 -4.412037 -11.780149 -2.176205 -6.656289  ...  -67.263160   11.297727   \n",
            "\n",
            "      feature761  feature762  feature763  feature764  feature765  feature766  \\\n",
            "3440  -39.097954   -75.00824   15.336667   24.609982  -18.167114   14.760511   \n",
            "3441  -41.923110   -81.63721   13.785809   25.554768  -19.618345   16.838745   \n",
            "3442  -42.566105   -79.66687   12.260139   24.383160  -15.889221   16.163544   \n",
            "3443  -42.511800   -76.81765   14.543295   28.398876  -21.461441   18.988523   \n",
            "3444  -36.578987   -69.63847   16.362734   24.134846  -20.237545   16.967495   \n",
            "\n",
            "      feature767  emotion_label  \n",
            "3440  -49.926807              4  \n",
            "3441  -56.987305              4  \n",
            "3442  -56.105980              4  \n",
            "3443  -50.911000              4  \n",
            "3444  -44.803150              4  \n",
            "\n",
            "[5 rows x 769 columns]\n"
          ]
        }
      ],
      "source": [
        "# CSV 파일 읽기\n",
        "audio_csv_path = data_path + '/audio/audio_embeddings_with_labels.csv'  # CSV 파일 경로를 입력하세요\n",
        "audio_csv = pd.read_csv(audio_csv_path)\n",
        "\n",
        "# 데이터 확인 (상위 5개 행 출력)\n",
        "print(audio_csv.tail())"
      ]
    },
    {
      "cell_type": "code",
      "execution_count": null,
      "metadata": {
        "colab": {
          "base_uri": "https://localhost:8080/"
        },
        "id": "Wr7eKOfD5Axo",
        "outputId": "6ea07c03-ab44-4984-a91a-8088f9b36297"
      },
      "outputs": [
        {
          "data": {
            "text/plain": [
              "(3445, 769)"
            ]
          },
          "execution_count": 13,
          "metadata": {},
          "output_type": "execute_result"
        }
      ],
      "source": [
        "audio_csv.shape # 한행이 하나의 데이터 한열이 하나의 차원 마지막열 감정라벨"
      ]
    },
    {
      "cell_type": "code",
      "execution_count": null,
      "metadata": {
        "colab": {
          "base_uri": "https://localhost:8080/",
          "height": 304
        },
        "id": "SuTYM5ITbD22",
        "outputId": "191a0af0-f71b-41c4-86a7-42ba7ae4a91c"
      },
      "outputs": [
        {
          "data": {
            "text/html": [
              "<div>\n",
              "<style scoped>\n",
              "    .dataframe tbody tr th:only-of-type {\n",
              "        vertical-align: middle;\n",
              "    }\n",
              "\n",
              "    .dataframe tbody tr th {\n",
              "        vertical-align: top;\n",
              "    }\n",
              "\n",
              "    .dataframe thead th {\n",
              "        text-align: right;\n",
              "    }\n",
              "</style>\n",
              "<table border=\"1\" class=\"dataframe\">\n",
              "  <thead>\n",
              "    <tr style=\"text-align: right;\">\n",
              "      <th></th>\n",
              "      <th>count</th>\n",
              "    </tr>\n",
              "    <tr>\n",
              "      <th>emotion_label</th>\n",
              "      <th></th>\n",
              "    </tr>\n",
              "  </thead>\n",
              "  <tbody>\n",
              "    <tr>\n",
              "      <th>3</th>\n",
              "      <td>1705</td>\n",
              "    </tr>\n",
              "    <tr>\n",
              "      <th>0</th>\n",
              "      <td>693</td>\n",
              "    </tr>\n",
              "    <tr>\n",
              "      <th>4</th>\n",
              "      <td>619</td>\n",
              "    </tr>\n",
              "    <tr>\n",
              "      <th>5</th>\n",
              "      <td>281</td>\n",
              "    </tr>\n",
              "    <tr>\n",
              "      <th>1</th>\n",
              "      <td>85</td>\n",
              "    </tr>\n",
              "    <tr>\n",
              "      <th>2</th>\n",
              "      <td>62</td>\n",
              "    </tr>\n",
              "  </tbody>\n",
              "</table>\n",
              "</div><br><label><b>dtype:</b> int64</label>"
            ],
            "text/plain": [
              "emotion_label\n",
              "3    1705\n",
              "0     693\n",
              "4     619\n",
              "5     281\n",
              "1      85\n",
              "2      62\n",
              "Name: count, dtype: int64"
            ]
          },
          "execution_count": 14,
          "metadata": {},
          "output_type": "execute_result"
        }
      ],
      "source": [
        "audio_csv['emotion_label'].value_counts()"
      ]
    },
    {
      "cell_type": "code",
      "execution_count": null,
      "metadata": {
        "colab": {
          "base_uri": "https://localhost:8080/"
        },
        "id": "J8fhMi58_R6L",
        "outputId": "f88bf817-a86e-4017-c651-3c525f1bf749"
      },
      "outputs": [
        {
          "name": "stdout",
          "output_type": "stream",
          "text": [
            "torch.Size([3445, 768])\n",
            "torch.Size([3445])\n"
          ]
        }
      ],
      "source": [
        "# 전체 768차원 임베딩과 라벨 분리\n",
        "audio_embeddings = torch.tensor(audio_csv.iloc[:, :-1].values, dtype=torch.float32)  # 768차원 임베딩\n",
        "encoded_labels_tensor = torch.tensor(audio_csv['emotion_label'].values, dtype=torch.long)  # 감정 라벨\n",
        "\n",
        "# 텐서의 형태 확인\n",
        "print(audio_embeddings.shape)  # (3445, 768)\n",
        "print(encoded_labels_tensor.shape)  # (3445,)"
      ]
    },
    {
      "cell_type": "markdown",
      "metadata": {
        "id": "QmYWXqa8l3Fs"
      },
      "source": [
        "## 텍스트"
      ]
    },
    {
      "cell_type": "code",
      "execution_count": null,
      "metadata": {
        "colab": {
          "base_uri": "https://localhost:8080/"
        },
        "id": "sJVZ6Zdsld3b",
        "outputId": "47092008-ac75-49f1-84ff-c89da6935ee5"
      },
      "outputs": [
        {
          "name": "stdout",
          "output_type": "stream",
          "text": [
            "   embedding_0  embedding_1  embedding_2  embedding_3  embedding_4  \\\n",
            "0     0.282235    -0.001824    -0.028005    -8.266879    -0.087873   \n",
            "1     0.406004    -0.136235     0.151475    -6.331607     0.055239   \n",
            "2     0.117374     0.125243     0.261748    -7.319091     0.208839   \n",
            "3     0.261582     0.122135     0.029367    -8.301798    -0.016624   \n",
            "4     0.326198     0.077952    -0.000108    -7.710666     0.042090   \n",
            "\n",
            "   embedding_5  embedding_6  embedding_7  embedding_8  embedding_9  ...  \\\n",
            "0    -0.002781    -0.150694     0.161355    -0.817538    -0.232642  ...   \n",
            "1     0.149143    -0.062489     0.230630    -1.463283    -0.084049  ...   \n",
            "2     0.084856    -0.083450     0.042545    -0.876277    -0.229047  ...   \n",
            "3     0.055222    -0.059303     0.137835    -0.626130    -0.303440  ...   \n",
            "4     0.154682    -0.049006     0.151745    -0.898616    -0.385771  ...   \n",
            "\n",
            "   embedding_759  embedding_760  embedding_761  embedding_762  embedding_763  \\\n",
            "0      -0.125309       0.010383       0.115650       0.110189      -0.337971   \n",
            "1       0.087337      -0.004873      -0.004906       0.167272      -0.275787   \n",
            "2      -0.169843       0.103479       0.136656      -0.110762      -0.652272   \n",
            "3      -0.042310       0.046397       0.056300      -0.069139      -0.218533   \n",
            "4      -0.199921      -0.063995       0.110962      -0.046417      -0.331694   \n",
            "\n",
            "   embedding_764  embedding_765  embedding_766  embedding_767  emotion_label  \n",
            "0      -0.185998       0.434425      -0.287345      -0.222716              0  \n",
            "1       0.256344       0.203217      -0.356951      -0.229874              0  \n",
            "2       0.047706       0.097611      -0.321075      -0.159181              0  \n",
            "3      -0.218683       0.326677      -0.335177      -0.108356              0  \n",
            "4      -0.137196       0.232738      -0.311901      -0.335413              0  \n",
            "\n",
            "[5 rows x 769 columns]\n"
          ]
        }
      ],
      "source": [
        "# CSV 파일 읽기\n",
        "text_file_path = data_path + '/text_embeddings_with_labels_kobert.csv'  # CSV 파일 경로를 입력하세요\n",
        "text_data = pd.read_csv(text_file_path)\n",
        "\n",
        "# 데이터 확인 (상위 5개 행 출력)\n",
        "print(text_data.head())"
      ]
    },
    {
      "cell_type": "markdown",
      "metadata": {
        "id": "ua_3kOoFqHDc"
      },
      "source": [
        "### 데이터 파악"
      ]
    },
    {
      "cell_type": "code",
      "execution_count": null,
      "metadata": {
        "colab": {
          "base_uri": "https://localhost:8080/"
        },
        "id": "w63eg14xpAsE",
        "outputId": "26624f57-fe52-4fdb-c086-825fede66c23"
      },
      "outputs": [
        {
          "data": {
            "text/plain": [
              "(103849, 769)"
            ]
          },
          "execution_count": 7,
          "metadata": {},
          "output_type": "execute_result"
        }
      ],
      "source": [
        "text_data.shape"
      ]
    },
    {
      "cell_type": "code",
      "execution_count": null,
      "metadata": {
        "colab": {
          "base_uri": "https://localhost:8080/",
          "height": 350
        },
        "id": "vvHTGn_5qBCL",
        "outputId": "7aebf24d-5715-42f5-da5f-df2e4934d435"
      },
      "outputs": [
        {
          "data": {
            "application/vnd.google.colaboratory.intrinsic+json": {
              "type": "dataframe"
            },
            "text/html": [
              "\n",
              "  <div id=\"df-1583a1ba-b421-4693-b0f5-988c76d4eb07\" class=\"colab-df-container\">\n",
              "    <div>\n",
              "<style scoped>\n",
              "    .dataframe tbody tr th:only-of-type {\n",
              "        vertical-align: middle;\n",
              "    }\n",
              "\n",
              "    .dataframe tbody tr th {\n",
              "        vertical-align: top;\n",
              "    }\n",
              "\n",
              "    .dataframe thead th {\n",
              "        text-align: right;\n",
              "    }\n",
              "</style>\n",
              "<table border=\"1\" class=\"dataframe\">\n",
              "  <thead>\n",
              "    <tr style=\"text-align: right;\">\n",
              "      <th></th>\n",
              "      <th>embedding_0</th>\n",
              "      <th>embedding_1</th>\n",
              "      <th>embedding_2</th>\n",
              "      <th>embedding_3</th>\n",
              "      <th>embedding_4</th>\n",
              "      <th>embedding_5</th>\n",
              "      <th>embedding_6</th>\n",
              "      <th>embedding_7</th>\n",
              "      <th>embedding_8</th>\n",
              "      <th>embedding_9</th>\n",
              "      <th>...</th>\n",
              "      <th>embedding_759</th>\n",
              "      <th>embedding_760</th>\n",
              "      <th>embedding_761</th>\n",
              "      <th>embedding_762</th>\n",
              "      <th>embedding_763</th>\n",
              "      <th>embedding_764</th>\n",
              "      <th>embedding_765</th>\n",
              "      <th>embedding_766</th>\n",
              "      <th>embedding_767</th>\n",
              "      <th>emotion_label</th>\n",
              "    </tr>\n",
              "  </thead>\n",
              "  <tbody>\n",
              "    <tr>\n",
              "      <th>count</th>\n",
              "      <td>103849.000000</td>\n",
              "      <td>103849.000000</td>\n",
              "      <td>103849.000000</td>\n",
              "      <td>103849.000000</td>\n",
              "      <td>103849.000000</td>\n",
              "      <td>103849.000000</td>\n",
              "      <td>103849.000000</td>\n",
              "      <td>103849.000000</td>\n",
              "      <td>103849.000000</td>\n",
              "      <td>103849.000000</td>\n",
              "      <td>...</td>\n",
              "      <td>103849.000000</td>\n",
              "      <td>103849.000000</td>\n",
              "      <td>103849.000000</td>\n",
              "      <td>103849.000000</td>\n",
              "      <td>103849.000000</td>\n",
              "      <td>103849.000000</td>\n",
              "      <td>103849.000000</td>\n",
              "      <td>103849.000000</td>\n",
              "      <td>103849.000000</td>\n",
              "      <td>103849.000000</td>\n",
              "    </tr>\n",
              "    <tr>\n",
              "      <th>mean</th>\n",
              "      <td>0.296722</td>\n",
              "      <td>0.003745</td>\n",
              "      <td>0.097043</td>\n",
              "      <td>-7.048025</td>\n",
              "      <td>0.038605</td>\n",
              "      <td>0.089866</td>\n",
              "      <td>-0.109904</td>\n",
              "      <td>0.108601</td>\n",
              "      <td>-0.985121</td>\n",
              "      <td>-0.190840</td>\n",
              "      <td>...</td>\n",
              "      <td>-0.123801</td>\n",
              "      <td>-0.036816</td>\n",
              "      <td>0.103862</td>\n",
              "      <td>0.017924</td>\n",
              "      <td>-0.355104</td>\n",
              "      <td>-0.164865</td>\n",
              "      <td>0.229294</td>\n",
              "      <td>-0.326351</td>\n",
              "      <td>-0.243494</td>\n",
              "      <td>2.535585</td>\n",
              "    </tr>\n",
              "    <tr>\n",
              "      <th>std</th>\n",
              "      <td>0.113769</td>\n",
              "      <td>0.113977</td>\n",
              "      <td>0.096665</td>\n",
              "      <td>1.096325</td>\n",
              "      <td>0.102619</td>\n",
              "      <td>0.078705</td>\n",
              "      <td>0.123311</td>\n",
              "      <td>0.111496</td>\n",
              "      <td>0.301565</td>\n",
              "      <td>0.137083</td>\n",
              "      <td>...</td>\n",
              "      <td>0.128774</td>\n",
              "      <td>0.100153</td>\n",
              "      <td>0.100155</td>\n",
              "      <td>0.117217</td>\n",
              "      <td>0.106748</td>\n",
              "      <td>0.164899</td>\n",
              "      <td>0.115966</td>\n",
              "      <td>0.108948</td>\n",
              "      <td>0.112202</td>\n",
              "      <td>1.792933</td>\n",
              "    </tr>\n",
              "    <tr>\n",
              "      <th>min</th>\n",
              "      <td>-0.389499</td>\n",
              "      <td>-0.668460</td>\n",
              "      <td>-0.310954</td>\n",
              "      <td>-10.032255</td>\n",
              "      <td>-0.560619</td>\n",
              "      <td>-0.420725</td>\n",
              "      <td>-0.671517</td>\n",
              "      <td>-0.673193</td>\n",
              "      <td>-2.138510</td>\n",
              "      <td>-0.670767</td>\n",
              "      <td>...</td>\n",
              "      <td>-0.682970</td>\n",
              "      <td>-0.602480</td>\n",
              "      <td>-0.656872</td>\n",
              "      <td>-0.586859</td>\n",
              "      <td>-1.100164</td>\n",
              "      <td>-0.803516</td>\n",
              "      <td>-0.503986</td>\n",
              "      <td>-0.762541</td>\n",
              "      <td>-0.767314</td>\n",
              "      <td>0.000000</td>\n",
              "    </tr>\n",
              "    <tr>\n",
              "      <th>25%</th>\n",
              "      <td>0.229150</td>\n",
              "      <td>-0.081978</td>\n",
              "      <td>0.031986</td>\n",
              "      <td>-7.934377</td>\n",
              "      <td>-0.006509</td>\n",
              "      <td>0.046206</td>\n",
              "      <td>-0.197521</td>\n",
              "      <td>0.061780</td>\n",
              "      <td>-1.197627</td>\n",
              "      <td>-0.303440</td>\n",
              "      <td>...</td>\n",
              "      <td>-0.200757</td>\n",
              "      <td>-0.084585</td>\n",
              "      <td>0.060389</td>\n",
              "      <td>-0.046417</td>\n",
              "      <td>-0.421748</td>\n",
              "      <td>-0.270335</td>\n",
              "      <td>0.173419</td>\n",
              "      <td>-0.378217</td>\n",
              "      <td>-0.328221</td>\n",
              "      <td>1.000000</td>\n",
              "    </tr>\n",
              "    <tr>\n",
              "      <th>50%</th>\n",
              "      <td>0.314676</td>\n",
              "      <td>0.026617</td>\n",
              "      <td>0.080355</td>\n",
              "      <td>-7.156435</td>\n",
              "      <td>0.042090</td>\n",
              "      <td>0.094411</td>\n",
              "      <td>-0.091594</td>\n",
              "      <td>0.133875</td>\n",
              "      <td>-0.904847</td>\n",
              "      <td>-0.191624</td>\n",
              "      <td>...</td>\n",
              "      <td>-0.139463</td>\n",
              "      <td>-0.040591</td>\n",
              "      <td>0.110962</td>\n",
              "      <td>0.004873</td>\n",
              "      <td>-0.337627</td>\n",
              "      <td>-0.183470</td>\n",
              "      <td>0.232738</td>\n",
              "      <td>-0.329457</td>\n",
              "      <td>-0.256385</td>\n",
              "      <td>3.000000</td>\n",
              "    </tr>\n",
              "    <tr>\n",
              "      <th>75%</th>\n",
              "      <td>0.374945</td>\n",
              "      <td>0.083771</td>\n",
              "      <td>0.151475</td>\n",
              "      <td>-6.331607</td>\n",
              "      <td>0.063854</td>\n",
              "      <td>0.138680</td>\n",
              "      <td>-0.027100</td>\n",
              "      <td>0.174416</td>\n",
              "      <td>-0.731074</td>\n",
              "      <td>-0.084049</td>\n",
              "      <td>...</td>\n",
              "      <td>-0.061316</td>\n",
              "      <td>0.013060</td>\n",
              "      <td>0.174584</td>\n",
              "      <td>0.102237</td>\n",
              "      <td>-0.275787</td>\n",
              "      <td>-0.094292</td>\n",
              "      <td>0.318268</td>\n",
              "      <td>-0.277711</td>\n",
              "      <td>-0.172404</td>\n",
              "      <td>4.000000</td>\n",
              "    </tr>\n",
              "    <tr>\n",
              "      <th>max</th>\n",
              "      <td>0.793972</td>\n",
              "      <td>0.397451</td>\n",
              "      <td>0.786993</td>\n",
              "      <td>0.138192</td>\n",
              "      <td>0.666872</td>\n",
              "      <td>0.515135</td>\n",
              "      <td>0.688970</td>\n",
              "      <td>0.760151</td>\n",
              "      <td>0.037334</td>\n",
              "      <td>0.644407</td>\n",
              "      <td>...</td>\n",
              "      <td>0.427174</td>\n",
              "      <td>0.761133</td>\n",
              "      <td>0.536436</td>\n",
              "      <td>0.546623</td>\n",
              "      <td>0.338989</td>\n",
              "      <td>0.354509</td>\n",
              "      <td>0.570784</td>\n",
              "      <td>0.535730</td>\n",
              "      <td>0.493046</td>\n",
              "      <td>5.000000</td>\n",
              "    </tr>\n",
              "  </tbody>\n",
              "</table>\n",
              "<p>8 rows × 769 columns</p>\n",
              "</div>\n",
              "    <div class=\"colab-df-buttons\">\n",
              "\n",
              "  <div class=\"colab-df-container\">\n",
              "    <button class=\"colab-df-convert\" onclick=\"convertToInteractive('df-1583a1ba-b421-4693-b0f5-988c76d4eb07')\"\n",
              "            title=\"Convert this dataframe to an interactive table.\"\n",
              "            style=\"display:none;\">\n",
              "\n",
              "  <svg xmlns=\"http://www.w3.org/2000/svg\" height=\"24px\" viewBox=\"0 -960 960 960\">\n",
              "    <path d=\"M120-120v-720h720v720H120Zm60-500h600v-160H180v160Zm220 220h160v-160H400v160Zm0 220h160v-160H400v160ZM180-400h160v-160H180v160Zm440 0h160v-160H620v160ZM180-180h160v-160H180v160Zm440 0h160v-160H620v160Z\"/>\n",
              "  </svg>\n",
              "    </button>\n",
              "\n",
              "  <style>\n",
              "    .colab-df-container {\n",
              "      display:flex;\n",
              "      gap: 12px;\n",
              "    }\n",
              "\n",
              "    .colab-df-convert {\n",
              "      background-color: #E8F0FE;\n",
              "      border: none;\n",
              "      border-radius: 50%;\n",
              "      cursor: pointer;\n",
              "      display: none;\n",
              "      fill: #1967D2;\n",
              "      height: 32px;\n",
              "      padding: 0 0 0 0;\n",
              "      width: 32px;\n",
              "    }\n",
              "\n",
              "    .colab-df-convert:hover {\n",
              "      background-color: #E2EBFA;\n",
              "      box-shadow: 0px 1px 2px rgba(60, 64, 67, 0.3), 0px 1px 3px 1px rgba(60, 64, 67, 0.15);\n",
              "      fill: #174EA6;\n",
              "    }\n",
              "\n",
              "    .colab-df-buttons div {\n",
              "      margin-bottom: 4px;\n",
              "    }\n",
              "\n",
              "    [theme=dark] .colab-df-convert {\n",
              "      background-color: #3B4455;\n",
              "      fill: #D2E3FC;\n",
              "    }\n",
              "\n",
              "    [theme=dark] .colab-df-convert:hover {\n",
              "      background-color: #434B5C;\n",
              "      box-shadow: 0px 1px 3px 1px rgba(0, 0, 0, 0.15);\n",
              "      filter: drop-shadow(0px 1px 2px rgba(0, 0, 0, 0.3));\n",
              "      fill: #FFFFFF;\n",
              "    }\n",
              "  </style>\n",
              "\n",
              "    <script>\n",
              "      const buttonEl =\n",
              "        document.querySelector('#df-1583a1ba-b421-4693-b0f5-988c76d4eb07 button.colab-df-convert');\n",
              "      buttonEl.style.display =\n",
              "        google.colab.kernel.accessAllowed ? 'block' : 'none';\n",
              "\n",
              "      async function convertToInteractive(key) {\n",
              "        const element = document.querySelector('#df-1583a1ba-b421-4693-b0f5-988c76d4eb07');\n",
              "        const dataTable =\n",
              "          await google.colab.kernel.invokeFunction('convertToInteractive',\n",
              "                                                    [key], {});\n",
              "        if (!dataTable) return;\n",
              "\n",
              "        const docLinkHtml = 'Like what you see? Visit the ' +\n",
              "          '<a target=\"_blank\" href=https://colab.research.google.com/notebooks/data_table.ipynb>data table notebook</a>'\n",
              "          + ' to learn more about interactive tables.';\n",
              "        element.innerHTML = '';\n",
              "        dataTable['output_type'] = 'display_data';\n",
              "        await google.colab.output.renderOutput(dataTable, element);\n",
              "        const docLink = document.createElement('div');\n",
              "        docLink.innerHTML = docLinkHtml;\n",
              "        element.appendChild(docLink);\n",
              "      }\n",
              "    </script>\n",
              "  </div>\n",
              "\n",
              "\n",
              "<div id=\"df-ad85f835-24dc-435d-92b0-a04d0025ecfd\">\n",
              "  <button class=\"colab-df-quickchart\" onclick=\"quickchart('df-ad85f835-24dc-435d-92b0-a04d0025ecfd')\"\n",
              "            title=\"Suggest charts\"\n",
              "            style=\"display:none;\">\n",
              "\n",
              "<svg xmlns=\"http://www.w3.org/2000/svg\" height=\"24px\"viewBox=\"0 0 24 24\"\n",
              "     width=\"24px\">\n",
              "    <g>\n",
              "        <path d=\"M19 3H5c-1.1 0-2 .9-2 2v14c0 1.1.9 2 2 2h14c1.1 0 2-.9 2-2V5c0-1.1-.9-2-2-2zM9 17H7v-7h2v7zm4 0h-2V7h2v10zm4 0h-2v-4h2v4z\"/>\n",
              "    </g>\n",
              "</svg>\n",
              "  </button>\n",
              "\n",
              "<style>\n",
              "  .colab-df-quickchart {\n",
              "      --bg-color: #E8F0FE;\n",
              "      --fill-color: #1967D2;\n",
              "      --hover-bg-color: #E2EBFA;\n",
              "      --hover-fill-color: #174EA6;\n",
              "      --disabled-fill-color: #AAA;\n",
              "      --disabled-bg-color: #DDD;\n",
              "  }\n",
              "\n",
              "  [theme=dark] .colab-df-quickchart {\n",
              "      --bg-color: #3B4455;\n",
              "      --fill-color: #D2E3FC;\n",
              "      --hover-bg-color: #434B5C;\n",
              "      --hover-fill-color: #FFFFFF;\n",
              "      --disabled-bg-color: #3B4455;\n",
              "      --disabled-fill-color: #666;\n",
              "  }\n",
              "\n",
              "  .colab-df-quickchart {\n",
              "    background-color: var(--bg-color);\n",
              "    border: none;\n",
              "    border-radius: 50%;\n",
              "    cursor: pointer;\n",
              "    display: none;\n",
              "    fill: var(--fill-color);\n",
              "    height: 32px;\n",
              "    padding: 0;\n",
              "    width: 32px;\n",
              "  }\n",
              "\n",
              "  .colab-df-quickchart:hover {\n",
              "    background-color: var(--hover-bg-color);\n",
              "    box-shadow: 0 1px 2px rgba(60, 64, 67, 0.3), 0 1px 3px 1px rgba(60, 64, 67, 0.15);\n",
              "    fill: var(--button-hover-fill-color);\n",
              "  }\n",
              "\n",
              "  .colab-df-quickchart-complete:disabled,\n",
              "  .colab-df-quickchart-complete:disabled:hover {\n",
              "    background-color: var(--disabled-bg-color);\n",
              "    fill: var(--disabled-fill-color);\n",
              "    box-shadow: none;\n",
              "  }\n",
              "\n",
              "  .colab-df-spinner {\n",
              "    border: 2px solid var(--fill-color);\n",
              "    border-color: transparent;\n",
              "    border-bottom-color: var(--fill-color);\n",
              "    animation:\n",
              "      spin 1s steps(1) infinite;\n",
              "  }\n",
              "\n",
              "  @keyframes spin {\n",
              "    0% {\n",
              "      border-color: transparent;\n",
              "      border-bottom-color: var(--fill-color);\n",
              "      border-left-color: var(--fill-color);\n",
              "    }\n",
              "    20% {\n",
              "      border-color: transparent;\n",
              "      border-left-color: var(--fill-color);\n",
              "      border-top-color: var(--fill-color);\n",
              "    }\n",
              "    30% {\n",
              "      border-color: transparent;\n",
              "      border-left-color: var(--fill-color);\n",
              "      border-top-color: var(--fill-color);\n",
              "      border-right-color: var(--fill-color);\n",
              "    }\n",
              "    40% {\n",
              "      border-color: transparent;\n",
              "      border-right-color: var(--fill-color);\n",
              "      border-top-color: var(--fill-color);\n",
              "    }\n",
              "    60% {\n",
              "      border-color: transparent;\n",
              "      border-right-color: var(--fill-color);\n",
              "    }\n",
              "    80% {\n",
              "      border-color: transparent;\n",
              "      border-right-color: var(--fill-color);\n",
              "      border-bottom-color: var(--fill-color);\n",
              "    }\n",
              "    90% {\n",
              "      border-color: transparent;\n",
              "      border-bottom-color: var(--fill-color);\n",
              "    }\n",
              "  }\n",
              "</style>\n",
              "\n",
              "  <script>\n",
              "    async function quickchart(key) {\n",
              "      const quickchartButtonEl =\n",
              "        document.querySelector('#' + key + ' button');\n",
              "      quickchartButtonEl.disabled = true;  // To prevent multiple clicks.\n",
              "      quickchartButtonEl.classList.add('colab-df-spinner');\n",
              "      try {\n",
              "        const charts = await google.colab.kernel.invokeFunction(\n",
              "            'suggestCharts', [key], {});\n",
              "      } catch (error) {\n",
              "        console.error('Error during call to suggestCharts:', error);\n",
              "      }\n",
              "      quickchartButtonEl.classList.remove('colab-df-spinner');\n",
              "      quickchartButtonEl.classList.add('colab-df-quickchart-complete');\n",
              "    }\n",
              "    (() => {\n",
              "      let quickchartButtonEl =\n",
              "        document.querySelector('#df-ad85f835-24dc-435d-92b0-a04d0025ecfd button');\n",
              "      quickchartButtonEl.style.display =\n",
              "        google.colab.kernel.accessAllowed ? 'block' : 'none';\n",
              "    })();\n",
              "  </script>\n",
              "</div>\n",
              "\n",
              "    </div>\n",
              "  </div>\n"
            ],
            "text/plain": [
              "         embedding_0    embedding_1    embedding_2    embedding_3  \\\n",
              "count  103849.000000  103849.000000  103849.000000  103849.000000   \n",
              "mean        0.296722       0.003745       0.097043      -7.048025   \n",
              "std         0.113769       0.113977       0.096665       1.096325   \n",
              "min        -0.389499      -0.668460      -0.310954     -10.032255   \n",
              "25%         0.229150      -0.081978       0.031986      -7.934377   \n",
              "50%         0.314676       0.026617       0.080355      -7.156435   \n",
              "75%         0.374945       0.083771       0.151475      -6.331607   \n",
              "max         0.793972       0.397451       0.786993       0.138192   \n",
              "\n",
              "         embedding_4    embedding_5    embedding_6    embedding_7  \\\n",
              "count  103849.000000  103849.000000  103849.000000  103849.000000   \n",
              "mean        0.038605       0.089866      -0.109904       0.108601   \n",
              "std         0.102619       0.078705       0.123311       0.111496   \n",
              "min        -0.560619      -0.420725      -0.671517      -0.673193   \n",
              "25%        -0.006509       0.046206      -0.197521       0.061780   \n",
              "50%         0.042090       0.094411      -0.091594       0.133875   \n",
              "75%         0.063854       0.138680      -0.027100       0.174416   \n",
              "max         0.666872       0.515135       0.688970       0.760151   \n",
              "\n",
              "         embedding_8    embedding_9  ...  embedding_759  embedding_760  \\\n",
              "count  103849.000000  103849.000000  ...  103849.000000  103849.000000   \n",
              "mean       -0.985121      -0.190840  ...      -0.123801      -0.036816   \n",
              "std         0.301565       0.137083  ...       0.128774       0.100153   \n",
              "min        -2.138510      -0.670767  ...      -0.682970      -0.602480   \n",
              "25%        -1.197627      -0.303440  ...      -0.200757      -0.084585   \n",
              "50%        -0.904847      -0.191624  ...      -0.139463      -0.040591   \n",
              "75%        -0.731074      -0.084049  ...      -0.061316       0.013060   \n",
              "max         0.037334       0.644407  ...       0.427174       0.761133   \n",
              "\n",
              "       embedding_761  embedding_762  embedding_763  embedding_764  \\\n",
              "count  103849.000000  103849.000000  103849.000000  103849.000000   \n",
              "mean        0.103862       0.017924      -0.355104      -0.164865   \n",
              "std         0.100155       0.117217       0.106748       0.164899   \n",
              "min        -0.656872      -0.586859      -1.100164      -0.803516   \n",
              "25%         0.060389      -0.046417      -0.421748      -0.270335   \n",
              "50%         0.110962       0.004873      -0.337627      -0.183470   \n",
              "75%         0.174584       0.102237      -0.275787      -0.094292   \n",
              "max         0.536436       0.546623       0.338989       0.354509   \n",
              "\n",
              "       embedding_765  embedding_766  embedding_767  emotion_label  \n",
              "count  103849.000000  103849.000000  103849.000000  103849.000000  \n",
              "mean        0.229294      -0.326351      -0.243494       2.535585  \n",
              "std         0.115966       0.108948       0.112202       1.792933  \n",
              "min        -0.503986      -0.762541      -0.767314       0.000000  \n",
              "25%         0.173419      -0.378217      -0.328221       1.000000  \n",
              "50%         0.232738      -0.329457      -0.256385       3.000000  \n",
              "75%         0.318268      -0.277711      -0.172404       4.000000  \n",
              "max         0.570784       0.535730       0.493046       5.000000  \n",
              "\n",
              "[8 rows x 769 columns]"
            ]
          },
          "execution_count": 8,
          "metadata": {},
          "output_type": "execute_result"
        }
      ],
      "source": [
        "text_data.describe()"
      ]
    },
    {
      "cell_type": "code",
      "execution_count": null,
      "metadata": {
        "colab": {
          "base_uri": "https://localhost:8080/",
          "height": 304
        },
        "id": "xkylhP6BqWEV",
        "outputId": "28b817ee-b614-4dc3-ee7e-dd1611e7612f"
      },
      "outputs": [
        {
          "data": {
            "text/html": [
              "<div>\n",
              "<style scoped>\n",
              "    .dataframe tbody tr th:only-of-type {\n",
              "        vertical-align: middle;\n",
              "    }\n",
              "\n",
              "    .dataframe tbody tr th {\n",
              "        vertical-align: top;\n",
              "    }\n",
              "\n",
              "    .dataframe thead th {\n",
              "        text-align: right;\n",
              "    }\n",
              "</style>\n",
              "<table border=\"1\" class=\"dataframe\">\n",
              "  <thead>\n",
              "    <tr style=\"text-align: right;\">\n",
              "      <th></th>\n",
              "      <th>count</th>\n",
              "    </tr>\n",
              "    <tr>\n",
              "      <th>emotion_label</th>\n",
              "      <th></th>\n",
              "    </tr>\n",
              "  </thead>\n",
              "  <tbody>\n",
              "    <tr>\n",
              "      <th>5</th>\n",
              "      <td>20567</td>\n",
              "    </tr>\n",
              "    <tr>\n",
              "      <th>0</th>\n",
              "      <td>19711</td>\n",
              "    </tr>\n",
              "    <tr>\n",
              "      <th>4</th>\n",
              "      <td>17367</td>\n",
              "    </tr>\n",
              "    <tr>\n",
              "      <th>2</th>\n",
              "      <td>15999</td>\n",
              "    </tr>\n",
              "    <tr>\n",
              "      <th>1</th>\n",
              "      <td>15799</td>\n",
              "    </tr>\n",
              "    <tr>\n",
              "      <th>3</th>\n",
              "      <td>14406</td>\n",
              "    </tr>\n",
              "  </tbody>\n",
              "</table>\n",
              "</div><br><label><b>dtype:</b> int64</label>"
            ],
            "text/plain": [
              "emotion_label\n",
              "5    20567\n",
              "0    19711\n",
              "4    17367\n",
              "2    15999\n",
              "1    15799\n",
              "3    14406\n",
              "Name: count, dtype: int64"
            ]
          },
          "execution_count": 9,
          "metadata": {},
          "output_type": "execute_result"
        }
      ],
      "source": [
        "text_data['emotion_label'].value_counts()"
      ]
    },
    {
      "cell_type": "markdown",
      "metadata": {
        "id": "yoLXGFGzb8aJ"
      },
      "source": [
        "### 텍스트도 오디오 데이터와 동일하게 csv에서  트랜스포머 입력 임베딩과 라벨 텐서 추출"
      ]
    },
    {
      "cell_type": "code",
      "execution_count": null,
      "metadata": {
        "colab": {
          "base_uri": "https://localhost:8080/"
        },
        "id": "47LjCIkmcCW4",
        "outputId": "034f1d89-2643-4847-b195-652021584e22"
      },
      "outputs": [
        {
          "name": "stdout",
          "output_type": "stream",
          "text": [
            "torch.Size([103849, 768])\n",
            "torch.Size([103849])\n"
          ]
        }
      ],
      "source": [
        "# 전체 768차원 임베딩과 라벨 분리\n",
        "text_embeddings = torch.tensor(text_data.iloc[:, :-1].values, dtype=torch.float32)  # 768차원 임베딩\n",
        "encoded_text_labels_tensor = torch.tensor(text_data['emotion_label'].values, dtype=torch.long)  # 감정 라벨\n",
        "\n",
        "# 텐서의 형태 확인\n",
        "print(text_embeddings.shape)  # (3445, 768)\n",
        "print(encoded_text_labels_tensor.shape)  # (3445,)"
      ]
    },
    {
      "cell_type": "markdown",
      "metadata": {
        "id": "TYNE90uhnZsc"
      },
      "source": [
        "## 이미지"
      ]
    },
    {
      "cell_type": "code",
      "execution_count": null,
      "metadata": {
        "colab": {
          "base_uri": "https://localhost:8080/"
        },
        "id": "MDxI9_rmnbXy",
        "outputId": "6bff61b8-f3e2-4a3e-cdac-949f2b66daf3"
      },
      "outputs": [
        {
          "name": "stdout",
          "output_type": "stream",
          "text": [
            "   embedding_0  embedding_1  embedding_2  embedding_3  embedding_4  \\\n",
            "0     0.676258     0.126480     0.011349     0.337497     0.381315   \n",
            "1     0.640228     0.648514     0.304709    -0.076483     0.643950   \n",
            "2     0.375265     0.569587     0.001503    -0.017520     0.510857   \n",
            "3     0.684450     0.323732    -0.102422     0.157018     0.516019   \n",
            "4     0.077913     0.088050    -0.094371     0.117026     0.560978   \n",
            "\n",
            "   embedding_5  embedding_6  embedding_7  embedding_8  embedding_9  ...  \\\n",
            "0     0.131017     0.067836     0.390246    -0.213228    -0.452141  ...   \n",
            "1    -0.033903     0.756811     0.275337    -0.127085    -0.072901  ...   \n",
            "2     0.099864     0.584011     0.582919     0.109880     0.127415  ...   \n",
            "3    -0.037848     0.247245     0.502890     0.115673     0.054178  ...   \n",
            "4    -0.032629     0.050611     0.386414    -0.193570     0.228703  ...   \n",
            "\n",
            "   embedding_759  embedding_760  embedding_761  embedding_762  embedding_763  \\\n",
            "0       0.225760       0.196282       0.042231      -0.524038      -0.309703   \n",
            "1      -0.058688       0.095211       0.336607      -0.381143       0.066267   \n",
            "2      -0.041322       0.069796      -0.236444      -0.345855       0.204890   \n",
            "3       0.140475       0.050055       0.432080      -0.312495       0.274894   \n",
            "4       0.040155      -0.025820       0.075144       0.204576      -0.367943   \n",
            "\n",
            "   embedding_764  embedding_765  embedding_766  embedding_767  emotion_label  \n",
            "0       0.265136       0.691596      -0.526856      -1.089443              0  \n",
            "1       0.152065       0.537849      -0.118262      -0.952632              0  \n",
            "2       0.476538       0.534390      -0.151513      -1.002379              0  \n",
            "3       0.134229       0.326261      -0.260942      -0.822936              0  \n",
            "4       0.349725       0.414009      -0.157112      -1.194630              0  \n",
            "\n",
            "[5 rows x 769 columns]\n"
          ]
        }
      ],
      "source": [
        "# CSV 파일 읽기\n",
        "image_file_path = data_path + '/image_embeddings_with_labels_768.csv'  # CSV 파일 경로를 입력하세요\n",
        "image_data = pd.read_csv(image_file_path)\n",
        "\n",
        "# 데이터 확인 (상위 5개 행 출력)\n",
        "print(image_data.head())"
      ]
    },
    {
      "cell_type": "markdown",
      "metadata": {
        "id": "3b4A-UiRqKn0"
      },
      "source": [
        "### 데이터 파악"
      ]
    },
    {
      "cell_type": "code",
      "execution_count": null,
      "metadata": {
        "colab": {
          "base_uri": "https://localhost:8080/"
        },
        "id": "_IxooubBpkec",
        "outputId": "9798e149-f026-4e6e-de1d-e1a3832d7a33"
      },
      "outputs": [
        {
          "data": {
            "text/plain": [
              "(1980, 769)"
            ]
          },
          "execution_count": 63,
          "metadata": {},
          "output_type": "execute_result"
        }
      ],
      "source": [
        "image_data.shape"
      ]
    },
    {
      "cell_type": "code",
      "execution_count": null,
      "metadata": {
        "colab": {
          "base_uri": "https://localhost:8080/",
          "height": 350
        },
        "id": "waiL2I2Mpl2E",
        "outputId": "7b906aa1-97e7-44f8-abe7-dd5914071ac6"
      },
      "outputs": [
        {
          "data": {
            "application/vnd.google.colaboratory.intrinsic+json": {
              "type": "dataframe"
            },
            "text/html": [
              "\n",
              "  <div id=\"df-bdffc6a2-d712-4bfa-bff1-7c40102210b1\" class=\"colab-df-container\">\n",
              "    <div>\n",
              "<style scoped>\n",
              "    .dataframe tbody tr th:only-of-type {\n",
              "        vertical-align: middle;\n",
              "    }\n",
              "\n",
              "    .dataframe tbody tr th {\n",
              "        vertical-align: top;\n",
              "    }\n",
              "\n",
              "    .dataframe thead th {\n",
              "        text-align: right;\n",
              "    }\n",
              "</style>\n",
              "<table border=\"1\" class=\"dataframe\">\n",
              "  <thead>\n",
              "    <tr style=\"text-align: right;\">\n",
              "      <th></th>\n",
              "      <th>embedding_0</th>\n",
              "      <th>embedding_1</th>\n",
              "      <th>embedding_2</th>\n",
              "      <th>embedding_3</th>\n",
              "      <th>embedding_4</th>\n",
              "      <th>embedding_5</th>\n",
              "      <th>embedding_6</th>\n",
              "      <th>embedding_7</th>\n",
              "      <th>embedding_8</th>\n",
              "      <th>embedding_9</th>\n",
              "      <th>...</th>\n",
              "      <th>embedding_759</th>\n",
              "      <th>embedding_760</th>\n",
              "      <th>embedding_761</th>\n",
              "      <th>embedding_762</th>\n",
              "      <th>embedding_763</th>\n",
              "      <th>embedding_764</th>\n",
              "      <th>embedding_765</th>\n",
              "      <th>embedding_766</th>\n",
              "      <th>embedding_767</th>\n",
              "      <th>emotion_label</th>\n",
              "    </tr>\n",
              "  </thead>\n",
              "  <tbody>\n",
              "    <tr>\n",
              "      <th>count</th>\n",
              "      <td>1980.000000</td>\n",
              "      <td>1980.000000</td>\n",
              "      <td>1980.000000</td>\n",
              "      <td>1980.000000</td>\n",
              "      <td>1980.000000</td>\n",
              "      <td>1980.000000</td>\n",
              "      <td>1980.000000</td>\n",
              "      <td>1980.000000</td>\n",
              "      <td>1980.000000</td>\n",
              "      <td>1980.000000</td>\n",
              "      <td>...</td>\n",
              "      <td>1980.000000</td>\n",
              "      <td>1980.000000</td>\n",
              "      <td>1980.000000</td>\n",
              "      <td>1980.000000</td>\n",
              "      <td>1980.000000</td>\n",
              "      <td>1980.000000</td>\n",
              "      <td>1980.000000</td>\n",
              "      <td>1980.000000</td>\n",
              "      <td>1980.000000</td>\n",
              "      <td>1980.000000</td>\n",
              "    </tr>\n",
              "    <tr>\n",
              "      <th>mean</th>\n",
              "      <td>0.020606</td>\n",
              "      <td>0.000852</td>\n",
              "      <td>-0.005459</td>\n",
              "      <td>-0.003526</td>\n",
              "      <td>0.019617</td>\n",
              "      <td>-0.001209</td>\n",
              "      <td>-0.011376</td>\n",
              "      <td>-0.005932</td>\n",
              "      <td>0.009968</td>\n",
              "      <td>-0.009872</td>\n",
              "      <td>...</td>\n",
              "      <td>-0.029361</td>\n",
              "      <td>-0.020921</td>\n",
              "      <td>-0.020319</td>\n",
              "      <td>0.009399</td>\n",
              "      <td>0.017212</td>\n",
              "      <td>-0.014874</td>\n",
              "      <td>-0.025321</td>\n",
              "      <td>0.019332</td>\n",
              "      <td>0.017479</td>\n",
              "      <td>2.500000</td>\n",
              "    </tr>\n",
              "    <tr>\n",
              "      <th>std</th>\n",
              "      <td>0.314057</td>\n",
              "      <td>0.333236</td>\n",
              "      <td>0.325118</td>\n",
              "      <td>0.309469</td>\n",
              "      <td>0.348320</td>\n",
              "      <td>0.346621</td>\n",
              "      <td>0.332799</td>\n",
              "      <td>0.291971</td>\n",
              "      <td>0.326585</td>\n",
              "      <td>0.324545</td>\n",
              "      <td>...</td>\n",
              "      <td>0.333621</td>\n",
              "      <td>0.335565</td>\n",
              "      <td>0.339771</td>\n",
              "      <td>0.352838</td>\n",
              "      <td>0.322827</td>\n",
              "      <td>0.342397</td>\n",
              "      <td>0.326208</td>\n",
              "      <td>0.323025</td>\n",
              "      <td>0.342935</td>\n",
              "      <td>1.708257</td>\n",
              "    </tr>\n",
              "    <tr>\n",
              "      <th>min</th>\n",
              "      <td>-1.091884</td>\n",
              "      <td>-0.998439</td>\n",
              "      <td>-1.063059</td>\n",
              "      <td>-1.242696</td>\n",
              "      <td>-1.077222</td>\n",
              "      <td>-1.155611</td>\n",
              "      <td>-1.207635</td>\n",
              "      <td>-1.021483</td>\n",
              "      <td>-1.151230</td>\n",
              "      <td>-1.082255</td>\n",
              "      <td>...</td>\n",
              "      <td>-1.158044</td>\n",
              "      <td>-1.518431</td>\n",
              "      <td>-1.129370</td>\n",
              "      <td>-1.410665</td>\n",
              "      <td>-0.968830</td>\n",
              "      <td>-1.453961</td>\n",
              "      <td>-1.462829</td>\n",
              "      <td>-1.001828</td>\n",
              "      <td>-1.378061</td>\n",
              "      <td>0.000000</td>\n",
              "    </tr>\n",
              "    <tr>\n",
              "      <th>25%</th>\n",
              "      <td>-0.181673</td>\n",
              "      <td>-0.206478</td>\n",
              "      <td>-0.230732</td>\n",
              "      <td>-0.204452</td>\n",
              "      <td>-0.215199</td>\n",
              "      <td>-0.237859</td>\n",
              "      <td>-0.234011</td>\n",
              "      <td>-0.207113</td>\n",
              "      <td>-0.199757</td>\n",
              "      <td>-0.219114</td>\n",
              "      <td>...</td>\n",
              "      <td>-0.249479</td>\n",
              "      <td>-0.253948</td>\n",
              "      <td>-0.234156</td>\n",
              "      <td>-0.228284</td>\n",
              "      <td>-0.194873</td>\n",
              "      <td>-0.238162</td>\n",
              "      <td>-0.235841</td>\n",
              "      <td>-0.195948</td>\n",
              "      <td>-0.204717</td>\n",
              "      <td>1.000000</td>\n",
              "    </tr>\n",
              "    <tr>\n",
              "      <th>50%</th>\n",
              "      <td>0.018233</td>\n",
              "      <td>-0.002660</td>\n",
              "      <td>-0.008962</td>\n",
              "      <td>-0.003990</td>\n",
              "      <td>0.017419</td>\n",
              "      <td>0.001007</td>\n",
              "      <td>-0.015671</td>\n",
              "      <td>-0.013412</td>\n",
              "      <td>0.016377</td>\n",
              "      <td>-0.009242</td>\n",
              "      <td>...</td>\n",
              "      <td>-0.023900</td>\n",
              "      <td>-0.026007</td>\n",
              "      <td>-0.018559</td>\n",
              "      <td>0.017679</td>\n",
              "      <td>0.016155</td>\n",
              "      <td>-0.020514</td>\n",
              "      <td>-0.031783</td>\n",
              "      <td>0.005819</td>\n",
              "      <td>0.025962</td>\n",
              "      <td>2.500000</td>\n",
              "    </tr>\n",
              "    <tr>\n",
              "      <th>75%</th>\n",
              "      <td>0.241367</td>\n",
              "      <td>0.213127</td>\n",
              "      <td>0.222879</td>\n",
              "      <td>0.190131</td>\n",
              "      <td>0.253128</td>\n",
              "      <td>0.238733</td>\n",
              "      <td>0.216653</td>\n",
              "      <td>0.196464</td>\n",
              "      <td>0.220682</td>\n",
              "      <td>0.216033</td>\n",
              "      <td>...</td>\n",
              "      <td>0.196413</td>\n",
              "      <td>0.213677</td>\n",
              "      <td>0.211945</td>\n",
              "      <td>0.246683</td>\n",
              "      <td>0.231281</td>\n",
              "      <td>0.214075</td>\n",
              "      <td>0.183876</td>\n",
              "      <td>0.227027</td>\n",
              "      <td>0.242889</td>\n",
              "      <td>4.000000</td>\n",
              "    </tr>\n",
              "    <tr>\n",
              "      <th>max</th>\n",
              "      <td>1.011252</td>\n",
              "      <td>1.210432</td>\n",
              "      <td>1.111023</td>\n",
              "      <td>1.301837</td>\n",
              "      <td>1.165544</td>\n",
              "      <td>1.005549</td>\n",
              "      <td>0.974377</td>\n",
              "      <td>0.959645</td>\n",
              "      <td>1.449360</td>\n",
              "      <td>0.980307</td>\n",
              "      <td>...</td>\n",
              "      <td>1.083446</td>\n",
              "      <td>0.987914</td>\n",
              "      <td>1.099598</td>\n",
              "      <td>1.330509</td>\n",
              "      <td>1.475140</td>\n",
              "      <td>1.507157</td>\n",
              "      <td>1.062148</td>\n",
              "      <td>1.276900</td>\n",
              "      <td>1.277132</td>\n",
              "      <td>5.000000</td>\n",
              "    </tr>\n",
              "  </tbody>\n",
              "</table>\n",
              "<p>8 rows × 769 columns</p>\n",
              "</div>\n",
              "    <div class=\"colab-df-buttons\">\n",
              "\n",
              "  <div class=\"colab-df-container\">\n",
              "    <button class=\"colab-df-convert\" onclick=\"convertToInteractive('df-bdffc6a2-d712-4bfa-bff1-7c40102210b1')\"\n",
              "            title=\"Convert this dataframe to an interactive table.\"\n",
              "            style=\"display:none;\">\n",
              "\n",
              "  <svg xmlns=\"http://www.w3.org/2000/svg\" height=\"24px\" viewBox=\"0 -960 960 960\">\n",
              "    <path d=\"M120-120v-720h720v720H120Zm60-500h600v-160H180v160Zm220 220h160v-160H400v160Zm0 220h160v-160H400v160ZM180-400h160v-160H180v160Zm440 0h160v-160H620v160ZM180-180h160v-160H180v160Zm440 0h160v-160H620v160Z\"/>\n",
              "  </svg>\n",
              "    </button>\n",
              "\n",
              "  <style>\n",
              "    .colab-df-container {\n",
              "      display:flex;\n",
              "      gap: 12px;\n",
              "    }\n",
              "\n",
              "    .colab-df-convert {\n",
              "      background-color: #E8F0FE;\n",
              "      border: none;\n",
              "      border-radius: 50%;\n",
              "      cursor: pointer;\n",
              "      display: none;\n",
              "      fill: #1967D2;\n",
              "      height: 32px;\n",
              "      padding: 0 0 0 0;\n",
              "      width: 32px;\n",
              "    }\n",
              "\n",
              "    .colab-df-convert:hover {\n",
              "      background-color: #E2EBFA;\n",
              "      box-shadow: 0px 1px 2px rgba(60, 64, 67, 0.3), 0px 1px 3px 1px rgba(60, 64, 67, 0.15);\n",
              "      fill: #174EA6;\n",
              "    }\n",
              "\n",
              "    .colab-df-buttons div {\n",
              "      margin-bottom: 4px;\n",
              "    }\n",
              "\n",
              "    [theme=dark] .colab-df-convert {\n",
              "      background-color: #3B4455;\n",
              "      fill: #D2E3FC;\n",
              "    }\n",
              "\n",
              "    [theme=dark] .colab-df-convert:hover {\n",
              "      background-color: #434B5C;\n",
              "      box-shadow: 0px 1px 3px 1px rgba(0, 0, 0, 0.15);\n",
              "      filter: drop-shadow(0px 1px 2px rgba(0, 0, 0, 0.3));\n",
              "      fill: #FFFFFF;\n",
              "    }\n",
              "  </style>\n",
              "\n",
              "    <script>\n",
              "      const buttonEl =\n",
              "        document.querySelector('#df-bdffc6a2-d712-4bfa-bff1-7c40102210b1 button.colab-df-convert');\n",
              "      buttonEl.style.display =\n",
              "        google.colab.kernel.accessAllowed ? 'block' : 'none';\n",
              "\n",
              "      async function convertToInteractive(key) {\n",
              "        const element = document.querySelector('#df-bdffc6a2-d712-4bfa-bff1-7c40102210b1');\n",
              "        const dataTable =\n",
              "          await google.colab.kernel.invokeFunction('convertToInteractive',\n",
              "                                                    [key], {});\n",
              "        if (!dataTable) return;\n",
              "\n",
              "        const docLinkHtml = 'Like what you see? Visit the ' +\n",
              "          '<a target=\"_blank\" href=https://colab.research.google.com/notebooks/data_table.ipynb>data table notebook</a>'\n",
              "          + ' to learn more about interactive tables.';\n",
              "        element.innerHTML = '';\n",
              "        dataTable['output_type'] = 'display_data';\n",
              "        await google.colab.output.renderOutput(dataTable, element);\n",
              "        const docLink = document.createElement('div');\n",
              "        docLink.innerHTML = docLinkHtml;\n",
              "        element.appendChild(docLink);\n",
              "      }\n",
              "    </script>\n",
              "  </div>\n",
              "\n",
              "\n",
              "<div id=\"df-fb4777ae-9a2a-42d2-b889-ac805bea4c93\">\n",
              "  <button class=\"colab-df-quickchart\" onclick=\"quickchart('df-fb4777ae-9a2a-42d2-b889-ac805bea4c93')\"\n",
              "            title=\"Suggest charts\"\n",
              "            style=\"display:none;\">\n",
              "\n",
              "<svg xmlns=\"http://www.w3.org/2000/svg\" height=\"24px\"viewBox=\"0 0 24 24\"\n",
              "     width=\"24px\">\n",
              "    <g>\n",
              "        <path d=\"M19 3H5c-1.1 0-2 .9-2 2v14c0 1.1.9 2 2 2h14c1.1 0 2-.9 2-2V5c0-1.1-.9-2-2-2zM9 17H7v-7h2v7zm4 0h-2V7h2v10zm4 0h-2v-4h2v4z\"/>\n",
              "    </g>\n",
              "</svg>\n",
              "  </button>\n",
              "\n",
              "<style>\n",
              "  .colab-df-quickchart {\n",
              "      --bg-color: #E8F0FE;\n",
              "      --fill-color: #1967D2;\n",
              "      --hover-bg-color: #E2EBFA;\n",
              "      --hover-fill-color: #174EA6;\n",
              "      --disabled-fill-color: #AAA;\n",
              "      --disabled-bg-color: #DDD;\n",
              "  }\n",
              "\n",
              "  [theme=dark] .colab-df-quickchart {\n",
              "      --bg-color: #3B4455;\n",
              "      --fill-color: #D2E3FC;\n",
              "      --hover-bg-color: #434B5C;\n",
              "      --hover-fill-color: #FFFFFF;\n",
              "      --disabled-bg-color: #3B4455;\n",
              "      --disabled-fill-color: #666;\n",
              "  }\n",
              "\n",
              "  .colab-df-quickchart {\n",
              "    background-color: var(--bg-color);\n",
              "    border: none;\n",
              "    border-radius: 50%;\n",
              "    cursor: pointer;\n",
              "    display: none;\n",
              "    fill: var(--fill-color);\n",
              "    height: 32px;\n",
              "    padding: 0;\n",
              "    width: 32px;\n",
              "  }\n",
              "\n",
              "  .colab-df-quickchart:hover {\n",
              "    background-color: var(--hover-bg-color);\n",
              "    box-shadow: 0 1px 2px rgba(60, 64, 67, 0.3), 0 1px 3px 1px rgba(60, 64, 67, 0.15);\n",
              "    fill: var(--button-hover-fill-color);\n",
              "  }\n",
              "\n",
              "  .colab-df-quickchart-complete:disabled,\n",
              "  .colab-df-quickchart-complete:disabled:hover {\n",
              "    background-color: var(--disabled-bg-color);\n",
              "    fill: var(--disabled-fill-color);\n",
              "    box-shadow: none;\n",
              "  }\n",
              "\n",
              "  .colab-df-spinner {\n",
              "    border: 2px solid var(--fill-color);\n",
              "    border-color: transparent;\n",
              "    border-bottom-color: var(--fill-color);\n",
              "    animation:\n",
              "      spin 1s steps(1) infinite;\n",
              "  }\n",
              "\n",
              "  @keyframes spin {\n",
              "    0% {\n",
              "      border-color: transparent;\n",
              "      border-bottom-color: var(--fill-color);\n",
              "      border-left-color: var(--fill-color);\n",
              "    }\n",
              "    20% {\n",
              "      border-color: transparent;\n",
              "      border-left-color: var(--fill-color);\n",
              "      border-top-color: var(--fill-color);\n",
              "    }\n",
              "    30% {\n",
              "      border-color: transparent;\n",
              "      border-left-color: var(--fill-color);\n",
              "      border-top-color: var(--fill-color);\n",
              "      border-right-color: var(--fill-color);\n",
              "    }\n",
              "    40% {\n",
              "      border-color: transparent;\n",
              "      border-right-color: var(--fill-color);\n",
              "      border-top-color: var(--fill-color);\n",
              "    }\n",
              "    60% {\n",
              "      border-color: transparent;\n",
              "      border-right-color: var(--fill-color);\n",
              "    }\n",
              "    80% {\n",
              "      border-color: transparent;\n",
              "      border-right-color: var(--fill-color);\n",
              "      border-bottom-color: var(--fill-color);\n",
              "    }\n",
              "    90% {\n",
              "      border-color: transparent;\n",
              "      border-bottom-color: var(--fill-color);\n",
              "    }\n",
              "  }\n",
              "</style>\n",
              "\n",
              "  <script>\n",
              "    async function quickchart(key) {\n",
              "      const quickchartButtonEl =\n",
              "        document.querySelector('#' + key + ' button');\n",
              "      quickchartButtonEl.disabled = true;  // To prevent multiple clicks.\n",
              "      quickchartButtonEl.classList.add('colab-df-spinner');\n",
              "      try {\n",
              "        const charts = await google.colab.kernel.invokeFunction(\n",
              "            'suggestCharts', [key], {});\n",
              "      } catch (error) {\n",
              "        console.error('Error during call to suggestCharts:', error);\n",
              "      }\n",
              "      quickchartButtonEl.classList.remove('colab-df-spinner');\n",
              "      quickchartButtonEl.classList.add('colab-df-quickchart-complete');\n",
              "    }\n",
              "    (() => {\n",
              "      let quickchartButtonEl =\n",
              "        document.querySelector('#df-fb4777ae-9a2a-42d2-b889-ac805bea4c93 button');\n",
              "      quickchartButtonEl.style.display =\n",
              "        google.colab.kernel.accessAllowed ? 'block' : 'none';\n",
              "    })();\n",
              "  </script>\n",
              "</div>\n",
              "\n",
              "    </div>\n",
              "  </div>\n"
            ],
            "text/plain": [
              "       embedding_0  embedding_1  embedding_2  embedding_3  embedding_4  \\\n",
              "count  1980.000000  1980.000000  1980.000000  1980.000000  1980.000000   \n",
              "mean      0.020606     0.000852    -0.005459    -0.003526     0.019617   \n",
              "std       0.314057     0.333236     0.325118     0.309469     0.348320   \n",
              "min      -1.091884    -0.998439    -1.063059    -1.242696    -1.077222   \n",
              "25%      -0.181673    -0.206478    -0.230732    -0.204452    -0.215199   \n",
              "50%       0.018233    -0.002660    -0.008962    -0.003990     0.017419   \n",
              "75%       0.241367     0.213127     0.222879     0.190131     0.253128   \n",
              "max       1.011252     1.210432     1.111023     1.301837     1.165544   \n",
              "\n",
              "       embedding_5  embedding_6  embedding_7  embedding_8  embedding_9  ...  \\\n",
              "count  1980.000000  1980.000000  1980.000000  1980.000000  1980.000000  ...   \n",
              "mean     -0.001209    -0.011376    -0.005932     0.009968    -0.009872  ...   \n",
              "std       0.346621     0.332799     0.291971     0.326585     0.324545  ...   \n",
              "min      -1.155611    -1.207635    -1.021483    -1.151230    -1.082255  ...   \n",
              "25%      -0.237859    -0.234011    -0.207113    -0.199757    -0.219114  ...   \n",
              "50%       0.001007    -0.015671    -0.013412     0.016377    -0.009242  ...   \n",
              "75%       0.238733     0.216653     0.196464     0.220682     0.216033  ...   \n",
              "max       1.005549     0.974377     0.959645     1.449360     0.980307  ...   \n",
              "\n",
              "       embedding_759  embedding_760  embedding_761  embedding_762  \\\n",
              "count    1980.000000    1980.000000    1980.000000    1980.000000   \n",
              "mean       -0.029361      -0.020921      -0.020319       0.009399   \n",
              "std         0.333621       0.335565       0.339771       0.352838   \n",
              "min        -1.158044      -1.518431      -1.129370      -1.410665   \n",
              "25%        -0.249479      -0.253948      -0.234156      -0.228284   \n",
              "50%        -0.023900      -0.026007      -0.018559       0.017679   \n",
              "75%         0.196413       0.213677       0.211945       0.246683   \n",
              "max         1.083446       0.987914       1.099598       1.330509   \n",
              "\n",
              "       embedding_763  embedding_764  embedding_765  embedding_766  \\\n",
              "count    1980.000000    1980.000000    1980.000000    1980.000000   \n",
              "mean        0.017212      -0.014874      -0.025321       0.019332   \n",
              "std         0.322827       0.342397       0.326208       0.323025   \n",
              "min        -0.968830      -1.453961      -1.462829      -1.001828   \n",
              "25%        -0.194873      -0.238162      -0.235841      -0.195948   \n",
              "50%         0.016155      -0.020514      -0.031783       0.005819   \n",
              "75%         0.231281       0.214075       0.183876       0.227027   \n",
              "max         1.475140       1.507157       1.062148       1.276900   \n",
              "\n",
              "       embedding_767  emotion_label  \n",
              "count    1980.000000    1980.000000  \n",
              "mean        0.017479       2.500000  \n",
              "std         0.342935       1.708257  \n",
              "min        -1.378061       0.000000  \n",
              "25%        -0.204717       1.000000  \n",
              "50%         0.025962       2.500000  \n",
              "75%         0.242889       4.000000  \n",
              "max         1.277132       5.000000  \n",
              "\n",
              "[8 rows x 769 columns]"
            ]
          },
          "execution_count": 22,
          "metadata": {},
          "output_type": "execute_result"
        }
      ],
      "source": [
        "image_data.describe()"
      ]
    },
    {
      "cell_type": "code",
      "execution_count": null,
      "metadata": {
        "colab": {
          "base_uri": "https://localhost:8080/",
          "height": 304
        },
        "id": "yxGrm7_3qOOE",
        "outputId": "a6117256-ca46-47cd-9784-2aed2eadaacb"
      },
      "outputs": [
        {
          "data": {
            "text/html": [
              "<div>\n",
              "<style scoped>\n",
              "    .dataframe tbody tr th:only-of-type {\n",
              "        vertical-align: middle;\n",
              "    }\n",
              "\n",
              "    .dataframe tbody tr th {\n",
              "        vertical-align: top;\n",
              "    }\n",
              "\n",
              "    .dataframe thead th {\n",
              "        text-align: right;\n",
              "    }\n",
              "</style>\n",
              "<table border=\"1\" class=\"dataframe\">\n",
              "  <thead>\n",
              "    <tr style=\"text-align: right;\">\n",
              "      <th></th>\n",
              "      <th>count</th>\n",
              "    </tr>\n",
              "    <tr>\n",
              "      <th>emotion_label</th>\n",
              "      <th></th>\n",
              "    </tr>\n",
              "  </thead>\n",
              "  <tbody>\n",
              "    <tr>\n",
              "      <th>0</th>\n",
              "      <td>330</td>\n",
              "    </tr>\n",
              "    <tr>\n",
              "      <th>1</th>\n",
              "      <td>330</td>\n",
              "    </tr>\n",
              "    <tr>\n",
              "      <th>2</th>\n",
              "      <td>330</td>\n",
              "    </tr>\n",
              "    <tr>\n",
              "      <th>3</th>\n",
              "      <td>330</td>\n",
              "    </tr>\n",
              "    <tr>\n",
              "      <th>4</th>\n",
              "      <td>330</td>\n",
              "    </tr>\n",
              "    <tr>\n",
              "      <th>5</th>\n",
              "      <td>330</td>\n",
              "    </tr>\n",
              "  </tbody>\n",
              "</table>\n",
              "</div><br><label><b>dtype:</b> int64</label>"
            ],
            "text/plain": [
              "emotion_label\n",
              "0    330\n",
              "1    330\n",
              "2    330\n",
              "3    330\n",
              "4    330\n",
              "5    330\n",
              "Name: count, dtype: int64"
            ]
          },
          "execution_count": 64,
          "metadata": {},
          "output_type": "execute_result"
        }
      ],
      "source": [
        "image_data['emotion_label'].value_counts()"
      ]
    },
    {
      "cell_type": "markdown",
      "metadata": {
        "id": "AEHiY9Va6MVh"
      },
      "source": [
        "________________________________"
      ]
    },
    {
      "cell_type": "code",
      "execution_count": null,
      "metadata": {
        "colab": {
          "base_uri": "https://localhost:8080/"
        },
        "id": "D2_0DjOeo-WY",
        "outputId": "ca2a8ce0-d22b-4187-bbd4-24be834c4ca2"
      },
      "outputs": [
        {
          "name": "stdout",
          "output_type": "stream",
          "text": [
            "torch.Size([1980, 768])\n",
            "torch.Size([1980])\n"
          ]
        }
      ],
      "source": [
        "# 전체 768차원 임베딩과 라벨 분리\n",
        "image_embeddings = torch.tensor(image_data.iloc[:, :-1].values, dtype=torch.float32)  # 768차원 임베딩\n",
        "encoded_image_labels_tensor = torch.tensor(image_data['emotion_label'].values, dtype=torch.long)  # 감정 라벨\n",
        "\n",
        "# 텐서의 형태 확인\n",
        "print(image_embeddings.shape)  # (1980, 768)\n",
        "print(encoded_image_labels_tensor.shape)  # (1980,)"
      ]
    },
    {
      "cell_type": "markdown",
      "metadata": {
        "id": "U7jOpd016RuQ"
      },
      "source": [
        "# 트랜스포머 모델 구조\n",
        "## 각자 데이터 별로 처리해줘야 할 사항들이 있는지 체크해보자\n",
        "### 비디오: 시간정보 살리기 위해서 프레임 번호 순서대로 진행되게 하기 필수\n",
        "### 오디오: 마찬가지로 시간정보 체크\n",
        "### 텍스트&이미지: 성능 향상 목표  "
      ]
    },
    {
      "cell_type": "code",
      "execution_count": null,
      "metadata": {
        "id": "CNVxIDVyQQLf"
      },
      "outputs": [],
      "source": [
        "# 공통 트랜스포머 모델 구조\n",
        "def add_cls_token_and_positional_embedding(input_embeddings, pos_embedding, cls_token, frame_numbers=None, apply_pos_embedding=True):\n",
        "    \"\"\"\n",
        "    input_embeddings: (batch_size, seq_len, embed_dim) 또는 (batch_size, embed_dim)\n",
        "    pos_embedding: (max_seq_len + 1, embed_dim) - 포지셔널 임베딩\n",
        "    cls_token: (1, 1, embed_dim) - CLS 토큰\n",
        "    frame_numbers: (batch_size, seq_len) - 각 프레임의 번호 (포지셔널 임베딩에 사용)\n",
        "    apply_pos_embedding: 포지셔널 임베딩을 적용할지 여부 (오디오 및 텍스트 모달리티에서는 False)\n",
        "    \"\"\"\n",
        "    if len(input_embeddings.shape) == 2:  # 입력이 (batch_size, embed_dim)인 경우\n",
        "        batch_size, embed_dim = input_embeddings.shape\n",
        "        seq_len = 1  # sequence 길이를 1로 설정\n",
        "        input_embeddings = input_embeddings.unsqueeze(1)  # (batch_size, 1, embed_dim)로 변환\n",
        "    else:  # 입력이 (batch_size, seq_len, embed_dim)인 경우\n",
        "        batch_size, seq_len, embed_dim = input_embeddings.shape\n",
        "\n",
        "    # [CLS] 토큰 추가\n",
        "    cls_tokens = cls_token.expand(batch_size, 1, embed_dim)  # (batch_size, 1, embed_dim)\n",
        "    input_embeddings = torch.cat((cls_tokens, input_embeddings), dim=1)  # (batch_size, seq_len + 1, embed_dim)\n",
        "\n",
        "    if apply_pos_embedding:\n",
        "        # 프레임 번호가 있을 경우 해당 포지션 사용\n",
        "        if frame_numbers is not None:\n",
        "            pos_embeddings = pos_embedding[frame_numbers]  # (batch_size, seq_len, embed_dim)\n",
        "            pos_embeddings = torch.cat([pos_embedding[0].unsqueeze(0).repeat(batch_size, 1, 1), pos_embeddings], dim=1)  # CLS 토큰 포함\n",
        "        else:\n",
        "            # 프레임 번호가 없으면 순차적으로 포지셔널 임베딩 추가\n",
        "            pos_embeddings = pos_embedding[:seq_len + 1].unsqueeze(0).repeat(batch_size, 1, 1)  # (batch_size, seq_len + 1, embed_dim)\n",
        "\n",
        "        # 임베딩에 포지셔널 임베딩을 더함\n",
        "        input_embeddings += pos_embeddings\n",
        "\n",
        "    return input_embeddings"
      ]
    },
    {
      "cell_type": "code",
      "execution_count": null,
      "metadata": {
        "id": "8Nsu77rvQYVM"
      },
      "outputs": [],
      "source": [
        "# 모달리티별 트랜스포머 모델 (포지셔널 임베딩 필요 여부 적용)\n",
        "class ModalityTransformerWithCLSAndFramewisePrediction(nn.Module):\n",
        "    def __init__(self, embed_dim=768, num_heads=8, num_layers=6, max_seq_len=1000):\n",
        "        super(ModalityTransformerWithCLSAndFramewisePrediction, self).__init__()\n",
        "\n",
        "        # Transformer Encoder 설정\n",
        "        encoder_layer = nn.TransformerEncoderLayer(d_model=embed_dim, nhead=num_heads)\n",
        "        self.transformer = nn.TransformerEncoder(encoder_layer, num_layers=num_layers)\n",
        "\n",
        "        # [CLS] 토큰과 포지셔널 임베딩 초기화\n",
        "        self.cls_token = nn.Parameter(torch.randn(1, 1, embed_dim))  # [CLS] 토큰\n",
        "        self.pos_embedding = nn.Parameter(torch.randn(max_seq_len + 1, embed_dim))  # CLS 포함한 포지셔널 임베딩\n",
        "\n",
        "        # 분류기 (감정 라벨이 6개로 수정)\n",
        "        self.classifier = nn.Linear(embed_dim, 6)  # 감정 라벨이 6개 (0, 1, 2, 3, 4, 5)\n",
        "\n",
        "    def forward(self, input_embeddings, modality, frame_numbers=None):\n",
        "        \"\"\"\n",
        "        modality: 'video', 'image', 'audio', 'text'에 따라 포지셔널 임베딩 여부 결정\n",
        "        frame_numbers: 비디오 모달리티에서 프레임 번호가 제공됨\n",
        "        \"\"\"\n",
        "        # 모달리티에 따른 포지셔널 임베딩 적용 여부 설정\n",
        "        if modality in ['video', 'image']:\n",
        "            apply_pos_embedding = True  # 비디오와 이미지 모달리티는 포지셔널 임베딩 필요\n",
        "        else:\n",
        "            apply_pos_embedding = False  # 오디오와 텍스트는 이미 포지셔널 임베딩이 포함됨\n",
        "\n",
        "        # [CLS] 토큰과 포지셔널 임베딩 추가\n",
        "        input_embeddings = add_cls_token_and_positional_embedding(\n",
        "            input_embeddings, self.pos_embedding, self.cls_token, frame_numbers, apply_pos_embedding)\n",
        "\n",
        "        # Transformer 통과 (CLS 토큰 포함)\n",
        "        transformer_output = self.transformer(input_embeddings)  # (batch_size, seq_len + 1, embed_dim)\n",
        "\n",
        "        # [CLS] 토큰은 전체 비디오 시퀀스의 요약 정보로 사용\n",
        "        cls_output = transformer_output[:, 0, :]  # (batch_size, embed_dim)\n",
        "\n",
        "        # 프레임별로 감정 예측 (모달리티에 따라 적용)\n",
        "        if modality == 'video':\n",
        "            framewise_output = self.classifier(transformer_output[:, 1:, :])  # (batch_size, seq_len, 6)\n",
        "            return cls_output, framewise_output\n",
        "        else:\n",
        "            # 다른 모달리티에서는 framewise_output을 반환하지 않고 CLS 토큰만 반환\n",
        "            return cls_output"
      ]
    },
    {
      "cell_type": "code",
      "execution_count": null,
      "metadata": {
        "id": "Q6ravFH_SHl2"
      },
      "outputs": [],
      "source": [
        "# EarlyStopping 클래스 정의\n",
        "class EarlyStopping:\n",
        "    def __init__(self, patience=5, min_delta=0):\n",
        "        \"\"\"\n",
        "        patience: 성능이 개선되지 않아도 기다릴 최대 횟수\n",
        "        min_delta: 성능이 개선되었다고 간주되는 최소한의 변화량\n",
        "        \"\"\"\n",
        "        self.patience = patience\n",
        "        self.min_delta = min_delta\n",
        "        self.counter = 0\n",
        "        self.best_score = None\n",
        "        self.early_stop = False\n",
        "\n",
        "    def __call__(self, val_loss):\n",
        "        if self.best_score is None:\n",
        "            self.best_score = val_loss\n",
        "        elif val_loss > self.best_score - self.min_delta:\n",
        "            self.counter += 1\n",
        "            if self.counter >= self.patience:\n",
        "                self.early_stop = True\n",
        "        else:\n",
        "            self.best_score = val_loss\n",
        "            self.counter = 0\n"
      ]
    },
    {
      "cell_type": "markdown",
      "metadata": {
        "id": "ejsVuFGU-BJr"
      },
      "source": [
        "# 비디오 트랜스포머 아웃풋\n",
        "- 비디오 시간적정보 및 포지셔널 임베딩 처리 필요\n",
        "## 평가 후 best 모델 저장해 교차학습을 위한 임베딩 벡터 추출"
      ]
    },
    {
      "cell_type": "code",
      "execution_count": null,
      "metadata": {
        "colab": {
          "base_uri": "https://localhost:8080/"
        },
        "id": "M-6jTyqRCBGw",
        "outputId": "c105bc2a-4b8e-417e-fcaf-fa0b885867c0"
      },
      "outputs": [
        {
          "name": "stdout",
          "output_type": "stream",
          "text": [
            "최대 프레임 개수: 2864\n"
          ]
        }
      ],
      "source": [
        "## max_seq_len을 체크하기 위한 비디오프레임 최대개수 체크\n",
        "max_frames = max(len(frames) for frames in video_data.values())\n",
        "print(f\"최대 프레임 개수: {max_frames}\")\n",
        "\n",
        "# 1500으로 하자 용량 감당 안되면 1000"
      ]
    },
    {
      "cell_type": "code",
      "execution_count": null,
      "metadata": {
        "colab": {
          "base_uri": "https://localhost:8080/"
        },
        "id": "SmxDwbnAAkrg",
        "outputId": "b98b31b6-5dda-40e0-fa37-dcf327788011"
      },
      "outputs": [
        {
          "data": {
            "text/plain": [
              "{'embedding': array([ 6.70589626e-01,  8.02716166e-02, -2.65618503e-01,  2.51852721e-01,\n",
              "         9.11679640e-02, -8.69118422e-03,  5.35325646e-01, -2.28303969e-01,\n",
              "         1.68833897e-01,  1.10582925e-01, -2.60048360e-01,  1.03890896e-04,\n",
              "         2.24917069e-01,  3.43664467e-01,  3.05540025e-01,  2.98092775e-02,\n",
              "         1.75998822e-01,  6.74159348e-01, -3.45690012e-01,  6.67209551e-02,\n",
              "         9.88307223e-02,  2.10513979e-01,  1.51059732e-01,  5.70796616e-02,\n",
              "        -3.98473367e-02,  1.25657052e-01,  1.08115189e-01, -2.25538351e-02,\n",
              "        -1.88701376e-01, -6.05168082e-02, -5.80158412e-01,  6.09871566e-01,\n",
              "        -4.26485240e-02,  4.93077397e-01,  3.51556242e-02,  6.42179966e-01,\n",
              "        -2.48421788e-01, -9.32389498e-02, -1.99256510e-01,  3.06112796e-01,\n",
              "        -1.30451191e-02,  1.49121419e-01, -4.17200655e-01,  1.14452064e-01,\n",
              "        -3.37221175e-01,  2.32110079e-02, -2.38572493e-01,  2.55362004e-01,\n",
              "        -2.58727103e-01, -3.02703887e-01, -2.92155594e-01, -2.75442004e-01,\n",
              "        -2.07804162e-02,  9.03865546e-02, -2.43960381e-01,  2.85881042e-01,\n",
              "        -3.66966277e-02, -2.49314010e-01,  2.86795348e-01, -4.39562738e-01,\n",
              "        -1.29125789e-01,  1.37180552e-01,  3.81170511e-01, -1.21909380e-02,\n",
              "         1.05455160e-01,  3.08460388e-02,  3.96837384e-01, -5.20026758e-02,\n",
              "        -9.07201171e-02,  1.76393330e-01, -3.21575165e-01, -3.36806566e-01,\n",
              "        -2.38099620e-01,  2.59722859e-01, -1.14257254e-01,  4.25858676e-01,\n",
              "         1.13958001e-01,  1.99170679e-01,  9.16560963e-02, -5.22065535e-02,\n",
              "         6.07347563e-02,  9.57951769e-02, -1.28770486e-01, -9.03044492e-02,\n",
              "         3.22737843e-02,  3.59918594e-01,  2.06413597e-01, -6.20005131e-02,\n",
              "        -3.92397046e-02, -1.74655825e-01,  6.97233856e-01, -4.63053025e-02,\n",
              "         2.10927084e-01,  2.49205932e-01,  2.46008471e-01,  2.87274539e-01,\n",
              "         2.22009152e-01, -3.62671763e-01,  3.28606963e-01,  3.79462391e-02,\n",
              "        -2.73225576e-01,  3.93667370e-01,  1.29279885e-02,  3.41831446e-01,\n",
              "        -8.49723518e-02, -2.84754664e-01,  5.31624146e-02,  7.26023540e-02,\n",
              "        -2.58186758e-01,  1.19982898e-01,  2.41873518e-01,  6.61333084e-01,\n",
              "        -6.95181824e-03,  1.41858589e-02, -4.31888103e-01,  8.23868737e-02,\n",
              "        -5.03885031e-01, -2.86157094e-02, -6.99960813e-02,  2.17001975e-01,\n",
              "         1.90342739e-01,  9.18432772e-02, -1.00259140e-01, -6.84237778e-02,\n",
              "        -5.83911128e-02,  2.10005373e-01, -5.44099391e-01, -1.08709320e-01,\n",
              "        -8.99003372e-02, -3.08938235e-01, -1.13454506e-01,  3.17629695e-01,\n",
              "         3.43517363e-02, -2.57403869e-03, -2.15124682e-01,  3.44881713e-01,\n",
              "        -1.04725257e-01,  1.12121142e-01,  1.17951922e-01,  2.42534488e-01,\n",
              "         2.52580136e-01,  1.28074735e-01, -5.59021309e-02, -1.30301908e-01,\n",
              "        -6.00632504e-02, -1.32083833e-01,  5.95314682e-01, -2.54984379e-01,\n",
              "        -1.91209484e-02,  4.29786086e-01, -2.27877684e-02,  1.76535055e-01,\n",
              "         9.85814929e-02, -2.99057752e-01,  2.34899491e-01,  2.17302576e-01,\n",
              "         1.21200062e-01,  2.71226391e-02, -9.31838006e-02,  1.52211338e-01,\n",
              "         3.34332883e-01, -2.36205474e-01,  4.48865056e-01, -1.99930459e-01,\n",
              "        -6.86059773e-01,  1.81492254e-01,  2.37057269e-01, -4.35143918e-01,\n",
              "         1.50977671e-01, -3.98879766e-01, -2.34609917e-01,  2.75651515e-01,\n",
              "         6.30596653e-02, -5.02180874e-01,  1.05692334e-01, -9.29517895e-02,\n",
              "        -1.14543207e-01,  2.65901983e-01,  9.39982384e-02,  2.23687366e-02,\n",
              "         4.56996560e-01,  3.62203717e-01,  2.72917420e-01,  3.33929121e-01,\n",
              "        -2.53623165e-03,  7.17789261e-03, -3.58707100e-01,  3.33877087e-01,\n",
              "         2.31638819e-01,  9.99448076e-02, -1.02177024e-01, -2.41952613e-01,\n",
              "         4.74406220e-02,  1.87115863e-01, -2.09161311e-01,  7.60038793e-02,\n",
              "        -2.73160696e-01,  1.89218566e-01, -1.80749282e-01, -7.79753625e-02,\n",
              "         2.98819482e-01, -6.20959438e-02, -2.67423123e-01, -9.93897319e-02,\n",
              "        -1.22693732e-01, -2.58997589e-01, -2.56184340e-01, -9.17369947e-02,\n",
              "         2.83752203e-01, -2.43872538e-01,  2.88996309e-01,  2.46243570e-02,\n",
              "         5.08886635e-01, -3.18287432e-01, -2.68612295e-01,  1.98351163e-02,\n",
              "        -3.43090713e-01, -4.44399327e-01, -1.76533744e-01, -3.60480398e-02,\n",
              "        -2.75035292e-01, -1.66741550e-01, -4.62679952e-01,  1.08969621e-01,\n",
              "        -1.79852426e-01, -3.34809199e-02,  2.35005677e-01, -2.75774986e-01,\n",
              "         5.04213750e-01,  2.07190126e-01,  4.08544719e-01, -1.83689401e-01,\n",
              "        -3.78935784e-01, -1.71005994e-01,  2.70957649e-01, -1.53869361e-01,\n",
              "         1.25275657e-01,  1.36790261e-01, -3.61993551e-01,  3.05610359e-01,\n",
              "         3.13178599e-01, -3.21884811e-01,  1.05624095e-01, -3.44301201e-02,\n",
              "        -1.07021227e-01,  7.56538585e-02,  1.53215632e-01,  2.89794266e-01,\n",
              "        -3.40815842e-01,  9.92485806e-02, -2.27995738e-02,  3.99549827e-02,\n",
              "         1.31157443e-01,  3.70105445e-01,  4.19292718e-01,  3.68854441e-02,\n",
              "        -3.37773114e-01, -4.39760163e-02, -3.48126501e-01, -2.26797074e-01,\n",
              "        -3.55794013e-01, -2.28459790e-01,  1.61361516e-01,  2.21976712e-01,\n",
              "         6.84904754e-01,  2.93882459e-01,  1.44341320e-01, -2.03078896e-01,\n",
              "         1.79684579e-01,  1.74800679e-01,  4.57441956e-02, -3.40380371e-01,\n",
              "         3.50100189e-01,  1.57822356e-01,  1.45314172e-01,  1.65625125e-01,\n",
              "         6.13607466e-03,  1.97862789e-01,  3.37095052e-01, -4.31060880e-01,\n",
              "        -2.84414381e-01, -6.25382900e-01,  2.87480295e-01,  4.16041255e-01,\n",
              "         3.40308785e-01,  1.07877135e-01,  2.66575933e-01,  2.96606988e-01,\n",
              "         2.92643011e-01, -4.64514941e-01,  8.38217512e-02,  3.18895042e-01,\n",
              "         1.08399764e-01, -1.38901368e-01, -6.45262748e-02,  5.27749024e-02,\n",
              "         4.34085220e-01, -2.33299181e-01,  9.62480158e-02,  6.17036819e-01,\n",
              "        -1.76450387e-01,  2.57163286e-01, -2.01238647e-01, -8.01056921e-02,\n",
              "        -2.71502316e-01,  7.31869563e-02,  7.90998787e-02, -1.31556123e-01,\n",
              "        -1.84274375e-01, -1.39684871e-01,  1.81663439e-01, -1.19411863e-01,\n",
              "        -2.64836878e-01,  8.37756872e-01,  2.00802669e-01, -3.82670276e-02,\n",
              "         7.06108585e-02, -3.29586938e-02, -6.90859854e-02,  2.67289162e-01,\n",
              "        -3.05043787e-01, -4.13328141e-01,  1.09907137e-02, -3.64482582e-01,\n",
              "        -2.22630888e-01, -6.68940693e-03, -2.84411371e-01, -5.86104393e-01,\n",
              "        -3.31225634e-01,  2.74733067e-01, -1.28343582e-01,  3.47902685e-01,\n",
              "         2.15457574e-01, -2.41371289e-01,  4.89344954e-01, -2.98964351e-01,\n",
              "         3.09474468e-02,  2.60817260e-01, -2.00804949e-01, -3.49121660e-01,\n",
              "        -1.15091659e-01,  1.94985226e-01, -1.02409720e-03, -4.65999171e-02,\n",
              "        -5.77809453e-01, -8.42503086e-02, -1.75616175e-01, -4.78456736e-01,\n",
              "         3.93272638e-01, -8.39406028e-02, -2.49771446e-01, -1.46767557e-01,\n",
              "         1.55117974e-01,  9.37438682e-02, -7.70464540e-03,  8.01304430e-02,\n",
              "        -1.78418532e-01, -3.35435234e-02,  7.81636238e-02, -5.94238341e-01,\n",
              "        -4.27995622e-01,  2.66125977e-01,  4.45164680e-01, -5.12407869e-02,\n",
              "        -1.56130195e-01, -4.92464215e-01,  9.62471440e-02, -1.22781396e-01,\n",
              "         1.68616235e-01,  1.91025704e-01, -5.17585911e-02,  3.07219654e-01,\n",
              "        -2.58709431e-01, -3.21702152e-01, -7.99536049e-01,  2.24156305e-01,\n",
              "         8.80510285e-02,  4.22818244e-01,  1.45703405e-01, -8.83985311e-02,\n",
              "        -7.76734799e-02, -1.22074984e-01, -3.90771449e-01,  1.83628127e-01,\n",
              "        -3.06012422e-01, -5.96424118e-02, -9.57140625e-02, -1.54315367e-01,\n",
              "        -9.39884260e-02, -4.54197414e-02, -3.05585146e-01,  2.13526130e-01,\n",
              "         2.67236710e-01,  1.14757262e-01, -4.08535540e-01,  1.99649081e-01,\n",
              "         2.07834676e-01, -3.20266217e-01,  6.15055338e-02,  2.37174034e-01,\n",
              "        -2.33244792e-01,  4.14890677e-01,  2.52504885e-01, -5.18023491e-01,\n",
              "         3.09211433e-01, -3.45902860e-01, -3.73445228e-02,  1.90176368e-01,\n",
              "        -4.68770638e-02, -1.68757990e-01,  5.74355781e-01,  3.02285612e-01,\n",
              "         6.37314320e-01, -1.12467714e-01, -7.47147426e-02, -2.50659347e-01,\n",
              "         8.46433282e-01, -1.49179608e-01,  1.68643929e-02,  1.04173973e-01,\n",
              "         7.82767475e-01,  5.40663719e-01, -6.91385418e-02, -1.78287745e-01,\n",
              "         2.45909318e-01, -1.34732276e-01, -3.43803093e-02, -2.28917211e-01,\n",
              "         1.12030886e-01, -8.71619731e-02, -1.37320012e-01, -1.52356578e-02,\n",
              "        -3.99524093e-01, -4.47282314e-01, -5.17778575e-01,  4.88242833e-03,\n",
              "        -3.58638167e-01, -2.35565335e-01, -4.05421704e-01,  3.19851279e-01,\n",
              "        -1.24021173e-01,  1.00558423e-01,  1.00007929e-01, -4.78201248e-02,\n",
              "        -1.23052880e-01, -2.49857768e-01,  1.09502047e-01,  1.66717723e-01,\n",
              "        -1.69310682e-02,  2.41482466e-01,  2.45323345e-01, -4.56595778e-01,\n",
              "        -4.99949634e-01, -2.66226083e-01, -2.25953639e-01,  2.06174746e-01,\n",
              "         1.53692300e-02, -2.69260645e-01, -7.53641367e-01,  9.79135465e-03,\n",
              "        -1.01558335e-01, -1.08539509e-02, -3.16019267e-01, -3.56226027e-01,\n",
              "        -5.33598028e-02, -1.94760725e-01, -6.60623759e-02, -3.45941275e-01,\n",
              "         3.21640283e-01, -2.28654012e-01, -2.00351581e-01, -2.54250824e-01,\n",
              "         1.35762662e-01, -1.27808060e-02,  2.67373681e-01, -3.58510077e-01,\n",
              "        -3.24577808e-01, -1.22911841e-01,  1.37333013e-02, -7.85857141e-02,\n",
              "         9.18368325e-02, -1.96589440e-01,  8.78699198e-02,  5.77130973e-01,\n",
              "        -2.35236332e-01,  2.51112804e-02,  1.67989641e-01,  1.83811978e-01,\n",
              "         1.05776593e-01,  1.92958191e-01, -5.49590886e-01, -2.24988773e-01,\n",
              "         3.16075712e-01, -2.88057506e-01,  5.21982431e-01,  9.28548947e-02,\n",
              "         1.72138602e-01,  3.00288528e-01,  3.93744737e-01,  2.14488983e-01,\n",
              "         2.02986032e-01,  1.16066393e-02, -5.86640202e-02, -9.68382597e-01,\n",
              "         2.85959303e-01, -5.64687550e-01,  5.28461754e-01,  1.04837529e-02,\n",
              "         2.30742186e-01, -3.82129490e-01,  6.13136947e-01, -1.99094683e-01,\n",
              "        -3.71675760e-01, -3.39591980e-01, -5.82369387e-01,  1.20081287e-03,\n",
              "        -6.04934812e-01, -4.14398819e-01,  2.50324994e-01,  4.38466787e-01,\n",
              "         4.44734603e-01, -6.74372315e-01, -2.40891442e-01,  6.20501153e-02,\n",
              "         2.81768560e-01,  2.19920173e-01, -3.64175081e-01,  7.44876266e-02,\n",
              "        -4.60567951e-01, -1.53333813e-01,  6.13855124e-02,  2.65112191e-01,\n",
              "         1.15480170e-01,  5.51089756e-02,  1.45411193e-01, -3.50356966e-01,\n",
              "        -3.02405879e-02, -4.81436819e-01, -5.29664531e-02, -8.90391842e-02,\n",
              "         3.06600332e-01, -4.36847568e-01, -3.58233452e-01,  1.49731830e-01,\n",
              "        -1.03784725e-01,  1.70845494e-01,  1.60377949e-01, -1.33848265e-01,\n",
              "        -1.76884070e-01, -1.46744013e-01, -6.08568668e-01, -1.68718308e-01,\n",
              "        -6.10502362e-02, -1.81252822e-01, -1.86877757e-01,  2.33312875e-01,\n",
              "         4.68741983e-01, -1.28083125e-01,  5.74649096e-01, -4.17089984e-02,\n",
              "        -1.82573609e-02, -3.44733983e-01, -2.52404571e-01, -3.58204335e-01,\n",
              "         3.67217064e-02, -2.06264436e-01,  1.12746902e-01, -1.32621765e-01,\n",
              "         1.72662497e-01, -5.42375624e-01, -2.33787164e-01,  1.55167328e-02,\n",
              "         2.15519264e-01,  8.93638879e-02,  4.63390574e-02,  8.54952708e-02,\n",
              "         3.83100808e-02, -4.08596694e-01, -1.82359681e-01, -3.00305545e-01,\n",
              "         4.48817424e-02, -1.47598892e-01, -1.25626884e-02,  1.98535979e-01,\n",
              "         1.91458777e-01,  2.34137997e-01,  1.36972860e-01, -1.27048045e-01,\n",
              "         4.12794650e-02,  1.11203544e-01,  4.20734704e-01,  2.31551617e-01,\n",
              "         3.95943187e-02, -3.19507092e-01, -1.34691983e-01,  3.28891166e-02,\n",
              "        -1.00641660e-01, -2.78972059e-01, -2.61878043e-01, -1.68412607e-02,\n",
              "        -2.97349602e-01,  3.83167937e-02,  9.59539473e-01,  1.21578090e-01,\n",
              "         2.77144134e-01,  2.14296550e-01, -5.26488066e-01,  5.10090709e-01,\n",
              "         3.60216677e-01,  1.61776438e-01,  1.23175951e-02,  4.26235422e-02,\n",
              "        -3.94242883e-01, -2.54033376e-02, -5.94130345e-03, -3.19307037e-02,\n",
              "        -8.62421989e-02,  6.58032358e-01, -5.10471836e-02,  1.19848117e-01,\n",
              "        -7.88846090e-02, -4.81403857e-01, -1.33396775e-01, -4.89064232e-02,\n",
              "        -6.35604337e-02, -1.91722617e-01,  6.76805526e-03,  2.94222414e-01,\n",
              "         2.36772031e-01,  2.73885339e-01,  2.31432945e-01,  5.82816079e-02,\n",
              "        -7.62783065e-02, -8.06920081e-02,  4.86437351e-01,  6.50912821e-02,\n",
              "         1.89181566e-01, -9.35592726e-02, -2.65953660e-01,  1.04747884e-01,\n",
              "        -2.35790610e-01,  4.96465117e-02,  1.29009366e-01, -1.54186279e-01,\n",
              "        -2.87324458e-01, -5.13167121e-04, -7.26550631e-03, -7.27257907e-01,\n",
              "         5.38896203e-01, -1.14193805e-01, -2.25945517e-01, -2.73810208e-01,\n",
              "        -6.08676612e-01,  1.67915896e-01,  7.92473331e-02, -2.92905122e-01,\n",
              "        -2.97356009e-01, -1.28292650e-01, -8.48982781e-02, -1.12833589e-01,\n",
              "        -6.10488117e-01,  9.52328369e-02,  4.09936637e-01, -8.82327706e-02,\n",
              "         7.26509318e-02,  2.87206650e-01, -2.67505169e-01,  4.34845209e-01,\n",
              "        -2.68848449e-01,  2.19660953e-01, -5.39295256e-01, -2.38656282e-01,\n",
              "         3.79197299e-01, -2.81546772e-01, -3.73872936e-01, -2.08133519e-01,\n",
              "        -2.15370089e-01,  1.66526251e-02, -3.95883732e-02, -3.70700955e-01,\n",
              "        -2.71190733e-01, -6.83812618e-01,  1.03332490e-01, -1.35789216e-01,\n",
              "        -3.96095723e-01,  3.07181507e-01, -2.23579153e-01,  4.24804166e-03,\n",
              "         2.82148093e-01,  5.51392257e-01,  1.19830146e-01,  2.27136314e-01,\n",
              "        -2.78520048e-01, -3.85895431e-01,  1.21995121e-01, -1.14188254e-01,\n",
              "         2.57941097e-01, -2.95460038e-03,  1.49177879e-01,  4.30731103e-04,\n",
              "         3.41922194e-02,  1.09276429e-01,  2.42989529e-02, -7.08701491e-01,\n",
              "        -3.34159106e-01, -1.37913689e-01, -8.97008181e-03,  2.00003296e-01,\n",
              "         3.43297124e-01,  6.68845698e-02, -1.46150023e-01,  1.42024428e-01,\n",
              "         6.56364381e-01, -2.19881088e-01,  3.86883914e-01,  3.80173236e-01,\n",
              "         3.87117624e-01, -1.46091461e-01, -1.17618509e-01, -1.43066630e-01,\n",
              "        -1.28656447e-01, -2.50148952e-01,  3.85564715e-02, -4.12823528e-01,\n",
              "         6.53917670e-01, -1.62269220e-01, -1.37445495e-01, -8.01774636e-02,\n",
              "         2.99301054e-02, -2.83265948e-01,  6.28018260e-01,  5.09986281e-01,\n",
              "        -2.15430036e-01, -4.91163671e-01, -6.60711288e-01, -1.14667028e-01,\n",
              "         1.00841716e-01,  1.80431247e-01, -2.41216272e-04, -2.60756940e-01,\n",
              "         2.40795631e-02, -2.75015384e-01,  1.11878574e-01,  3.51170659e-01,\n",
              "         7.10594803e-02,  6.03839383e-02,  4.42897469e-01, -6.44175932e-02,\n",
              "        -8.51982981e-02, -3.03111821e-01,  2.37005934e-01,  7.98397243e-01,\n",
              "         4.87247296e-03, -3.33809853e-01,  1.68212652e-01, -2.23164856e-01,\n",
              "         1.25105888e-01,  8.93434808e-02, -2.62600332e-01,  7.84473680e-03,\n",
              "        -1.32975746e-02, -2.97150537e-02,  4.92783785e-01, -1.91797405e-01,\n",
              "         1.85274765e-01, -2.63347417e-01, -7.49061033e-02,  2.60088563e-01],\n",
              "       dtype=float32),\n",
              " 'label': '3'}"
            ]
          },
          "execution_count": 34,
          "metadata": {},
          "output_type": "execute_result"
        }
      ],
      "source": [
        "video_data['850'][0]"
      ]
    },
    {
      "cell_type": "code",
      "execution_count": null,
      "metadata": {
        "id": "oSfOpORgM7KZ"
      },
      "outputs": [],
      "source": [
        "import torch\n",
        "import numpy as np\n",
        "\n",
        "def process_video_data(video_data, max_seq_len, embed_dim=768, padding_value=0):\n",
        "    embedding_vectors = []\n",
        "    frame_numbers = []\n",
        "    emotion_labels = []\n",
        "\n",
        "    for clip_id, frames in video_data.items():\n",
        "        clip_embeddings = []\n",
        "        clip_labels = []\n",
        "        clip_frame_numbers = []\n",
        "\n",
        "        for frame_number, frame_data in frames.items():\n",
        "            # 각 프레임의 임베딩 벡터와 감정 라벨 추출\n",
        "            clip_embeddings.append(frame_data['embedding'])\n",
        "\n",
        "            # 문자열 라벨을 정수형으로 변환\n",
        "            clip_labels.append(int(frame_data['label']))\n",
        "\n",
        "            clip_frame_numbers.append(frame_number)\n",
        "\n",
        "        # 프레임 수가 max_seq_len보다 클 경우, max_seq_len까지만 잘라냄\n",
        "        if len(clip_embeddings) > max_seq_len:\n",
        "            clip_embeddings = clip_embeddings[:max_seq_len]\n",
        "            clip_labels = clip_labels[:max_seq_len]\n",
        "            clip_frame_numbers = clip_frame_numbers[:max_seq_len]\n",
        "        else:\n",
        "            # 부족한 프레임 수만큼 패딩 (임베딩 벡터는 0으로, 프레임 번호는 0으로 패딩)\n",
        "            padding_size = max_seq_len - len(clip_embeddings)\n",
        "            clip_embeddings += [[padding_value] * embed_dim] * padding_size\n",
        "            clip_frame_numbers += [0] * padding_size\n",
        "            clip_labels += [0] * padding_size  # 감정 라벨 패딩 (0을 기본값으로 처리)\n",
        "\n",
        "        embedding_vectors.append(clip_embeddings)\n",
        "        frame_numbers.append(clip_frame_numbers)\n",
        "        emotion_labels.append(clip_labels)  # 모든 프레임에 대해 감정 라벨 저장\n",
        "\n",
        "    # 텐서로 변환 (라벨도 시퀀스 차원을 유지)\n",
        "    embedding_vectors = torch.tensor(embedding_vectors, dtype=torch.float32)  # (num_clips, max_seq_len, embed_dim)\n",
        "    frame_numbers = torch.tensor(frame_numbers, dtype=torch.long)  # (num_clips, max_seq_len)\n",
        "    emotion_labels = torch.tensor(emotion_labels, dtype=torch.long)  # (num_clips, max_seq_len)\n",
        "\n",
        "    return embedding_vectors, frame_numbers, emotion_labels"
      ]
    },
    {
      "cell_type": "code",
      "execution_count": null,
      "metadata": {
        "id": "yacZDHZnHBtK"
      },
      "outputs": [],
      "source": [
        "# 학습 파라미터 설정\n",
        "embed_dim = 768\n",
        "max_seq_len = 3000  # 시퀀스 길이를 설정 (입력의 최대 프레임 수)\n",
        "num_epochs = 20\n",
        "batch_size = 4\n",
        "learning_rate = 1e-4"
      ]
    },
    {
      "cell_type": "code",
      "execution_count": null,
      "metadata": {
        "colab": {
          "base_uri": "https://localhost:8080/"
        },
        "id": "TxI-K_D2Y5TU",
        "outputId": "92ce76f5-ac13-4fba-f2cc-519bcffb707a"
      },
      "outputs": [
        {
          "name": "stderr",
          "output_type": "stream",
          "text": [
            "<ipython-input-36-055eea0e9b69>:40: UserWarning: Creating a tensor from a list of numpy.ndarrays is extremely slow. Please consider converting the list to a single numpy.ndarray with numpy.array() before converting to a tensor. (Triggered internally at ../torch/csrc/utils/tensor_new.cpp:278.)\n",
            "  embedding_vectors = torch.tensor(embedding_vectors, dtype=torch.float32)  # (num_clips, max_seq_len, embed_dim)\n"
          ]
        },
        {
          "name": "stdout",
          "output_type": "stream",
          "text": [
            "torch.Size([509, 3000, 768])\n",
            "torch.Size([509, 3000])\n",
            "torch.Size([509, 3000])\n"
          ]
        }
      ],
      "source": [
        "# 비디오데이터에서 임베딩 벡터, 프레임넘버, 라벨 추출\n",
        "embedding_vectors, frame_numbers, emotion_labels = process_video_data(video_data, max_seq_len)\n",
        "\n",
        "# embedding_vectors 리스트를 numpy 배열로 먼저 변환한 후 PyTorch tensor로 변환\n",
        "embedding_vectors = np.array(embedding_vectors)  # 리스트를 numpy 배열로 변환\n",
        "embedding_vectors = torch.tensor(embedding_vectors, dtype=torch.float32)  # numpy 배열을 tensor로 변환\n",
        "\n",
        "# frame_numbers와 emotion_labels도 동일하게 처리 (필요한 경우)\n",
        "frame_numbers = np.array(frame_numbers)  # numpy 배열로 변환\n",
        "frame_numbers = torch.tensor(frame_numbers, dtype=torch.float32)  # tensor로 변환\n",
        "\n",
        "emotion_labels = np.array(emotion_labels)  # numpy 배열로 변환\n",
        "emotion_labels = torch.tensor(emotion_labels, dtype=torch.float32)  # tensor로 변환\n",
        "\n",
        "# 결과 출력\n",
        "print(embedding_vectors.shape)  # (num_clips, max_seq_len, embed_dim) (비디오 개수, 최대 프레임 길이, 임베딩 차원)\n",
        "print(frame_numbers.shape)  # (num_clips, max_seq_len)\n",
        "print(emotion_labels.shape)  # (num_clips, emotion_label)"
      ]
    },
    {
      "cell_type": "markdown",
      "metadata": {
        "id": "FO4wlyoKYPAI"
      },
      "source": [
        "# 모델 학습 및 성능 시각화"
      ]
    },
    {
      "cell_type": "code",
      "execution_count": null,
      "metadata": {
        "colab": {
          "base_uri": "https://localhost:8080/",
          "height": 844
        },
        "id": "DuKyT9IzaNeR",
        "outputId": "048b78bb-ae0d-4f15-fd76-20862dd94a64"
      },
      "outputs": [
        {
          "name": "stderr",
          "output_type": "stream",
          "text": [
            "/usr/local/lib/python3.10/dist-packages/torch/nn/modules/transformer.py:307: UserWarning: enable_nested_tensor is True, but self.use_nested_tensor is False because encoder_layer.self_attn.batch_first was not True(use batch_first for better inference performance)\n",
            "  warnings.warn(f\"enable_nested_tensor is True, but self.use_nested_tensor is False because {why_not_sparsity_fast_path}\")\n",
            " 10%|█         | 1/10 [00:14<02:07, 14.14s/it]"
          ]
        },
        {
          "name": "stdout",
          "output_type": "stream",
          "text": [
            "Epoch [1/10], Train Loss: 0.8655, Val Loss: 0.3163, Train Acc: 0.6977, Val Acc: 0.8760\n"
          ]
        },
        {
          "name": "stderr",
          "output_type": "stream",
          "text": [
            "\r 20%|██        | 2/10 [00:28<01:53, 14.24s/it]"
          ]
        },
        {
          "name": "stdout",
          "output_type": "stream",
          "text": [
            "Epoch [2/10], Train Loss: 0.6224, Val Loss: 0.3819, Train Acc: 0.7358, Val Acc: 0.8642\n"
          ]
        },
        {
          "name": "stderr",
          "output_type": "stream",
          "text": [
            "\r 30%|███       | 3/10 [00:42<01:40, 14.33s/it]"
          ]
        },
        {
          "name": "stdout",
          "output_type": "stream",
          "text": [
            "Epoch [3/10], Train Loss: 0.6246, Val Loss: 0.3292, Train Acc: 0.7394, Val Acc: 0.8697\n"
          ]
        },
        {
          "name": "stderr",
          "output_type": "stream",
          "text": [
            "\r 40%|████      | 4/10 [00:57<01:26, 14.39s/it]"
          ]
        },
        {
          "name": "stdout",
          "output_type": "stream",
          "text": [
            "Epoch [4/10], Train Loss: 0.6151, Val Loss: 0.2671, Train Acc: 0.7269, Val Acc: 0.9012\n"
          ]
        },
        {
          "name": "stderr",
          "output_type": "stream",
          "text": [
            "\r 50%|█████     | 5/10 [01:11<01:11, 14.37s/it]"
          ]
        },
        {
          "name": "stdout",
          "output_type": "stream",
          "text": [
            "Epoch [5/10], Train Loss: 0.6283, Val Loss: 0.2984, Train Acc: 0.7367, Val Acc: 0.8758\n"
          ]
        },
        {
          "name": "stderr",
          "output_type": "stream",
          "text": [
            "\r 60%|██████    | 6/10 [01:25<00:57, 14.34s/it]"
          ]
        },
        {
          "name": "stdout",
          "output_type": "stream",
          "text": [
            "Epoch [6/10], Train Loss: 0.6027, Val Loss: 0.2920, Train Acc: 0.7444, Val Acc: 0.8657\n"
          ]
        },
        {
          "name": "stderr",
          "output_type": "stream",
          "text": [
            "\r 70%|███████   | 7/10 [01:40<00:42, 14.32s/it]"
          ]
        },
        {
          "name": "stdout",
          "output_type": "stream",
          "text": [
            "Epoch [7/10], Train Loss: 0.5956, Val Loss: 0.2976, Train Acc: 0.7393, Val Acc: 0.8991\n"
          ]
        },
        {
          "name": "stderr",
          "output_type": "stream",
          "text": [
            "\r 80%|████████  | 8/10 [01:54<00:28, 14.31s/it]"
          ]
        },
        {
          "name": "stdout",
          "output_type": "stream",
          "text": [
            "Epoch [8/10], Train Loss: 0.6202, Val Loss: 0.3143, Train Acc: 0.7416, Val Acc: 0.8647\n"
          ]
        },
        {
          "name": "stderr",
          "output_type": "stream",
          "text": [
            "\r 80%|████████  | 8/10 [02:08<00:32, 16.11s/it]"
          ]
        },
        {
          "name": "stdout",
          "output_type": "stream",
          "text": [
            "Epoch [9/10], Train Loss: 0.6081, Val Loss: 0.3242, Train Acc: 0.7422, Val Acc: 0.8638\n",
            "Early stopping at epoch 9\n"
          ]
        },
        {
          "name": "stderr",
          "output_type": "stream",
          "text": [
            "\n"
          ]
        },
        {
          "data": {
            "image/png": "[encoded data removed]",
            "text/plain": [
              "<Figure size 1200x600 with 2 Axes>"
            ]
          },
          "metadata": {},
          "output_type": "display_data"
        },
        {
          "name": "stdout",
          "output_type": "stream",
          "text": [
            "Final Accuracy: 0.8638\n",
            "Final F1 Score: 0.8618\n"
          ]
        }
      ],
      "source": [
        "import torch\n",
        "import torch.nn as nn\n",
        "import torch.optim as optim\n",
        "import matplotlib.pyplot as plt\n",
        "from sklearn.metrics import accuracy_score, f1_score\n",
        "from tqdm import tqdm\n",
        "\n",
        "# 모델, 손실 함수, 옵티마이저 설정\n",
        "model = ModalityTransformerWithCLSAndFramewisePrediction(embed_dim=embed_dim, num_heads=8, num_layers=6, max_seq_len=max_seq_len).to(device)\n",
        "criterion = nn.CrossEntropyLoss()\n",
        "optimizer = optim.Adam(model.parameters(), lr=1e-4)\n",
        "\n",
        "# 데이터 나누기 (80:20 비율로 학습/테스트 데이터 나눔)\n",
        "num_samples = embedding_vectors.size(0)\n",
        "train_size = int(0.8 * num_samples)\n",
        "\n",
        "train_embeddings = embedding_vectors[:train_size]\n",
        "train_frame_numbers = frame_numbers[:train_size]\n",
        "train_labels = emotion_labels[:train_size]\n",
        "\n",
        "test_embeddings = embedding_vectors[train_size:]\n",
        "test_frame_numbers = frame_numbers[train_size:]\n",
        "test_labels = emotion_labels[train_size:]\n",
        "\n",
        "# 데이터 배치 처리를 위한 DataLoader 생성\n",
        "train_data = torch.utils.data.TensorDataset(train_embeddings, train_frame_numbers, train_labels)\n",
        "train_loader = torch.utils.data.DataLoader(train_data, batch_size=16, shuffle=True)\n",
        "\n",
        "test_data = torch.utils.data.TensorDataset(test_embeddings, test_frame_numbers, test_labels)\n",
        "test_loader = torch.utils.data.DataLoader(test_data, batch_size=16, shuffle=False)\n",
        "\n",
        "# EarlyStopping 인스턴스 생성\n",
        "early_stopping = EarlyStopping(patience=5)\n",
        "\n",
        "# 성능 기록을 위한 리스트 초기화\n",
        "train_losses = []\n",
        "val_losses = []\n",
        "train_accuracies = []\n",
        "val_accuracies = []\n",
        "epoch_cnt = 0\n",
        "# 학습 루프 (CLS 토큰 및 프레임별 감정 예측 포함)\n",
        "for epoch in tqdm(range(num_epochs)):\n",
        "    model.train()\n",
        "    total_loss = 0\n",
        "\n",
        "    correct_preds, total_preds = 0, 0  # 매 에폭마다 초기화\n",
        "\n",
        "    for batch_embeddings, batch_frame_numbers, batch_labels in train_loader:\n",
        "        # 데이터를 GPU로 이동\n",
        "        batch_embeddings, batch_frame_numbers, batch_labels = batch_embeddings.to(device), batch_frame_numbers.to(device), batch_labels.to(device)\n",
        "\n",
        "        # batch_labels와 batch_frame_numbers를 long 타입으로 변환\n",
        "        batch_labels = batch_labels.long()\n",
        "        batch_frame_numbers = batch_frame_numbers.long()\n",
        "\n",
        "        # Forward pass: CLS 토큰과 각 프레임의 감정 예측\n",
        "        cls_output, framewise_output = model(batch_embeddings, modality='video', frame_numbers=batch_frame_numbers)\n",
        "\n",
        "        # 출력과 라벨의 차원을 맞추기 위해 view 사용\n",
        "        framewise_output = framewise_output.view(-1, framewise_output.size(-1))  # (batch_size * seq_len, num_classes)\n",
        "        batch_labels = batch_labels.view(-1)  # (batch_size * seq_len)\n",
        "\n",
        "        # 손실 함수 계산\n",
        "        loss = criterion(framewise_output, batch_labels)\n",
        "\n",
        "        # Backward pass and optimization\n",
        "        optimizer.zero_grad()\n",
        "        loss.backward()\n",
        "        optimizer.step()\n",
        "\n",
        "        total_loss += loss.item()\n",
        "\n",
        "        # 정확도 계산\n",
        "        _, predicted = torch.max(framewise_output, 1)\n",
        "        correct_preds += (predicted == batch_labels).sum().item()\n",
        "        total_preds += batch_labels.size(0)\n",
        "\n",
        "    # 학습 손실 및 정확도 기록\n",
        "    train_loss = total_loss / len(train_loader)\n",
        "    train_losses.append(train_loss)\n",
        "    train_accuracy = correct_preds / total_preds\n",
        "    train_accuracies.append(train_accuracy)\n",
        "\n",
        "    # 검증 단계\n",
        "    model.eval()\n",
        "    val_loss = 0\n",
        "    correct_preds, total_preds = 0, 0  # 검증 단계에서 다시 초기화\n",
        "    with torch.no_grad():\n",
        "        for batch_embeddings, batch_frame_numbers, batch_labels in test_loader:\n",
        "            batch_embeddings, batch_frame_numbers, batch_labels = batch_embeddings.to(device), batch_frame_numbers.to(device), batch_labels.to(device)\n",
        "\n",
        "            # batch_labels와 batch_frame_numbers를 long 타입으로 변환\n",
        "            batch_labels = batch_labels.long()\n",
        "            batch_frame_numbers = batch_frame_numbers.long()\n",
        "\n",
        "            # Forward pass (검증)\n",
        "            cls_output, framewise_output = model(batch_embeddings, modality='video', frame_numbers=batch_frame_numbers)\n",
        "\n",
        "            framewise_output = framewise_output.view(-1, framewise_output.size(-1))  # (batch_size * seq_len, num_classes)\n",
        "            batch_labels = batch_labels.view(-1)  # (batch_size * seq_len)\n",
        "\n",
        "            val_loss += criterion(framewise_output, batch_labels).item()\n",
        "\n",
        "            # 검증 정확도 계산\n",
        "            _, predicted = torch.max(framewise_output, 1)\n",
        "            correct_preds += (predicted == batch_labels).sum().item()\n",
        "            total_preds += batch_labels.size(0)\n",
        "\n",
        "    # 검증 손실 및 정확도 기록\n",
        "    val_loss /= len(test_loader)\n",
        "    val_losses.append(val_loss)\n",
        "    val_accuracy = correct_preds / total_preds\n",
        "    val_accuracies.append(val_accuracy)\n",
        "\n",
        "    print(f\"Epoch [{epoch+1}/{num_epochs}], Train Loss: {train_loss:.4f}, Val Loss: {val_loss:.4f}, Train Acc: {train_accuracy:.4f}, Val Acc: {val_accuracy:.4f}\")\n",
        "\n",
        "    epoch_cnt += 1\n",
        "    # Early stopping 체크\n",
        "    early_stopping(val_loss)\n",
        "    if early_stopping.early_stop:\n",
        "        print(f\"Early stopping at epoch {epoch+1}\")\n",
        "        break\n",
        "\n",
        "# 성능 시각화\n",
        "plt.figure(figsize=(12, 6))\n",
        "\n",
        "# 손실 시각화\n",
        "plt.subplot(1, 2, 1)\n",
        "plt.plot(train_losses, label=\"Train Loss\")\n",
        "plt.plot(val_losses, label=\"Validation Loss\")\n",
        "plt.xlabel(\"Epoch\")\n",
        "plt.ylabel(\"Loss\")\n",
        "plt.title(\"Train and Validation Loss\")\n",
        "plt.legend()\n",
        "\n",
        "# 정확도 시각화\n",
        "plt.subplot(1, 2, 2)\n",
        "plt.plot(train_accuracies, label=\"Train Accuracy\")\n",
        "plt.plot(val_accuracies, label=\"Validation Accuracy\")\n",
        "plt.xlabel(\"Epoch\")\n",
        "plt.ylabel(\"Accuracy\")\n",
        "plt.title(\"Train and Validation Accuracy\")\n",
        "plt.legend()\n",
        "\n",
        "plt.show()\n",
        "\n",
        "# 성능 평가 루프 (프레임별 감정 예측 평가)\n",
        "model.eval()\n",
        "all_preds = []\n",
        "all_labels = []\n",
        "with torch.no_grad():\n",
        "    for batch_embeddings, batch_frame_numbers, batch_labels in test_loader:\n",
        "        # 데이터를 GPU로 이동\n",
        "        batch_embeddings, batch_frame_numbers, batch_labels = batch_embeddings.to(device), batch_frame_numbers.to(device), batch_labels.to(device)\n",
        "\n",
        "        # batch_frame_numbers와 batch_labels를 long 타입으로 변환\n",
        "        batch_frame_numbers = batch_frame_numbers.long()\n",
        "        batch_labels = batch_labels.long()\n",
        "\n",
        "        # Forward pass (batch_frame_numbers는 long 타입이어야 함)\n",
        "        cls_output, framewise_output =  model(batch_embeddings, modality='video', frame_numbers=batch_frame_numbers)\n",
        "\n",
        "        # 출력과 라벨의 차원 맞추기\n",
        "        framewise_output = framewise_output.view(-1, framewise_output.size(-1))\n",
        "\n",
        "        # 예측값 predicted를 long 타입으로 변환\n",
        "        _, predicted = torch.max(framewise_output, 1)\n",
        "        predicted = predicted.long()\n",
        "\n",
        "        batch_labels = batch_labels.view(-1)\n",
        "\n",
        "        # GPU 텐서를 CPU로 이동하여 numpy로 변환\n",
        "        all_preds.extend(predicted.cpu().numpy())  # GPU 텐서를 CPU로 변환 후 numpy로 변환\n",
        "        all_labels.extend(batch_labels.cpu().numpy())  # 동일하게 처리\n",
        "\n",
        "# 정확도 및 F1 점수 계산\n",
        "accuracy = accuracy_score(all_labels, all_preds)\n",
        "f1 = f1_score(all_labels, all_preds, average='weighted')\n",
        "\n",
        "# 모델 저장 (확장자 추가)\n",
        "torch.save(model.state_dict(), file_path + f'/individual_modality_transformer_model/video_epoch_{epoch_cnt}_acc_{accuracy:.3f}.pth')\n",
        "\n",
        "print(f\"Final Accuracy: {accuracy:.4f}\")\n",
        "print(f\"Final F1 Score: {f1:.4f}\")"
      ]
    },
    {
      "cell_type": "markdown",
      "metadata": {
        "id": "897ab_Reb0Ob"
      },
      "source": [
        "# 모델 로드"
      ]
    },
    {
      "cell_type": "code",
      "execution_count": null,
      "metadata": {
        "colab": {
          "base_uri": "https://localhost:8080/"
        },
        "id": "YVfuoo7tbzmJ",
        "outputId": "fd54b52c-8ee9-4c89-adbe-c81c5aeafa7b"
      },
      "outputs": [
        {
          "name": "stderr",
          "output_type": "stream",
          "text": [
            "/usr/local/lib/python3.10/dist-packages/torch/nn/modules/transformer.py:307: UserWarning: enable_nested_tensor is True, but self.use_nested_tensor is False because encoder_layer.self_attn.batch_first was not True(use batch_first for better inference performance)\n",
            "  warnings.warn(f\"enable_nested_tensor is True, but self.use_nested_tensor is False because {why_not_sparsity_fast_path}\")\n",
            "<ipython-input-38-06e3b7558cf8>:2: FutureWarning: You are using `torch.load` with `weights_only=False` (the current default value), which uses the default pickle module implicitly. It is possible to construct malicious pickle data which will execute arbitrary code during unpickling (See https://github.com/pytorch/pytorch/blob/main/SECURITY.md#untrusted-models for more details). In a future release, the default value for `weights_only` will be flipped to `True`. This limits the functions that could be executed during unpickling. Arbitrary objects will no longer be allowed to be loaded via this mode unless they are explicitly allowlisted by the user via `torch.serialization.add_safe_globals`. We recommend you start setting `weights_only=True` for any use case where you don't have full control of the loaded file. Please open an issue on GitHub for any issues related to this experimental feature.\n",
            "  model.load_state_dict(torch.load(file_path + '/individual_modality_transformer_model/video_epoch_9_acc_0.957.pth'))\n"
          ]
        },
        {
          "data": {
            "text/plain": [
              "ModalityTransformerWithCLSAndFramewisePrediction(\n",
              "  (transformer): TransformerEncoder(\n",
              "    (layers): ModuleList(\n",
              "      (0-5): 6 x TransformerEncoderLayer(\n",
              "        (self_attn): MultiheadAttention(\n",
              "          (out_proj): NonDynamicallyQuantizableLinear(in_features=768, out_features=768, bias=True)\n",
              "        )\n",
              "        (linear1): Linear(in_features=768, out_features=2048, bias=True)\n",
              "        (dropout): Dropout(p=0.1, inplace=False)\n",
              "        (linear2): Linear(in_features=2048, out_features=768, bias=True)\n",
              "        (norm1): LayerNorm((768,), eps=1e-05, elementwise_affine=True)\n",
              "        (norm2): LayerNorm((768,), eps=1e-05, elementwise_affine=True)\n",
              "        (dropout1): Dropout(p=0.1, inplace=False)\n",
              "        (dropout2): Dropout(p=0.1, inplace=False)\n",
              "      )\n",
              "    )\n",
              "  )\n",
              "  (classifier): Linear(in_features=768, out_features=6, bias=True)\n",
              ")"
            ]
          },
          "execution_count": 38,
          "metadata": {},
          "output_type": "execute_result"
        }
      ],
      "source": [
        "model = ModalityTransformerWithCLSAndFramewisePrediction(embed_dim=embed_dim, num_heads=8, num_layers=6, max_seq_len=max_seq_len).to(device)\n",
        "model.load_state_dict(torch.load(file_path + '/individual_modality_transformer_model/video_epoch_9_acc_0.957.pth'))\n",
        "model.eval()"
      ]
    },
    {
      "cell_type": "markdown",
      "metadata": {
        "id": "WCt8ydwvU6me"
      },
      "source": [
        "## 교차학습을 위한 비디오 임베딩 데이터 저장"
      ]
    },
    {
      "cell_type": "code",
      "execution_count": null,
      "metadata": {
        "id": "CA5DbbSWf5b5"
      },
      "outputs": [],
      "source": [
        "from torch.utils.data import DataLoader, TensorDataset\n",
        "\n",
        "# 먼저 비디오 데이터를 TensorDataset으로 묶기\n",
        "video_dataset = TensorDataset(embedding_vectors, frame_numbers, emotion_labels)\n",
        "\n",
        "# DataLoader 생성 (배치 크기 16, 셔플 여부는 필요에 따라 설정)\n",
        "video_loader = DataLoader(video_dataset, batch_size=4, shuffle=False, drop_last=True)"
      ]
    },
    {
      "cell_type": "code",
      "execution_count": null,
      "metadata": {
        "id": "-lavAibWcofA"
      },
      "outputs": [],
      "source": [
        "video_embeddings = []\n",
        "\n",
        "# 모델을 평가 모드로 설정\n",
        "model.eval()\n",
        "\n",
        "with torch.no_grad():\n",
        "    for batch_embeddings, batch_frame_numbers, batch_labels in video_loader:  # 세 개의 값 추출 (임베딩, 프레임 번호, 라벨)\n",
        "        batch_embeddings, batch_frame_numbers = batch_embeddings.to(device), batch_frame_numbers.to(device)\n",
        "\n",
        "        # batch_labels와 batch_frame_numbers를 long 타입으로 변환\n",
        "        batch_labels = batch_labels.long()\n",
        "        batch_frame_numbers = batch_frame_numbers.long()\n",
        "\n",
        "        # 모델에 비디오 데이터를 입력하고 CLS 토큰 또는 프레임별 출력값 추출\n",
        "        cls_output, _ = model(batch_embeddings, batch_frame_numbers)\n",
        "\n",
        "\n",
        "        # CLS 토큰을 임베딩으로 사용 (필요에 따라 framewise_output도 사용 가능)\n",
        "        video_embeddings.append(cls_output.cpu().numpy())\n",
        "\n",
        "# 리스트를 numpy 배열로 변환\n",
        "video_embeddings = np.array(video_embeddings)"
      ]
    },
    {
      "cell_type": "code",
      "execution_count": null,
      "metadata": {
        "id": "ZLorOR-Ogg2a"
      },
      "outputs": [],
      "source": [
        "np.save(file_path + '/contrastive_learning_input_embedding/video_embeddings.npy', video_embeddings)"
      ]
    },
    {
      "cell_type": "code",
      "execution_count": null,
      "metadata": {
        "colab": {
          "base_uri": "https://localhost:8080/"
        },
        "id": "qD_KyrJLiDw6",
        "outputId": "004fbfa3-7500-4450-bb4d-ee0916ca4692"
      },
      "outputs": [
        {
          "name": "stdout",
          "output_type": "stream",
          "text": [
            "(127, 4, 768)\n"
          ]
        }
      ],
      "source": [
        "# 저장된 비디오 임베딩 데이터를 불러오기\n",
        "video_embeddings = np.load('/content/drive/MyDrive/sns_multimodal_sentiment_pr/contrastive_learning_input_embedding/video_embeddings.npy')\n",
        "\n",
        "# 데이터의 형태를 확인\n",
        "print(video_embeddings.shape)\n",
        "\n",
        "# 127개 비디오 클립 4개 프레임 768차원 drap last 는 트루로 남은건 버리고 배치사이즈 4로 비디오 4개씩 묶어서 127개 파일 768차원 임베딩 벡터"
      ]
    },
    {
      "cell_type": "markdown",
      "metadata": {
        "id": "VfKLaP2QExZa"
      },
      "source": [
        "# 오디오 트랜스포머 아웃풋\n",
        "## 오디오는 포지셔널 임베딩 이미 돼있으므로 cls 토큰만 추가\n",
        "### 강룡님 말 참고해서 정리하기\n"
      ]
    },
    {
      "cell_type": "code",
      "execution_count": null,
      "metadata": {
        "colab": {
          "base_uri": "https://localhost:8080/"
        },
        "id": "sxUT8TBChCIm",
        "outputId": "db23e140-3f89-4362-c57d-069868c06727"
      },
      "outputs": [
        {
          "data": {
            "text/plain": [
              "(torch.Size([3445]), torch.Size([3445, 768]))"
            ]
          },
          "execution_count": 28,
          "metadata": {},
          "output_type": "execute_result"
        }
      ],
      "source": [
        "encoded_labels_tensor.shape, audio_embeddings.shape"
      ]
    },
    {
      "cell_type": "markdown",
      "metadata": {
        "id": "1WMbMhSnjBeo"
      },
      "source": [
        "## 모델 학습 및 성능 시각화"
      ]
    },
    {
      "cell_type": "code",
      "execution_count": null,
      "metadata": {
        "id": "PwzeWzXYFbJZ"
      },
      "outputs": [],
      "source": [
        "# 2. DataLoader 준비 (입력과 라벨을 묶어서 제공)\n",
        "batch_size = 32\n",
        "dataset = TensorDataset(audio_embeddings, encoded_labels_tensor)\n",
        "dataloader = DataLoader(dataset, batch_size=batch_size, shuffle=True)"
      ]
    },
    {
      "cell_type": "code",
      "execution_count": null,
      "metadata": {
        "id": "UQu2d0Rcpm1e"
      },
      "outputs": [],
      "source": [
        "import numpy as np"
      ]
    },
    {
      "cell_type": "code",
      "execution_count": null,
      "metadata": {
        "colab": {
          "base_uri": "https://localhost:8080/",
          "height": 1000
        },
        "id": "pfatPcExtI0W",
        "outputId": "2bfb52a4-2e5a-4d2f-da57-c6008c10832d"
      },
      "outputs": [
        {
          "name": "stderr",
          "output_type": "stream",
          "text": [
            "/usr/local/lib/python3.10/dist-packages/torch/nn/modules/transformer.py:307: UserWarning: enable_nested_tensor is True, but self.use_nested_tensor is False because encoder_layer.self_attn.batch_first was not True(use batch_first for better inference performance)\n",
            "  warnings.warn(f\"enable_nested_tensor is True, but self.use_nested_tensor is False because {why_not_sparsity_fast_path}\")\n",
            "  3%|▎         | 1/30 [00:03<01:35,  3.28s/it]"
          ]
        },
        {
          "name": "stdout",
          "output_type": "stream",
          "text": [
            "Epoch [1/30], Predicted Values: [3 3 3 3 3 3 3 3 3 4]\n",
            "Epoch [1/30], Actual Labels: [3 4 4 0 4 4 3 3 4 4]\n",
            "Epoch [1/30], Train Loss: 2.2015, Val Loss: 1.4901, Train Acc: 0.4029, Val Acc: 0.5101\n"
          ]
        },
        {
          "name": "stderr",
          "output_type": "stream",
          "text": [
            "\r  7%|▋         | 2/30 [00:05<01:19,  2.83s/it]"
          ]
        },
        {
          "name": "stdout",
          "output_type": "stream",
          "text": [
            "Epoch [2/30], Predicted Values: [0 3 4 3 3 3 3 0 0 3]\n",
            "Epoch [2/30], Actual Labels: [4 3 3 5 3 2 4 3 0 0]\n",
            "Epoch [2/30], Train Loss: 1.6469, Val Loss: 1.4649, Train Acc: 0.4139, Val Acc: 0.5101\n"
          ]
        },
        {
          "name": "stderr",
          "output_type": "stream",
          "text": [
            "\r 10%|█         | 3/30 [00:08<01:10,  2.61s/it]"
          ]
        },
        {
          "name": "stdout",
          "output_type": "stream",
          "text": [
            "Epoch [3/30], Predicted Values: [3 0 3 3 3 3 3 3 3 3]\n",
            "Epoch [3/30], Actual Labels: [4 0 0 1 3 4 4 3 4 5]\n",
            "Epoch [3/30], Train Loss: 1.6388, Val Loss: 1.4814, Train Acc: 0.4000, Val Acc: 0.5101\n"
          ]
        },
        {
          "name": "stderr",
          "output_type": "stream",
          "text": [
            "\r 13%|█▎        | 4/30 [00:10<01:05,  2.51s/it]"
          ]
        },
        {
          "name": "stdout",
          "output_type": "stream",
          "text": [
            "Epoch [4/30], Predicted Values: [3 3 0 3 0 3 3 3 3 3]\n",
            "Epoch [4/30], Actual Labels: [3 4 3 3 4 0 0 3 0 3]\n",
            "Epoch [4/30], Train Loss: 1.5748, Val Loss: 1.4297, Train Acc: 0.4287, Val Acc: 0.5101\n"
          ]
        },
        {
          "name": "stderr",
          "output_type": "stream",
          "text": [
            "\r 17%|█▋        | 5/30 [00:12<01:01,  2.45s/it]"
          ]
        },
        {
          "name": "stdout",
          "output_type": "stream",
          "text": [
            "Epoch [5/30], Predicted Values: [0 3 0 3 3 0 3 3 0 0]\n",
            "Epoch [5/30], Actual Labels: [4 3 4 0 5 4 3 3 3 0]\n",
            "Epoch [5/30], Train Loss: 1.5853, Val Loss: 1.4616, Train Acc: 0.4200, Val Acc: 0.5101\n"
          ]
        },
        {
          "name": "stderr",
          "output_type": "stream",
          "text": [
            "\r 20%|██        | 6/30 [00:15<00:58,  2.42s/it]"
          ]
        },
        {
          "name": "stdout",
          "output_type": "stream",
          "text": [
            "Epoch [6/30], Predicted Values: [0 3 3 0 3 3 3 3 3 3]\n",
            "Epoch [6/30], Actual Labels: [3 4 3 0 3 5 3 0 3 3]\n",
            "Epoch [6/30], Train Loss: 1.5352, Val Loss: 1.4732, Train Acc: 0.4316, Val Acc: 0.5101\n"
          ]
        },
        {
          "name": "stderr",
          "output_type": "stream",
          "text": [
            "\r 23%|██▎       | 7/30 [00:17<00:55,  2.39s/it]"
          ]
        },
        {
          "name": "stdout",
          "output_type": "stream",
          "text": [
            "Epoch [7/30], Predicted Values: [3 3 0 3 3 3 3 3 4 3]\n",
            "Epoch [7/30], Actual Labels: [0 3 3 3 3 0 0 3 3 4]\n",
            "Epoch [7/30], Train Loss: 1.5269, Val Loss: 1.4341, Train Acc: 0.4355, Val Acc: 0.5101\n"
          ]
        },
        {
          "name": "stderr",
          "output_type": "stream",
          "text": [
            "\r 27%|██▋       | 8/30 [00:19<00:52,  2.37s/it]"
          ]
        },
        {
          "name": "stdout",
          "output_type": "stream",
          "text": [
            "Epoch [8/30], Predicted Values: [3 3 3 3 3 3 3 3 3 3]\n",
            "Epoch [8/30], Actual Labels: [3 5 0 1 5 3 0 0 0 3]\n",
            "Epoch [8/30], Train Loss: 1.5297, Val Loss: 1.4551, Train Acc: 0.4387, Val Acc: 0.5101\n"
          ]
        },
        {
          "name": "stderr",
          "output_type": "stream",
          "text": [
            "\r 30%|███       | 9/30 [00:22<00:50,  2.38s/it]"
          ]
        },
        {
          "name": "stdout",
          "output_type": "stream",
          "text": [
            "Epoch [9/30], Predicted Values: [3 3 3 4 3 3 3 0 3 3]\n",
            "Epoch [9/30], Actual Labels: [3 0 3 0 3 0 4 2 3 3]\n",
            "Epoch [9/30], Train Loss: 1.5134, Val Loss: 1.4502, Train Acc: 0.4390, Val Acc: 0.5101\n"
          ]
        },
        {
          "name": "stderr",
          "output_type": "stream",
          "text": [
            "\r 33%|███▎      | 10/30 [00:24<00:47,  2.36s/it]"
          ]
        },
        {
          "name": "stdout",
          "output_type": "stream",
          "text": [
            "Epoch [10/30], Predicted Values: [3 4 3 3 3 3 4 3 3 3]\n",
            "Epoch [10/30], Actual Labels: [0 3 3 3 3 3 3 3 3 3]\n",
            "Epoch [10/30], Train Loss: 1.4904, Val Loss: 1.4020, Train Acc: 0.4432, Val Acc: 0.5101\n"
          ]
        },
        {
          "name": "stderr",
          "output_type": "stream",
          "text": [
            "\r 37%|███▋      | 11/30 [00:26<00:44,  2.35s/it]"
          ]
        },
        {
          "name": "stdout",
          "output_type": "stream",
          "text": [
            "Epoch [11/30], Predicted Values: [0 3 4 3 3 3 3 3 3 3]\n",
            "Epoch [11/30], Actual Labels: [3 2 3 3 3 5 4 3 3 3]\n",
            "Epoch [11/30], Train Loss: 1.4873, Val Loss: 1.4254, Train Acc: 0.4455, Val Acc: 0.5101\n"
          ]
        },
        {
          "name": "stderr",
          "output_type": "stream",
          "text": [
            "\r 40%|████      | 12/30 [00:29<00:42,  2.35s/it]"
          ]
        },
        {
          "name": "stdout",
          "output_type": "stream",
          "text": [
            "Epoch [12/30], Predicted Values: [0 4 3 3 3 0 3 0 4 4]\n",
            "Epoch [12/30], Actual Labels: [3 3 0 0 4 3 0 3 3 3]\n",
            "Epoch [12/30], Train Loss: 1.4854, Val Loss: 1.4838, Train Acc: 0.4390, Val Acc: 0.5101\n"
          ]
        },
        {
          "name": "stderr",
          "output_type": "stream",
          "text": [
            "\r 43%|████▎     | 13/30 [00:31<00:39,  2.35s/it]"
          ]
        },
        {
          "name": "stdout",
          "output_type": "stream",
          "text": [
            "Epoch [13/30], Predicted Values: [3 3 3 3 3 0 3 3 3 3]\n",
            "Epoch [13/30], Actual Labels: [4 3 4 0 5 3 3 5 0 3]\n",
            "Epoch [13/30], Train Loss: 1.4806, Val Loss: 1.4325, Train Acc: 0.4523, Val Acc: 0.5101\n"
          ]
        },
        {
          "name": "stderr",
          "output_type": "stream",
          "text": [
            "\r 47%|████▋     | 14/30 [00:33<00:37,  2.33s/it]"
          ]
        },
        {
          "name": "stdout",
          "output_type": "stream",
          "text": [
            "Epoch [14/30], Predicted Values: [3 0 0 0 0 3 4 3 3 3]\n",
            "Epoch [14/30], Actual Labels: [4 0 3 0 3 3 3 1 3 0]\n",
            "Epoch [14/30], Train Loss: 1.4730, Val Loss: 1.4207, Train Acc: 0.4510, Val Acc: 0.5101\n"
          ]
        },
        {
          "name": "stderr",
          "output_type": "stream",
          "text": [
            "\r 50%|█████     | 15/30 [00:36<00:35,  2.34s/it]"
          ]
        },
        {
          "name": "stdout",
          "output_type": "stream",
          "text": [
            "Epoch [15/30], Predicted Values: [3 3 3 3 3 0 3 0 0 3]\n",
            "Epoch [15/30], Actual Labels: [3 4 2 3 1 0 3 3 4 3]\n",
            "Epoch [15/30], Train Loss: 1.4736, Val Loss: 1.6022, Train Acc: 0.4574, Val Acc: 0.5101\n"
          ]
        },
        {
          "name": "stderr",
          "output_type": "stream",
          "text": [
            "\r 53%|█████▎    | 16/30 [00:38<00:32,  2.34s/it]"
          ]
        },
        {
          "name": "stdout",
          "output_type": "stream",
          "text": [
            "Epoch [16/30], Predicted Values: [3 3 0 3 3 3 3 3 3 3]\n",
            "Epoch [16/30], Actual Labels: [3 3 0 4 3 0 1 0 3 3]\n",
            "Epoch [16/30], Train Loss: 1.4540, Val Loss: 1.4785, Train Acc: 0.4677, Val Acc: 0.5101\n"
          ]
        },
        {
          "name": "stderr",
          "output_type": "stream",
          "text": [
            "\r 57%|█████▋    | 17/30 [00:40<00:30,  2.33s/it]"
          ]
        },
        {
          "name": "stdout",
          "output_type": "stream",
          "text": [
            "Epoch [17/30], Predicted Values: [3 3 3 3 3 3 0 3 3 3]\n",
            "Epoch [17/30], Actual Labels: [3 3 0 5 5 0 5 3 0 5]\n",
            "Epoch [17/30], Train Loss: 1.4530, Val Loss: 1.4016, Train Acc: 0.4603, Val Acc: 0.5101\n"
          ]
        },
        {
          "name": "stderr",
          "output_type": "stream",
          "text": [
            "\r 60%|██████    | 18/30 [00:43<00:28,  2.34s/it]"
          ]
        },
        {
          "name": "stdout",
          "output_type": "stream",
          "text": [
            "Epoch [18/30], Predicted Values: [3 3 3 3 3 3 3 3 3 4]\n",
            "Epoch [18/30], Actual Labels: [0 3 3 0 0 4 3 4 1 3]\n",
            "Epoch [18/30], Train Loss: 1.4381, Val Loss: 1.4198, Train Acc: 0.4790, Val Acc: 0.5101\n"
          ]
        },
        {
          "name": "stderr",
          "output_type": "stream",
          "text": [
            "\r 63%|██████▎   | 19/30 [00:45<00:25,  2.33s/it]"
          ]
        },
        {
          "name": "stdout",
          "output_type": "stream",
          "text": [
            "Epoch [19/30], Predicted Values: [3 3 3 3 3 3 3 3 3 3]\n",
            "Epoch [19/30], Actual Labels: [3 0 3 4 4 1 3 4 1 3]\n",
            "Epoch [19/30], Train Loss: 1.4447, Val Loss: 1.4473, Train Acc: 0.4794, Val Acc: 0.5101\n"
          ]
        },
        {
          "name": "stderr",
          "output_type": "stream",
          "text": [
            "\r 67%|██████▋   | 20/30 [00:47<00:23,  2.34s/it]"
          ]
        },
        {
          "name": "stdout",
          "output_type": "stream",
          "text": [
            "Epoch [20/30], Predicted Values: [3 3 3 3 3 3 3 3 3 3]\n",
            "Epoch [20/30], Actual Labels: [3 3 3 5 4 3 5 3 3 3]\n",
            "Epoch [20/30], Train Loss: 1.4508, Val Loss: 1.4462, Train Acc: 0.4723, Val Acc: 0.5101\n"
          ]
        },
        {
          "name": "stderr",
          "output_type": "stream",
          "text": [
            "\r 70%|███████   | 21/30 [00:50<00:21,  2.34s/it]"
          ]
        },
        {
          "name": "stdout",
          "output_type": "stream",
          "text": [
            "Epoch [21/30], Predicted Values: [3 3 3 3 3 3 3 3 3 3]\n",
            "Epoch [21/30], Actual Labels: [3 3 3 3 4 3 4 3 0 5]\n",
            "Epoch [21/30], Train Loss: 1.4476, Val Loss: 1.4552, Train Acc: 0.4723, Val Acc: 0.5101\n"
          ]
        },
        {
          "name": "stderr",
          "output_type": "stream",
          "text": [
            "\r 73%|███████▎  | 22/30 [00:52<00:18,  2.33s/it]"
          ]
        },
        {
          "name": "stdout",
          "output_type": "stream",
          "text": [
            "Epoch [22/30], Predicted Values: [3 4 3 3 3 3 3 3 3 3]\n",
            "Epoch [22/30], Actual Labels: [3 4 3 5 5 3 4 3 3 3]\n",
            "Epoch [22/30], Train Loss: 1.4230, Val Loss: 1.4418, Train Acc: 0.4716, Val Acc: 0.5101\n"
          ]
        },
        {
          "name": "stderr",
          "output_type": "stream",
          "text": [
            "\r 77%|███████▋  | 23/30 [00:54<00:16,  2.33s/it]"
          ]
        },
        {
          "name": "stdout",
          "output_type": "stream",
          "text": [
            "Epoch [23/30], Predicted Values: [3 3 3 3 3 3 3 3 3 3]\n",
            "Epoch [23/30], Actual Labels: [4 3 0 0 4 3 0 5 3 0]\n",
            "Epoch [23/30], Train Loss: 1.4249, Val Loss: 1.4459, Train Acc: 0.4803, Val Acc: 0.5101\n"
          ]
        },
        {
          "name": "stderr",
          "output_type": "stream",
          "text": [
            "\r 80%|████████  | 24/30 [00:57<00:13,  2.33s/it]"
          ]
        },
        {
          "name": "stdout",
          "output_type": "stream",
          "text": [
            "Epoch [24/30], Predicted Values: [3 3 3 3 3 3 3 3 3 3]\n",
            "Epoch [24/30], Actual Labels: [5 4 4 4 4 3 3 3 3 3]\n",
            "Epoch [24/30], Train Loss: 1.4346, Val Loss: 1.4502, Train Acc: 0.4797, Val Acc: 0.5101\n"
          ]
        },
        {
          "name": "stderr",
          "output_type": "stream",
          "text": [
            "\r 80%|████████  | 24/30 [00:59<00:14,  2.49s/it]"
          ]
        },
        {
          "name": "stdout",
          "output_type": "stream",
          "text": [
            "Epoch [25/30], Predicted Values: [3 3 3 3 3 3 3 3 3 3]\n",
            "Epoch [25/30], Actual Labels: [5 1 3 3 3 3 0 3 5 3]\n",
            "Epoch [25/30], Train Loss: 1.4228, Val Loss: 1.4588, Train Acc: 0.4690, Val Acc: 0.5101\n",
            "Early stopping at epoch 25\n"
          ]
        },
        {
          "name": "stderr",
          "output_type": "stream",
          "text": [
            "\n"
          ]
        },
        {
          "data": {
            "image/png": "[encoded data removed]",
            "text/plain": [
              "<Figure size 1200x600 with 2 Axes>"
            ]
          },
          "metadata": {},
          "output_type": "display_data"
        },
        {
          "name": "stdout",
          "output_type": "stream",
          "text": [
            "Final Accuracy: 0.5101\n",
            "Final F1 Score: 0.3447\n"
          ]
        }
      ],
      "source": [
        "# 모델, 손실 함수, 옵티마이저 설정\n",
        "model = ModalityTransformerWithCLSAndFramewisePrediction(embed_dim= 768, num_heads=8, num_layers=6).to(device)\n",
        "criterion = nn.CrossEntropyLoss()\n",
        "optimizer = optim.Adam(model.parameters(), lr=1e-5)\n",
        "\n",
        "# DataLoader 준비 (입력과 라벨을 묶어서 제공)\n",
        "batch_size = 32\n",
        "dataset = TensorDataset(audio_embeddings, encoded_labels_tensor)\n",
        "train_size = int(0.9 * len(dataset))  # 90:10 비율로 학습/테스트 데이터 나눔\n",
        "test_size = len(dataset) - train_size\n",
        "train_dataset, test_dataset = torch.utils.data.random_split(dataset, [train_size, test_size])\n",
        "\n",
        "# DataLoader 생성\n",
        "train_loader = DataLoader(train_dataset, batch_size=batch_size, shuffle=True)\n",
        "test_loader = DataLoader(test_dataset, batch_size=batch_size, shuffle=False)\n",
        "\n",
        "# EarlyStopping 인스턴스 생성\n",
        "early_stopping = EarlyStopping(patience=8)\n",
        "\n",
        "# 성능 기록을 위한 리스트 초기화\n",
        "train_losses = []\n",
        "val_losses = []\n",
        "train_accuracies = []\n",
        "val_accuracies = []\n",
        "epoch_cnt = 0\n",
        "\n",
        "# 학습 루프 (CLS 토큰 기반 감정 예측)\n",
        "num_epochs = 30\n",
        "for epoch in tqdm(range(num_epochs)):\n",
        "    model.train()\n",
        "    total_loss = 0\n",
        "\n",
        "    correct_preds, total_preds = 0, 0  # 매 에폭마다 초기화\n",
        "\n",
        "    for batch_embeddings, batch_labels in train_loader:\n",
        "        # 데이터를 GPU로 이동\n",
        "        batch_embeddings, batch_labels = batch_embeddings.to(device), batch_labels.to(device)\n",
        "\n",
        "        # batch_labels를 long 타입으로 변환\n",
        "        batch_labels = batch_labels.long()\n",
        "\n",
        "        # Forward pass: CLS 토큰을 통한 감정 예측\n",
        "        cls_output = model(batch_embeddings, modality='audio')  # 오디오 모달리티에 맞게 조정\n",
        "\n",
        "        # 손실 함수 계산\n",
        "        loss = criterion(cls_output, batch_labels)\n",
        "\n",
        "        # Backward pass and optimization\n",
        "        optimizer.zero_grad()\n",
        "        loss.backward()\n",
        "        optimizer.step()\n",
        "\n",
        "        total_loss += loss.item()\n",
        "\n",
        "        # 정확도 계산\n",
        "        _, predicted = torch.max(cls_output, 1)  # 가장 높은 확률을 가진 클래스를 예측\n",
        "        correct_preds += (predicted == batch_labels).sum().item()\n",
        "        total_preds += batch_labels.size(0)\n",
        "\n",
        "    # 학습 손실 및 정확도 기록\n",
        "    train_loss = total_loss / len(train_loader)\n",
        "    train_losses.append(train_loss)\n",
        "    train_accuracy = correct_preds / total_preds\n",
        "    train_accuracies.append(train_accuracy)\n",
        "\n",
        "    # 예측값이 0~5 범위 내에 있는지 확인\n",
        "    predicted_values = predicted.cpu().numpy()  # 예측된 클래스 값\n",
        "    print(f\"Epoch [{epoch+1}/{num_epochs}], Predicted Values: {predicted_values[:10]}\")  # 첫 10개 예측값 출력\n",
        "    print(f\"Epoch [{epoch+1}/{num_epochs}], Actual Labels: {batch_labels.cpu().numpy()[:10]}\")  # 첫 10개 실제 라벨 출력\n",
        "\n",
        "    # 검증 단계\n",
        "    model.eval()\n",
        "    val_loss = 0\n",
        "    correct_preds, total_preds = 0, 0  # 검증 단계에서 다시 초기화\n",
        "    with torch.no_grad():\n",
        "        for batch_embeddings, batch_labels in test_loader:\n",
        "            batch_embeddings, batch_labels = batch_embeddings.to(device), batch_labels.to(device)\n",
        "\n",
        "            # batch_labels를 long 타입으로 변환\n",
        "            batch_labels = batch_labels.long()\n",
        "\n",
        "            # Forward pass (검증)\n",
        "            cls_output = model(batch_embeddings, modality='audio')  # 오디오 모달리티에 맞게 조정\n",
        "\n",
        "            val_loss += criterion(cls_output, batch_labels).item()\n",
        "\n",
        "            # 검증 정확도 계산\n",
        "            _, predicted = torch.max(cls_output, 1)\n",
        "            correct_preds += (predicted == batch_labels).sum().item()\n",
        "            total_preds += batch_labels.size(0)\n",
        "\n",
        "    # 검증 손실 및 정확도 기록\n",
        "    val_loss /= len(test_loader)\n",
        "    val_losses.append(val_loss)\n",
        "    val_accuracy = correct_preds / total_preds\n",
        "    val_accuracies.append(val_accuracy)\n",
        "\n",
        "    print(f\"Epoch [{epoch+1}/{num_epochs}], Train Loss: {train_loss:.4f}, Val Loss: {val_loss:.4f}, Train Acc: {train_accuracy:.4f}, Val Acc: {val_accuracy:.4f}\")\n",
        "\n",
        "    epoch_cnt += 1\n",
        "    # Early stopping 체크\n",
        "    early_stopping(val_loss)\n",
        "    if early_stopping.early_stop:\n",
        "        print(f\"Early stopping at epoch {epoch+1}\")\n",
        "        break\n",
        "\n",
        "# 성능 시각화\n",
        "plt.figure(figsize=(12, 6))\n",
        "\n",
        "# 손실 시각화\n",
        "plt.subplot(1, 2, 1)\n",
        "plt.plot(train_losses, label=\"Train Loss\")\n",
        "plt.plot(val_losses, label=\"Validation Loss\")\n",
        "plt.xlabel(\"Epoch\")\n",
        "plt.ylabel(\"Loss\")\n",
        "plt.title(\"Train and Validation Loss\")\n",
        "plt.legend()\n",
        "\n",
        "# 정확도 시각화\n",
        "plt.subplot(1, 2, 2)\n",
        "plt.plot(train_accuracies, label=\"Train Accuracy\")\n",
        "plt.plot(val_accuracies, label=\"Validation Accuracy\")\n",
        "plt.xlabel(\"Epoch\")\n",
        "plt.ylabel(\"Accuracy\")\n",
        "plt.title(\"Train and Validation Accuracy\")\n",
        "plt.legend()\n",
        "\n",
        "plt.show()\n",
        "\n",
        "# 성능 평가 루프 (CLS 토큰 기반 감정 예측 평가)\n",
        "model.eval()\n",
        "all_preds = []\n",
        "all_labels = []\n",
        "with torch.no_grad():\n",
        "    for batch_embeddings, batch_labels in test_loader:\n",
        "        # 데이터를 GPU로 이동\n",
        "        batch_embeddings, batch_labels = batch_embeddings.to(device), batch_labels.to(device)\n",
        "\n",
        "        # batch_labels를 long 타입으로 변환\n",
        "        batch_labels = batch_labels.long()\n",
        "\n",
        "        # Forward pass (오디오 모달리티로 감정 예측)\n",
        "        cls_output = model(batch_embeddings, modality='audio')\n",
        "\n",
        "        # 예측값 predicted를 long 타입으로 변환\n",
        "        _, predicted = torch.max(cls_output, 1)\n",
        "        predicted = predicted.long()\n",
        "\n",
        "        # GPU 텐서를 CPU로 이동하여 numpy로 변환\n",
        "        all_preds.extend(predicted.cpu().numpy())  # GPU 텐서를 CPU로 변환 후 numpy로 변환\n",
        "        all_labels.extend(batch_labels.cpu().numpy())  # 동일하게 처리\n",
        "\n",
        "# 정확도 및 F1 점수 계산\n",
        "accuracy = accuracy_score(all_labels, all_preds)\n",
        "f1 = f1_score(all_labels, all_preds, average='weighted')\n",
        "\n",
        "# 모델 저장 (확장자 추가)\n",
        "torch.save(model.state_dict(), file_path + f'/individual_modality_transformer_model/audio_epoch_{epoch_cnt}_acc_{accuracy:.3f}.pth')\n",
        "\n",
        "print(f\"Final Accuracy: {accuracy:.4f}\")\n",
        "print(f\"Final F1 Score: {f1:.4f}\")"
      ]
    },
    {
      "cell_type": "markdown",
      "metadata": {
        "id": "Iy1mv-5rweE-"
      },
      "source": [
        "# 교차학습을 위한 오디오 임베딩 벡터 저장"
      ]
    },
    {
      "cell_type": "code",
      "execution_count": null,
      "metadata": {
        "colab": {
          "base_uri": "https://localhost:8080/"
        },
        "id": "esSoEL45wf8t",
        "outputId": "b63a1de5-40f7-442d-f8ba-b750692c53a8"
      },
      "outputs": [
        {
          "name": "stderr",
          "output_type": "stream",
          "text": [
            "<ipython-input-27-08cd9e972bae>:1: FutureWarning: You are using `torch.load` with `weights_only=False` (the current default value), which uses the default pickle module implicitly. It is possible to construct malicious pickle data which will execute arbitrary code during unpickling (See https://github.com/pytorch/pytorch/blob/main/SECURITY.md#untrusted-models for more details). In a future release, the default value for `weights_only` will be flipped to `True`. This limits the functions that could be executed during unpickling. Arbitrary objects will no longer be allowed to be loaded via this mode unless they are explicitly allowlisted by the user via `torch.serialization.add_safe_globals`. We recommend you start setting `weights_only=True` for any use case where you don't have full control of the loaded file. Please open an issue on GitHub for any issues related to this experimental feature.\n",
            "  model.load_state_dict(torch.load(file_path + '/individual_modality_transformer_model/audio_epoch_25_acc_0.510.pth'))\n"
          ]
        },
        {
          "data": {
            "text/plain": [
              "ModalityTransformerWithCLSAndFramewisePrediction(\n",
              "  (transformer): TransformerEncoder(\n",
              "    (layers): ModuleList(\n",
              "      (0-5): 6 x TransformerEncoderLayer(\n",
              "        (self_attn): MultiheadAttention(\n",
              "          (out_proj): NonDynamicallyQuantizableLinear(in_features=768, out_features=768, bias=True)\n",
              "        )\n",
              "        (linear1): Linear(in_features=768, out_features=2048, bias=True)\n",
              "        (dropout): Dropout(p=0.1, inplace=False)\n",
              "        (linear2): Linear(in_features=2048, out_features=768, bias=True)\n",
              "        (norm1): LayerNorm((768,), eps=1e-05, elementwise_affine=True)\n",
              "        (norm2): LayerNorm((768,), eps=1e-05, elementwise_affine=True)\n",
              "        (dropout1): Dropout(p=0.1, inplace=False)\n",
              "        (dropout2): Dropout(p=0.1, inplace=False)\n",
              "      )\n",
              "    )\n",
              "  )\n",
              "  (classifier): Linear(in_features=768, out_features=6, bias=True)\n",
              ")"
            ]
          },
          "execution_count": 27,
          "metadata": {},
          "output_type": "execute_result"
        }
      ],
      "source": [
        "model.load_state_dict(torch.load(file_path + '/individual_modality_transformer_model/audio_epoch_25_acc_0.510.pth'))\n",
        "model.eval()"
      ]
    },
    {
      "cell_type": "code",
      "execution_count": null,
      "metadata": {
        "id": "z2gVp-fAxkjW"
      },
      "outputs": [],
      "source": [
        "# 오디오 데이터를 TensorDataset으로 묶기 (오디오 임베딩, 라벨 포함)\n",
        "audio_dataset = TensorDataset(audio_embeddings, encoded_labels_tensor)\n",
        "\n",
        "# DataLoader 생성 (배치 크기 32, 셔플 여부는 필요에 따라 설정)\n",
        "audio_loader = DataLoader(audio_dataset, batch_size=32, shuffle=False, drop_last=True)\n",
        "\n",
        "audio_embeddings = []"
      ]
    },
    {
      "cell_type": "code",
      "execution_count": null,
      "metadata": {
        "colab": {
          "base_uri": "https://localhost:8080/"
        },
        "id": "MncmvDdrxoJ-",
        "outputId": "41a73cf6-7927-46e9-e9d2-33f252e298a3"
      },
      "outputs": [
        {
          "name": "stdout",
          "output_type": "stream",
          "text": [
            "오디오 임베딩 벡터가 /content/drive/MyDrive/sns_multimodal_sentiment_pr/contrastive_learning_input_embedding/에 저장되었습니다.\n",
            "(3424, 768)\n"
          ]
        }
      ],
      "source": [
        "# 드랍 last 설정으로 데이터 로더 일부 삭제\n",
        "with torch.no_grad():\n",
        "    for batch_embeddings, _ in audio_loader:  # 오디오 임베딩과 라벨 추출 (라벨은 사용하지 않음)\n",
        "        batch_embeddings = batch_embeddings.to(device)\n",
        "\n",
        "        # 모델에 오디오 임베딩 입력\n",
        "        cls_output = model(batch_embeddings, modality='audio')  # CLS 토큰으로부터 임베딩 추출\n",
        "\n",
        "        # CLS 토큰을 임베딩으로 사용\n",
        "        audio_embeddings.append(cls_output.cpu().numpy())\n",
        "\n",
        "# 리스트를 numpy 배열로 변환 (배치 차원 제거)\n",
        "audio_embeddings = np.concatenate(audio_embeddings, axis=0)  # (전체 오디오 샘플 수, embed_dim)\n",
        "\n",
        "# 임베딩 벡터 저장\n",
        "np.save(file_path + '/contrastive_learning_input_embedding/audio_embeddings.npy', audio_embeddings)\n",
        "\n",
        "print(f\"오디오 임베딩 벡터가 {file_path}/contrastive_learning_input_embedding/에 저장되었습니다.\")\n",
        "\n",
        "# 저장된 오디오 임베딩 데이터를 불러오기\n",
        "audio_embeddings = np.load(file_path + '/contrastive_learning_input_embedding/audio_embeddings.npy')\n",
        "\n",
        "# 데이터의 형태를 확인\n",
        "print(audio_embeddings.shape)  # (전체 오디오 샘플 수, embed_dim)"
      ]
    },
    {
      "cell_type": "markdown",
      "metadata": {
        "id": "0b2tn-c8HSBC"
      },
      "source": [
        "# 텍스트 트랜스포머 아웃풋\n",
        "## 텍스트는 버트 사용으로 포지셔널 임베딩 이미 돼있으므로 cls 토큰만 추가 오디오와 거의 대부분 동일"
      ]
    },
    {
      "cell_type": "code",
      "execution_count": null,
      "metadata": {
        "colab": {
          "base_uri": "https://localhost:8080/"
        },
        "id": "gaiDfHoxHnPC",
        "outputId": "d9925055-1969-4e50-ca1a-d3bb4285b546"
      },
      "outputs": [
        {
          "name": "stdout",
          "output_type": "stream",
          "text": [
            "torch.Size([103849, 768])\n",
            "torch.Size([103849])\n"
          ]
        }
      ],
      "source": [
        "# 텐서의 형태 확인\n",
        "print(text_embeddings.shape)  # (103849, 768)\n",
        "print(encoded_text_labels_tensor.shape)  # (103849,)"
      ]
    },
    {
      "cell_type": "code",
      "execution_count": null,
      "metadata": {
        "id": "FlzBG8sIHnFf"
      },
      "outputs": [],
      "source": [
        "# 2. DataLoader 준비 (입력과 라벨을 묶어서 제공)\n",
        "batch_size = 64\n",
        "dataset = TensorDataset(text_embeddings, encoded_text_labels_tensor)\n",
        "dataloader = DataLoader(dataset, batch_size=batch_size, shuffle=True)"
      ]
    },
    {
      "cell_type": "code",
      "execution_count": null,
      "metadata": {
        "colab": {
          "base_uri": "https://localhost:8080/",
          "height": 706
        },
        "id": "GTgDHqeTHnDT",
        "outputId": "cf42f6af-8bdd-43c1-c04b-332ee0569157"
      },
      "outputs": [
        {
          "name": "stderr",
          "output_type": "stream",
          "text": [
            "/usr/local/lib/python3.10/dist-packages/torch/nn/modules/transformer.py:307: UserWarning: enable_nested_tensor is True, but self.use_nested_tensor is False because encoder_layer.self_attn.batch_first was not True(use batch_first for better inference performance)\n",
            "  warnings.warn(f\"enable_nested_tensor is True, but self.use_nested_tensor is False because {why_not_sparsity_fast_path}\")\n",
            "  0%|          | 0/50 [00:00<?, ?it/s]"
          ]
        },
        {
          "name": "stdout",
          "output_type": "stream",
          "text": [
            "Epoch [1/50], Predicted Values: [0 5 0 0 0 0 0]\n",
            "Epoch [1/50], Actual Labels: [1 2 5 3 2 2 0]\n"
          ]
        },
        {
          "name": "stderr",
          "output_type": "stream",
          "text": [
            "\r  2%|▏         | 1/50 [01:28<1:12:30, 88.79s/it]"
          ]
        },
        {
          "name": "stdout",
          "output_type": "stream",
          "text": [
            "Epoch [1/50], Train Loss: 1.9246, Val Loss: 1.8158, Train Acc: 0.1779, Val Acc: 0.1865\n",
            "Epoch [2/50], Predicted Values: [0 0 0 0 0 0 0]\n",
            "Epoch [2/50], Actual Labels: [4 2 4 0 3 0 2]\n"
          ]
        },
        {
          "name": "stderr",
          "output_type": "stream",
          "text": [
            "\r  4%|▍         | 2/50 [02:56<1:10:33, 88.19s/it]"
          ]
        },
        {
          "name": "stdout",
          "output_type": "stream",
          "text": [
            "Epoch [2/50], Train Loss: 1.8478, Val Loss: 1.8445, Train Acc: 0.1782, Val Acc: 0.1865\n",
            "Epoch [3/50], Predicted Values: [5 4 5 5 5 5 5]\n",
            "Epoch [3/50], Actual Labels: [1 0 4 4 5 0 4]\n"
          ]
        },
        {
          "name": "stderr",
          "output_type": "stream",
          "text": [
            "\r  6%|▌         | 3/50 [04:24<1:08:57, 88.03s/it]"
          ]
        },
        {
          "name": "stdout",
          "output_type": "stream",
          "text": [
            "Epoch [3/50], Train Loss: 1.8326, Val Loss: 1.8337, Train Acc: 0.1781, Val Acc: 0.1865\n",
            "Epoch [4/50], Predicted Values: [5 5 5 5 5 5 5]\n",
            "Epoch [4/50], Actual Labels: [5 3 1 1 2 2 0]\n"
          ]
        },
        {
          "name": "stderr",
          "output_type": "stream",
          "text": [
            "\r  8%|▊         | 4/50 [05:52<1:07:34, 88.14s/it]"
          ]
        },
        {
          "name": "stdout",
          "output_type": "stream",
          "text": [
            "Epoch [4/50], Train Loss: 1.8213, Val Loss: 1.8106, Train Acc: 0.1822, Val Acc: 0.1962\n",
            "Epoch [5/50], Predicted Values: [1 1 1 1 1 1 1]\n",
            "Epoch [5/50], Actual Labels: [4 0 1 5 2 3 2]\n"
          ]
        },
        {
          "name": "stderr",
          "output_type": "stream",
          "text": [
            "\r 10%|█         | 5/50 [07:21<1:06:24, 88.54s/it]"
          ]
        },
        {
          "name": "stdout",
          "output_type": "stream",
          "text": [
            "Epoch [5/50], Train Loss: 1.8159, Val Loss: 1.8142, Train Acc: 0.1829, Val Acc: 0.1553\n"
          ]
        },
        {
          "name": "stderr",
          "output_type": "stream",
          "text": [
            "\r 10%|█         | 5/50 [08:05<1:12:47, 97.05s/it]\n"
          ]
        },
        {
          "ename": "KeyboardInterrupt",
          "evalue": "",
          "output_type": "error",
          "traceback": [
            "\u001b[0;31m---------------------------------------------------------------------------\u001b[0m",
            "\u001b[0;31mKeyboardInterrupt\u001b[0m                         Traceback (most recent call last)",
            "\u001b[0;32m<ipython-input-16-805a52fcf01c>\u001b[0m in \u001b[0;36m<cell line: 29>\u001b[0;34m()\u001b[0m\n\u001b[1;32m     49\u001b[0m         \u001b[0moptimizer\u001b[0m\u001b[0;34m.\u001b[0m\u001b[0mzero_grad\u001b[0m\u001b[0;34m(\u001b[0m\u001b[0;34m)\u001b[0m\u001b[0;34m\u001b[0m\u001b[0;34m\u001b[0m\u001b[0m\n\u001b[1;32m     50\u001b[0m         \u001b[0mloss\u001b[0m\u001b[0;34m.\u001b[0m\u001b[0mbackward\u001b[0m\u001b[0;34m(\u001b[0m\u001b[0;34m)\u001b[0m\u001b[0;34m\u001b[0m\u001b[0;34m\u001b[0m\u001b[0m\n\u001b[0;32m---> 51\u001b[0;31m         \u001b[0moptimizer\u001b[0m\u001b[0;34m.\u001b[0m\u001b[0mstep\u001b[0m\u001b[0;34m(\u001b[0m\u001b[0;34m)\u001b[0m\u001b[0;34m\u001b[0m\u001b[0;34m\u001b[0m\u001b[0m\n\u001b[0m\u001b[1;32m     52\u001b[0m \u001b[0;34m\u001b[0m\u001b[0m\n\u001b[1;32m     53\u001b[0m         \u001b[0mtotal_loss\u001b[0m \u001b[0;34m+=\u001b[0m \u001b[0mloss\u001b[0m\u001b[0;34m.\u001b[0m\u001b[0mitem\u001b[0m\u001b[0;34m(\u001b[0m\u001b[0;34m)\u001b[0m\u001b[0;34m\u001b[0m\u001b[0;34m\u001b[0m\u001b[0m\n",
            "\u001b[0;32m/usr/local/lib/python3.10/dist-packages/torch/optim/optimizer.py\u001b[0m in \u001b[0;36mwrapper\u001b[0;34m(*args, **kwargs)\u001b[0m\n\u001b[1;32m    482\u001b[0m                             )\n\u001b[1;32m    483\u001b[0m \u001b[0;34m\u001b[0m\u001b[0m\n\u001b[0;32m--> 484\u001b[0;31m                 \u001b[0mout\u001b[0m \u001b[0;34m=\u001b[0m \u001b[0mfunc\u001b[0m\u001b[0;34m(\u001b[0m\u001b[0;34m*\u001b[0m\u001b[0margs\u001b[0m\u001b[0;34m,\u001b[0m \u001b[0;34m**\u001b[0m\u001b[0mkwargs\u001b[0m\u001b[0;34m)\u001b[0m\u001b[0;34m\u001b[0m\u001b[0;34m\u001b[0m\u001b[0m\n\u001b[0m\u001b[1;32m    485\u001b[0m                 \u001b[0mself\u001b[0m\u001b[0;34m.\u001b[0m\u001b[0m_optimizer_step_code\u001b[0m\u001b[0;34m(\u001b[0m\u001b[0;34m)\u001b[0m\u001b[0;34m\u001b[0m\u001b[0;34m\u001b[0m\u001b[0m\n\u001b[1;32m    486\u001b[0m \u001b[0;34m\u001b[0m\u001b[0m\n",
            "\u001b[0;32m/usr/local/lib/python3.10/dist-packages/torch/optim/optimizer.py\u001b[0m in \u001b[0;36m_use_grad\u001b[0;34m(self, *args, **kwargs)\u001b[0m\n\u001b[1;32m     87\u001b[0m             \u001b[0mtorch\u001b[0m\u001b[0;34m.\u001b[0m\u001b[0mset_grad_enabled\u001b[0m\u001b[0;34m(\u001b[0m\u001b[0mself\u001b[0m\u001b[0;34m.\u001b[0m\u001b[0mdefaults\u001b[0m\u001b[0;34m[\u001b[0m\u001b[0;34m\"differentiable\"\u001b[0m\u001b[0;34m]\u001b[0m\u001b[0;34m)\u001b[0m\u001b[0;34m\u001b[0m\u001b[0;34m\u001b[0m\u001b[0m\n\u001b[1;32m     88\u001b[0m             \u001b[0mtorch\u001b[0m\u001b[0;34m.\u001b[0m\u001b[0m_dynamo\u001b[0m\u001b[0;34m.\u001b[0m\u001b[0mgraph_break\u001b[0m\u001b[0;34m(\u001b[0m\u001b[0;34m)\u001b[0m\u001b[0;34m\u001b[0m\u001b[0;34m\u001b[0m\u001b[0m\n\u001b[0;32m---> 89\u001b[0;31m             \u001b[0mret\u001b[0m \u001b[0;34m=\u001b[0m \u001b[0mfunc\u001b[0m\u001b[0;34m(\u001b[0m\u001b[0mself\u001b[0m\u001b[0;34m,\u001b[0m \u001b[0;34m*\u001b[0m\u001b[0margs\u001b[0m\u001b[0;34m,\u001b[0m \u001b[0;34m**\u001b[0m\u001b[0mkwargs\u001b[0m\u001b[0;34m)\u001b[0m\u001b[0;34m\u001b[0m\u001b[0;34m\u001b[0m\u001b[0m\n\u001b[0m\u001b[1;32m     90\u001b[0m         \u001b[0;32mfinally\u001b[0m\u001b[0;34m:\u001b[0m\u001b[0;34m\u001b[0m\u001b[0;34m\u001b[0m\u001b[0m\n\u001b[1;32m     91\u001b[0m             \u001b[0mtorch\u001b[0m\u001b[0;34m.\u001b[0m\u001b[0m_dynamo\u001b[0m\u001b[0;34m.\u001b[0m\u001b[0mgraph_break\u001b[0m\u001b[0;34m(\u001b[0m\u001b[0;34m)\u001b[0m\u001b[0;34m\u001b[0m\u001b[0;34m\u001b[0m\u001b[0m\n",
            "\u001b[0;32m/usr/local/lib/python3.10/dist-packages/torch/optim/adam.py\u001b[0m in \u001b[0;36mstep\u001b[0;34m(self, closure)\u001b[0m\n\u001b[1;32m    224\u001b[0m             )\n\u001b[1;32m    225\u001b[0m \u001b[0;34m\u001b[0m\u001b[0m\n\u001b[0;32m--> 226\u001b[0;31m             adam(\n\u001b[0m\u001b[1;32m    227\u001b[0m                 \u001b[0mparams_with_grad\u001b[0m\u001b[0;34m,\u001b[0m\u001b[0;34m\u001b[0m\u001b[0;34m\u001b[0m\u001b[0m\n\u001b[1;32m    228\u001b[0m                 \u001b[0mgrads\u001b[0m\u001b[0;34m,\u001b[0m\u001b[0;34m\u001b[0m\u001b[0;34m\u001b[0m\u001b[0m\n",
            "\u001b[0;32m/usr/local/lib/python3.10/dist-packages/torch/optim/optimizer.py\u001b[0m in \u001b[0;36mmaybe_fallback\u001b[0;34m(*args, **kwargs)\u001b[0m\n\u001b[1;32m    159\u001b[0m                 \u001b[0;32mreturn\u001b[0m \u001b[0mdisabled_func\u001b[0m\u001b[0;34m(\u001b[0m\u001b[0;34m*\u001b[0m\u001b[0margs\u001b[0m\u001b[0;34m,\u001b[0m \u001b[0;34m**\u001b[0m\u001b[0mkwargs\u001b[0m\u001b[0;34m)\u001b[0m\u001b[0;34m\u001b[0m\u001b[0;34m\u001b[0m\u001b[0m\n\u001b[1;32m    160\u001b[0m             \u001b[0;32melse\u001b[0m\u001b[0;34m:\u001b[0m\u001b[0;34m\u001b[0m\u001b[0;34m\u001b[0m\u001b[0m\n\u001b[0;32m--> 161\u001b[0;31m                 \u001b[0;32mreturn\u001b[0m \u001b[0mfunc\u001b[0m\u001b[0;34m(\u001b[0m\u001b[0;34m*\u001b[0m\u001b[0margs\u001b[0m\u001b[0;34m,\u001b[0m \u001b[0;34m**\u001b[0m\u001b[0mkwargs\u001b[0m\u001b[0;34m)\u001b[0m\u001b[0;34m\u001b[0m\u001b[0;34m\u001b[0m\u001b[0m\n\u001b[0m\u001b[1;32m    162\u001b[0m \u001b[0;34m\u001b[0m\u001b[0m\n\u001b[1;32m    163\u001b[0m         \u001b[0;32mreturn\u001b[0m \u001b[0mmaybe_fallback\u001b[0m\u001b[0;34m\u001b[0m\u001b[0;34m\u001b[0m\u001b[0m\n",
            "\u001b[0;32m/usr/local/lib/python3.10/dist-packages/torch/optim/adam.py\u001b[0m in \u001b[0;36madam\u001b[0;34m(params, grads, exp_avgs, exp_avg_sqs, max_exp_avg_sqs, state_steps, foreach, capturable, differentiable, fused, grad_scale, found_inf, has_complex, amsgrad, beta1, beta2, lr, weight_decay, eps, maximize)\u001b[0m\n\u001b[1;32m    764\u001b[0m         \u001b[0mfunc\u001b[0m \u001b[0;34m=\u001b[0m \u001b[0m_single_tensor_adam\u001b[0m\u001b[0;34m\u001b[0m\u001b[0;34m\u001b[0m\u001b[0m\n\u001b[1;32m    765\u001b[0m \u001b[0;34m\u001b[0m\u001b[0m\n\u001b[0;32m--> 766\u001b[0;31m     func(\n\u001b[0m\u001b[1;32m    767\u001b[0m         \u001b[0mparams\u001b[0m\u001b[0;34m,\u001b[0m\u001b[0;34m\u001b[0m\u001b[0;34m\u001b[0m\u001b[0m\n\u001b[1;32m    768\u001b[0m         \u001b[0mgrads\u001b[0m\u001b[0;34m,\u001b[0m\u001b[0;34m\u001b[0m\u001b[0;34m\u001b[0m\u001b[0m\n",
            "\u001b[0;32m/usr/local/lib/python3.10/dist-packages/torch/optim/adam.py\u001b[0m in \u001b[0;36m_multi_tensor_adam\u001b[0;34m(params, grads, exp_avgs, exp_avg_sqs, max_exp_avg_sqs, state_steps, grad_scale, found_inf, amsgrad, has_complex, beta1, beta2, lr, weight_decay, eps, maximize, capturable, differentiable)\u001b[0m\n\u001b[1;32m    516\u001b[0m         \u001b[0;31m# wrapped it once now. The alpha is required to assure we go to the right overload.\u001b[0m\u001b[0;34m\u001b[0m\u001b[0;34m\u001b[0m\u001b[0m\n\u001b[1;32m    517\u001b[0m         \u001b[0;32mif\u001b[0m \u001b[0mdevice_state_steps\u001b[0m\u001b[0;34m[\u001b[0m\u001b[0;36m0\u001b[0m\u001b[0;34m]\u001b[0m\u001b[0;34m.\u001b[0m\u001b[0mis_cpu\u001b[0m\u001b[0;34m:\u001b[0m\u001b[0;34m\u001b[0m\u001b[0;34m\u001b[0m\u001b[0m\n\u001b[0;32m--> 518\u001b[0;31m             torch._foreach_add_(\n\u001b[0m\u001b[1;32m    519\u001b[0m                 \u001b[0mdevice_state_steps\u001b[0m\u001b[0;34m,\u001b[0m \u001b[0mtorch\u001b[0m\u001b[0;34m.\u001b[0m\u001b[0mtensor\u001b[0m\u001b[0;34m(\u001b[0m\u001b[0;36m1.0\u001b[0m\u001b[0;34m,\u001b[0m \u001b[0mdevice\u001b[0m\u001b[0;34m=\u001b[0m\u001b[0;34m\"cpu\"\u001b[0m\u001b[0;34m)\u001b[0m\u001b[0;34m,\u001b[0m \u001b[0malpha\u001b[0m\u001b[0;34m=\u001b[0m\u001b[0;36m1.0\u001b[0m\u001b[0;34m\u001b[0m\u001b[0;34m\u001b[0m\u001b[0m\n\u001b[1;32m    520\u001b[0m             )\n",
            "\u001b[0;31mKeyboardInterrupt\u001b[0m: "
          ]
        }
      ],
      "source": [
        "# 모델, 손실 함수, 옵티마이저 설정\n",
        "model = ModalityTransformerWithCLSAndFramewisePrediction(embed_dim= 768, num_heads=12, num_layers=8).to(device)\n",
        "criterion = nn.CrossEntropyLoss()\n",
        "optimizer = optim.Adam(model.parameters(), lr=1e-4)\n",
        "\n",
        "# DataLoader 준비 (입력과 라벨을 묶어서 제공)\n",
        "batch_size = 32\n",
        "dataset = TensorDataset(text_embeddings, encoded_text_labels_tensor)\n",
        "train_size = int(0.8 * len(dataset))  # 80:20 비율로 학습/테스트 데이터 나눔\n",
        "test_size = len(dataset) - train_size\n",
        "train_dataset, test_dataset = torch.utils.data.random_split(dataset, [train_size, test_size])\n",
        "\n",
        "# DataLoader 생성\n",
        "train_loader = DataLoader(train_dataset, batch_size=batch_size, shuffle=True)\n",
        "test_loader = DataLoader(test_dataset, batch_size=batch_size, shuffle=False)\n",
        "\n",
        "# EarlyStopping 인스턴스 생성\n",
        "early_stopping = EarlyStopping(patience=15)\n",
        "\n",
        "# 성능 기록을 위한 리스트 초기화\n",
        "train_losses = []\n",
        "val_losses = []\n",
        "train_accuracies = []\n",
        "val_accuracies = []\n",
        "epoch_cnt = 0\n",
        "\n",
        "# 학습 루프 (CLS 토큰 기반 감정 예측)\n",
        "num_epochs = 50\n",
        "for epoch in tqdm(range(num_epochs)):\n",
        "    model.train()\n",
        "    total_loss = 0\n",
        "\n",
        "    correct_preds, total_preds = 0, 0  # 매 에폭마다 초기화\n",
        "\n",
        "    for batch_embeddings, batch_labels in train_loader:\n",
        "        # 데이터를 GPU로 이동\n",
        "        batch_embeddings, batch_labels = batch_embeddings.to(device), batch_labels.to(device)\n",
        "\n",
        "        # batch_labels를 long 타입으로 변환\n",
        "        batch_labels = batch_labels.long()\n",
        "\n",
        "        # Forward pass: CLS 토큰을 통한 감정 예측\n",
        "        cls_output = model(batch_embeddings, modality='text')  # 텍스트 모달리티에 맞게 조정\n",
        "\n",
        "        # 손실 함수 계산\n",
        "        loss = criterion(cls_output, batch_labels)\n",
        "\n",
        "        # Backward pass and optimization\n",
        "        optimizer.zero_grad()\n",
        "        loss.backward()\n",
        "        optimizer.step()\n",
        "\n",
        "        total_loss += loss.item()\n",
        "\n",
        "        # 정확도 계산\n",
        "        _, predicted = torch.max(cls_output, 1)  # 가장 높은 확률을 가진 클래스를 예측\n",
        "        correct_preds += (predicted == batch_labels).sum().item()\n",
        "        total_preds += batch_labels.size(0)\n",
        "\n",
        "    # 학습 손실 및 정확도 기록\n",
        "    train_loss = total_loss / len(train_loader)\n",
        "    train_losses.append(train_loss)\n",
        "    train_accuracy = correct_preds / total_preds\n",
        "    train_accuracies.append(train_accuracy)\n",
        "\n",
        "    # 예측값이 0~5 범위 내에 있는지 확인\n",
        "    predicted_values = predicted.cpu().numpy()  # 예측된 클래스 값\n",
        "    print(f\"Epoch [{epoch+1}/{num_epochs}], Predicted Values: {predicted_values[:10]}\")  # 첫 10개 예측값 출력\n",
        "    print(f\"Epoch [{epoch+1}/{num_epochs}], Actual Labels: {batch_labels.cpu().numpy()[:10]}\")  # 첫 10개 실제 라벨 출력\n",
        "\n",
        "    # 검증 단계\n",
        "    model.eval()\n",
        "    val_loss = 0\n",
        "    correct_preds, total_preds = 0, 0  # 검증 단계에서 다시 초기화\n",
        "    with torch.no_grad():\n",
        "        for batch_embeddings, batch_labels in test_loader:\n",
        "            batch_embeddings, batch_labels = batch_embeddings.to(device), batch_labels.to(device)\n",
        "\n",
        "            # batch_labels를 long 타입으로 변환\n",
        "            batch_labels = batch_labels.long()\n",
        "\n",
        "            # Forward pass (검증)\n",
        "            cls_output = model(batch_embeddings, modality='text')  # 오디오 모달리티에 맞게 조정\n",
        "\n",
        "            val_loss += criterion(cls_output, batch_labels).item()\n",
        "\n",
        "            # 검증 정확도 계산\n",
        "            _, predicted = torch.max(cls_output, 1)\n",
        "            correct_preds += (predicted == batch_labels).sum().item()\n",
        "            total_preds += batch_labels.size(0)\n",
        "\n",
        "    # 검증 손실 및 정확도 기록\n",
        "    val_loss /= len(test_loader)\n",
        "    val_losses.append(val_loss)\n",
        "    val_accuracy = correct_preds / total_preds\n",
        "    val_accuracies.append(val_accuracy)\n",
        "\n",
        "    print(f\"Epoch [{epoch+1}/{num_epochs}], Train Loss: {train_loss:.4f}, Val Loss: {val_loss:.4f}, Train Acc: {train_accuracy:.4f}, Val Acc: {val_accuracy:.4f}\")\n",
        "\n",
        "    epoch_cnt += 1\n",
        "    # Early stopping 체크\n",
        "    early_stopping(val_loss)\n",
        "    if early_stopping.early_stop:\n",
        "        print(f\"Early stopping at epoch {epoch+1}\")\n",
        "        break\n",
        "\n",
        "# 성능 시각화\n",
        "plt.figure(figsize=(12, 6))\n",
        "\n",
        "# 손실 시각화\n",
        "plt.subplot(1, 2, 1)\n",
        "plt.plot(train_losses, label=\"Train Loss\")\n",
        "plt.plot(val_losses, label=\"Validation Loss\")\n",
        "plt.xlabel(\"Epoch\")\n",
        "plt.ylabel(\"Loss\")\n",
        "plt.title(\"Train and Validation Loss\")\n",
        "plt.legend()\n",
        "\n",
        "# 정확도 시각화\n",
        "plt.subplot(1, 2, 2)\n",
        "plt.plot(train_accuracies, label=\"Train Accuracy\")\n",
        "plt.plot(val_accuracies, label=\"Validation Accuracy\")\n",
        "plt.xlabel(\"Epoch\")\n",
        "plt.ylabel(\"Accuracy\")\n",
        "plt.title(\"Train and Validation Accuracy\")\n",
        "plt.legend()\n",
        "\n",
        "plt.show()\n",
        "\n",
        "# 성능 평가 루프 (CLS 토큰 기반 감정 예측 평가)\n",
        "model.eval()\n",
        "all_preds = []\n",
        "all_labels = []\n",
        "with torch.no_grad():\n",
        "    for batch_embeddings, batch_labels in test_loader:\n",
        "        # 데이터를 GPU로 이동\n",
        "        batch_embeddings, batch_labels = batch_embeddings.to(device), batch_labels.to(device)\n",
        "\n",
        "        # batch_labels를 long 타입으로 변환\n",
        "        batch_labels = batch_labels.long()\n",
        "\n",
        "        # Forward pass (텍스트 모달리티로 감정 예측)\n",
        "        cls_output = model(batch_embeddings, modality='text')\n",
        "\n",
        "        # 예측값 predicted를 long 타입으로 변환\n",
        "        _, predicted = torch.max(cls_output, 1)\n",
        "        predicted = predicted.long()\n",
        "\n",
        "        # GPU 텐서를 CPU로 이동하여 numpy로 변환\n",
        "        all_preds.extend(predicted.cpu().numpy())  # GPU 텐서를 CPU로 변환 후 numpy로 변환\n",
        "        all_labels.extend(batch_labels.cpu().numpy())  # 동일하게 처리\n",
        "\n",
        "# 정확도 및 F1 점수 계산\n",
        "accuracy = accuracy_score(all_labels, all_preds)\n",
        "f1 = f1_score(all_labels, all_preds, average='weighted')\n",
        "\n",
        "# 모델 저장 (확장자 추가)\n",
        "torch.save(model.state_dict(), file_path + f'/individual_modality_transformer_model/text_epoch_{epoch_cnt}_acc_{accuracy:.3f}.pth')\n",
        "\n",
        "print(f\"Final Accuracy: {accuracy:.4f}\")\n",
        "print(f\"Final F1 Score: {f1:.4f}\")"
      ]
    },
    {
      "cell_type": "markdown",
      "metadata": {
        "id": "n4k5cIGpd5dW"
      },
      "source": [
        "# 교차학습을 위한 텍스트 임베딩 벡터 저장"
      ]
    },
    {
      "cell_type": "code",
      "execution_count": null,
      "metadata": {
        "colab": {
          "base_uri": "https://localhost:8080/"
        },
        "id": "4aKIh-2rd4v5",
        "outputId": "0915d766-3428-4ca4-ccc0-c9ee0aa070b0"
      },
      "outputs": [
        {
          "name": "stderr",
          "output_type": "stream",
          "text": [
            "<ipython-input-59-9586cc6d3cb4>:1: FutureWarning: You are using `torch.load` with `weights_only=False` (the current default value), which uses the default pickle module implicitly. It is possible to construct malicious pickle data which will execute arbitrary code during unpickling (See https://github.com/pytorch/pytorch/blob/main/SECURITY.md#untrusted-models for more details). In a future release, the default value for `weights_only` will be flipped to `True`. This limits the functions that could be executed during unpickling. Arbitrary objects will no longer be allowed to be loaded via this mode unless they are explicitly allowlisted by the user via `torch.serialization.add_safe_globals`. We recommend you start setting `weights_only=True` for any use case where you don't have full control of the loaded file. Please open an issue on GitHub for any issues related to this experimental feature.\n",
            "  model.load_state_dict(torch.load(file_path + '/individual_modality_transformer_model/text_epoch_13_acc_0.188.pth'))\n"
          ]
        },
        {
          "data": {
            "text/plain": [
              "ModalityTransformerWithCLSAndFramewisePrediction(\n",
              "  (transformer): TransformerEncoder(\n",
              "    (layers): ModuleList(\n",
              "      (0-5): 6 x TransformerEncoderLayer(\n",
              "        (self_attn): MultiheadAttention(\n",
              "          (out_proj): NonDynamicallyQuantizableLinear(in_features=768, out_features=768, bias=True)\n",
              "        )\n",
              "        (linear1): Linear(in_features=768, out_features=2048, bias=True)\n",
              "        (dropout): Dropout(p=0.1, inplace=False)\n",
              "        (linear2): Linear(in_features=2048, out_features=768, bias=True)\n",
              "        (norm1): LayerNorm((768,), eps=1e-05, elementwise_affine=True)\n",
              "        (norm2): LayerNorm((768,), eps=1e-05, elementwise_affine=True)\n",
              "        (dropout1): Dropout(p=0.1, inplace=False)\n",
              "        (dropout2): Dropout(p=0.1, inplace=False)\n",
              "      )\n",
              "    )\n",
              "  )\n",
              "  (classifier): Linear(in_features=768, out_features=6, bias=True)\n",
              ")"
            ]
          },
          "execution_count": 59,
          "metadata": {},
          "output_type": "execute_result"
        }
      ],
      "source": [
        "model.load_state_dict(torch.load(file_path + '/individual_modality_transformer_model/text_epoch_13_acc_0.188.pth'))\n",
        "model.eval()"
      ]
    },
    {
      "cell_type": "code",
      "execution_count": null,
      "metadata": {
        "id": "Ddfg0VsAeIPI"
      },
      "outputs": [],
      "source": [
        "# 텍스트 데이터를 TensorDataset으로 묶기 (텍스트 임베딩, 라벨 포함)\n",
        "text_dataset = TensorDataset(text_embeddings, encoded_text_labels_tensor)\n",
        "\n",
        "# DataLoader 생성 (배치 크기 32, 셔플 여부는 필요에 따라 설정)\n",
        "text_loader = DataLoader(text_dataset, batch_size=32, shuffle=False, drop_last=True)\n",
        "\n",
        "text_embeddings = []"
      ]
    },
    {
      "cell_type": "code",
      "execution_count": null,
      "metadata": {
        "colab": {
          "base_uri": "https://localhost:8080/"
        },
        "id": "7LsB8j5iei_G",
        "outputId": "81079d9d-9e48-4d5e-8595-104137743e8c"
      },
      "outputs": [
        {
          "name": "stdout",
          "output_type": "stream",
          "text": [
            "텍스트 임베딩 벡터가 /content/drive/MyDrive/sns_multimodal_sentiment_pr/contrastive_learning_input_embedding/에 저장되었습니다.\n",
            "(103840, 768)\n"
          ]
        }
      ],
      "source": [
        "# 드랍 last 설정으로 데이터 로더 일부 삭제\n",
        "with torch.no_grad():\n",
        "    for batch_embeddings, _ in text_loader:  # 텍스트 임베딩과 라벨 추출 (라벨은 사용하지 않음)\n",
        "        batch_embeddings = batch_embeddings.to(device)\n",
        "\n",
        "        # 모델에 오디오 임베딩 입력\n",
        "        cls_output = model(batch_embeddings, modality='text')  # CLS 토큰으로부터 임베딩 추출\n",
        "\n",
        "        # CLS 토큰을 임베딩으로 사용\n",
        "        text_embeddings.append(cls_output.cpu().numpy())\n",
        "\n",
        "# 리스트를 numpy 배열로 변환 (배치 차원 제거)\n",
        "text_embeddings = np.concatenate(text_embeddings, axis=0)  # (전체 텍스트 샘플 수, embed_dim)\n",
        "\n",
        "# 임베딩 벡터 저장\n",
        "np.save(file_path + '/contrastive_learning_input_embedding/text_embeddings.npy', text_embeddings)\n",
        "\n",
        "print(f\"텍스트 임베딩 벡터가 {file_path}/contrastive_learning_input_embedding/에 저장되었습니다.\")\n",
        "\n",
        "# 저장된 텍스트 임베딩 데이터를 불러오기\n",
        "text_embeddings = np.load(file_path + '/contrastive_learning_input_embedding/text_embeddings.npy')\n",
        "\n",
        "# 데이터의 형태를 확인\n",
        "print(text_embeddings.shape)  # (전체 텍스트 샘플 수, embed_dim)"
      ]
    },
    {
      "cell_type": "markdown",
      "metadata": {
        "id": "aSMkmwjiHnhe"
      },
      "source": [
        "# 이미지 트랜스포머 아웃풋\n",
        "## 이미지는 포지셔널 임베딩 + cls 토큰 추가 진행"
      ]
    },
    {
      "cell_type": "code",
      "execution_count": null,
      "metadata": {
        "colab": {
          "base_uri": "https://localhost:8080/"
        },
        "id": "HEbYE7MPHsPj",
        "outputId": "9f93b1f3-6cf6-481f-98a8-db3be4d938f0"
      },
      "outputs": [
        {
          "name": "stdout",
          "output_type": "stream",
          "text": [
            "torch.Size([1980, 768])\n",
            "torch.Size([1980])\n"
          ]
        }
      ],
      "source": [
        "# 텐서의 형태 확인\n",
        "print(image_embeddings.shape)  # (103849, 768)\n",
        "print(encoded_image_labels_tensor.shape)  # (103849,)"
      ]
    },
    {
      "cell_type": "code",
      "execution_count": null,
      "metadata": {
        "id": "guC8h-xIP1dU"
      },
      "outputs": [],
      "source": [
        "# 2. DataLoader 준비 (입력과 라벨을 묶어서 제공)\n",
        "batch_size = 32\n",
        "dataset = TensorDataset(image_embeddings, encoded_image_labels_tensor)\n",
        "dataloader = DataLoader(dataset, batch_size=batch_size, shuffle=True)"
      ]
    },
    {
      "cell_type": "code",
      "execution_count": null,
      "metadata": {
        "colab": {
          "base_uri": "https://localhost:8080/",
          "height": 1000
        },
        "id": "ErDfWYb3qo1-",
        "outputId": "4239c3c2-9ee8-4244-d59c-6b06a2059859"
      },
      "outputs": [
        {
          "name": "stderr",
          "output_type": "stream",
          "text": [
            "/usr/local/lib/python3.10/dist-packages/torch/nn/modules/transformer.py:307: UserWarning: enable_nested_tensor is True, but self.use_nested_tensor is False because encoder_layer.self_attn.batch_first was not True(use batch_first for better inference performance)\n",
            "  warnings.warn(f\"enable_nested_tensor is True, but self.use_nested_tensor is False because {why_not_sparsity_fast_path}\")\n",
            "  3%|▎         | 1/30 [00:01<00:39,  1.37s/it]"
          ]
        },
        {
          "name": "stdout",
          "output_type": "stream",
          "text": [
            "Epoch [1/30], Predicted Values: [1 0 5 4 4 1 1 1 3 5]\n",
            "Epoch [1/30], Actual Labels: [0 5 1 1 1 1 1 5 1 3]\n",
            "Epoch [1/30], Train Loss: 2.9852, Val Loss: 1.8695, Train Acc: 0.1538, Val Acc: 0.1869\n"
          ]
        },
        {
          "name": "stderr",
          "output_type": "stream",
          "text": [
            "\r  7%|▋         | 2/30 [00:02<00:38,  1.37s/it]"
          ]
        },
        {
          "name": "stdout",
          "output_type": "stream",
          "text": [
            "Epoch [2/30], Predicted Values: [4 4 0 1 3 3 1 5 4 1]\n",
            "Epoch [2/30], Actual Labels: [4 2 4 4 0 3 2 0 2 5]\n",
            "Epoch [2/30], Train Loss: 2.2015, Val Loss: 1.8988, Train Acc: 0.1751, Val Acc: 0.1869\n"
          ]
        },
        {
          "name": "stderr",
          "output_type": "stream",
          "text": [
            "\r 10%|█         | 3/30 [00:04<00:37,  1.38s/it]"
          ]
        },
        {
          "name": "stdout",
          "output_type": "stream",
          "text": [
            "Epoch [3/30], Predicted Values: [3 3 2 2 2 2 2 2 2 2]\n",
            "Epoch [3/30], Actual Labels: [5 4 2 4 0 2 2 4 4 3]\n",
            "Epoch [3/30], Train Loss: 2.1715, Val Loss: 1.9063, Train Acc: 0.1627, Val Acc: 0.1717\n"
          ]
        },
        {
          "name": "stderr",
          "output_type": "stream",
          "text": [
            "\r 13%|█▎        | 4/30 [00:05<00:35,  1.37s/it]"
          ]
        },
        {
          "name": "stdout",
          "output_type": "stream",
          "text": [
            "Epoch [4/30], Predicted Values: [1 5 1 5 3 0 4 4 1 0]\n",
            "Epoch [4/30], Actual Labels: [2 5 5 4 2 1 0 1 3 4]\n",
            "Epoch [4/30], Train Loss: 2.0945, Val Loss: 1.8463, Train Acc: 0.1734, Val Acc: 0.1616\n"
          ]
        },
        {
          "name": "stderr",
          "output_type": "stream",
          "text": [
            "\r 17%|█▋        | 5/30 [00:06<00:34,  1.36s/it]"
          ]
        },
        {
          "name": "stdout",
          "output_type": "stream",
          "text": [
            "Epoch [5/30], Predicted Values: [0 4 0 5 3 1 4 1 4 4]\n",
            "Epoch [5/30], Actual Labels: [5 3 0 3 2 1 1 3 4 0]\n",
            "Epoch [5/30], Train Loss: 2.1341, Val Loss: 1.8682, Train Acc: 0.1392, Val Acc: 0.1869\n"
          ]
        },
        {
          "name": "stderr",
          "output_type": "stream",
          "text": [
            "\r 20%|██        | 6/30 [00:08<00:32,  1.36s/it]"
          ]
        },
        {
          "name": "stdout",
          "output_type": "stream",
          "text": [
            "Epoch [6/30], Predicted Values: [0 1 4 0 4 4 4 0 4 2]\n",
            "Epoch [6/30], Actual Labels: [5 0 4 1 2 0 3 4 2 4]\n",
            "Epoch [6/30], Train Loss: 2.0975, Val Loss: 1.8501, Train Acc: 0.1605, Val Acc: 0.1616\n"
          ]
        },
        {
          "name": "stderr",
          "output_type": "stream",
          "text": [
            "\r 23%|██▎       | 7/30 [00:09<00:31,  1.37s/it]"
          ]
        },
        {
          "name": "stdout",
          "output_type": "stream",
          "text": [
            "Epoch [7/30], Predicted Values: [3 5 0 5 3 3 3 5 5 3]\n",
            "Epoch [7/30], Actual Labels: [5 4 2 2 4 0 4 0 2 4]\n",
            "Epoch [7/30], Train Loss: 2.1105, Val Loss: 1.8722, Train Acc: 0.1605, Val Acc: 0.1515\n"
          ]
        },
        {
          "name": "stderr",
          "output_type": "stream",
          "text": [
            "\r 27%|██▋       | 8/30 [00:11<00:30,  1.40s/it]"
          ]
        },
        {
          "name": "stdout",
          "output_type": "stream",
          "text": [
            "Epoch [8/30], Predicted Values: [3 3 3 1 2 2 4 4 3 3]\n",
            "Epoch [8/30], Actual Labels: [1 5 2 2 0 2 1 1 2 1]\n",
            "Epoch [8/30], Train Loss: 2.0760, Val Loss: 1.8496, Train Acc: 0.1672, Val Acc: 0.1515\n"
          ]
        },
        {
          "name": "stderr",
          "output_type": "stream",
          "text": [
            "\r 30%|███       | 9/30 [00:12<00:29,  1.38s/it]"
          ]
        },
        {
          "name": "stdout",
          "output_type": "stream",
          "text": [
            "Epoch [9/30], Predicted Values: [0 0 2 5 5 1 5 1 2 0]\n",
            "Epoch [9/30], Actual Labels: [2 1 4 3 3 1 5 0 2 4]\n",
            "Epoch [9/30], Train Loss: 2.0498, Val Loss: 1.8245, Train Acc: 0.1813, Val Acc: 0.1869\n"
          ]
        },
        {
          "name": "stderr",
          "output_type": "stream",
          "text": [
            "\r 33%|███▎      | 10/30 [00:13<00:27,  1.38s/it]"
          ]
        },
        {
          "name": "stdout",
          "output_type": "stream",
          "text": [
            "Epoch [10/30], Predicted Values: [1 1 1 4 1 1 4 1 4 5]\n",
            "Epoch [10/30], Actual Labels: [0 0 0 5 5 0 0 5 5 2]\n",
            "Epoch [10/30], Train Loss: 2.0246, Val Loss: 1.8313, Train Acc: 0.1773, Val Acc: 0.1616\n"
          ]
        },
        {
          "name": "stderr",
          "output_type": "stream",
          "text": [
            "\r 37%|███▋      | 11/30 [00:15<00:26,  1.39s/it]"
          ]
        },
        {
          "name": "stdout",
          "output_type": "stream",
          "text": [
            "Epoch [11/30], Predicted Values: [0 2 1 3 2 3 2 3 1 1]\n",
            "Epoch [11/30], Actual Labels: [2 2 2 0 1 5 2 5 2 3]\n",
            "Epoch [11/30], Train Loss: 2.0388, Val Loss: 1.8481, Train Acc: 0.1633, Val Acc: 0.1515\n"
          ]
        },
        {
          "name": "stderr",
          "output_type": "stream",
          "text": [
            "\r 40%|████      | 12/30 [00:16<00:24,  1.37s/it]"
          ]
        },
        {
          "name": "stdout",
          "output_type": "stream",
          "text": [
            "Epoch [12/30], Predicted Values: [0 4 2 4 0 1 2 1 1 1]\n",
            "Epoch [12/30], Actual Labels: [2 4 5 0 4 3 4 2 1 2]\n",
            "Epoch [12/30], Train Loss: 2.0216, Val Loss: 1.8310, Train Acc: 0.1785, Val Acc: 0.1869\n"
          ]
        },
        {
          "name": "stderr",
          "output_type": "stream",
          "text": [
            "\r 43%|████▎     | 13/30 [00:17<00:23,  1.39s/it]"
          ]
        },
        {
          "name": "stdout",
          "output_type": "stream",
          "text": [
            "Epoch [13/30], Predicted Values: [5 5 0 4 5 5 5 4 4 4]\n",
            "Epoch [13/30], Actual Labels: [1 5 4 0 1 1 3 4 3 3]\n",
            "Epoch [13/30], Train Loss: 2.0022, Val Loss: 1.8523, Train Acc: 0.1785, Val Acc: 0.1616\n"
          ]
        },
        {
          "name": "stderr",
          "output_type": "stream",
          "text": [
            "\r 47%|████▋     | 14/30 [00:19<00:22,  1.38s/it]"
          ]
        },
        {
          "name": "stdout",
          "output_type": "stream",
          "text": [
            "Epoch [14/30], Predicted Values: [1 5 2 4 2 2 5 1 5 4]\n",
            "Epoch [14/30], Actual Labels: [0 2 3 0 2 3 1 5 4 2]\n",
            "Epoch [14/30], Train Loss: 2.0003, Val Loss: 1.8273, Train Acc: 0.1678, Val Acc: 0.1667\n"
          ]
        },
        {
          "name": "stderr",
          "output_type": "stream",
          "text": [
            "\r 50%|█████     | 15/30 [00:20<00:20,  1.39s/it]"
          ]
        },
        {
          "name": "stdout",
          "output_type": "stream",
          "text": [
            "Epoch [15/30], Predicted Values: [0 4 1 0 1 0 0 0 0 4]\n",
            "Epoch [15/30], Actual Labels: [5 5 2 2 1 3 0 4 4 3]\n",
            "Epoch [15/30], Train Loss: 2.0224, Val Loss: 1.8274, Train Acc: 0.1762, Val Acc: 0.1616\n"
          ]
        },
        {
          "name": "stderr",
          "output_type": "stream",
          "text": [
            "\r 53%|█████▎    | 16/30 [00:22<00:19,  1.39s/it]"
          ]
        },
        {
          "name": "stdout",
          "output_type": "stream",
          "text": [
            "Epoch [16/30], Predicted Values: [3 1 1 0 1 1 0 0 5 1]\n",
            "Epoch [16/30], Actual Labels: [4 4 1 0 1 3 0 4 5 3]\n",
            "Epoch [16/30], Train Loss: 2.0081, Val Loss: 1.8266, Train Acc: 0.1751, Val Acc: 0.1869\n"
          ]
        },
        {
          "name": "stderr",
          "output_type": "stream",
          "text": [
            "\r 53%|█████▎    | 16/30 [00:23<00:20,  1.47s/it]"
          ]
        },
        {
          "name": "stdout",
          "output_type": "stream",
          "text": [
            "Epoch [17/30], Predicted Values: [5 4 1 0 5 4 1 0 0 4]\n",
            "Epoch [17/30], Actual Labels: [5 4 0 5 5 3 4 4 0 2]\n",
            "Epoch [17/30], Train Loss: 1.9903, Val Loss: 1.8261, Train Acc: 0.1470, Val Acc: 0.1616\n",
            "Early stopping at epoch 17\n"
          ]
        },
        {
          "name": "stderr",
          "output_type": "stream",
          "text": [
            "\n"
          ]
        },
        {
          "data": {
            "image/png": "[encoded data removed]",
            "text/plain": [
              "<Figure size 1200x600 with 2 Axes>"
            ]
          },
          "metadata": {},
          "output_type": "display_data"
        },
        {
          "name": "stdout",
          "output_type": "stream",
          "text": [
            "Final Accuracy: 0.1616\n",
            "Final F1 Score: 0.0450\n"
          ]
        }
      ],
      "source": [
        "# 모델, 손실 함수, 옵티마이저 설정\n",
        "model = ModalityTransformerWithCLSAndFramewisePrediction(embed_dim=768, num_heads=8, num_layers=6).to(device)\n",
        "criterion = nn.CrossEntropyLoss()\n",
        "optimizer = optim.Adam(model.parameters(), lr=1e-5)\n",
        "\n",
        "# DataLoader 준비 (입력과 라벨을 묶어서 제공)\n",
        "batch_size = 32\n",
        "dataset = TensorDataset(image_embeddings, encoded_image_labels_tensor)  # 이미지 임베딩과 라벨로 데이터셋 구성\n",
        "train_size = int(0.9 * len(dataset))  # 90:10 비율로 학습/테스트 데이터 나눔\n",
        "test_size = len(dataset) - train_size\n",
        "train_dataset, test_dataset = torch.utils.data.random_split(dataset, [train_size, test_size])\n",
        "\n",
        "# DataLoader 생성\n",
        "train_loader = DataLoader(train_dataset, batch_size=batch_size, shuffle=True)\n",
        "test_loader = DataLoader(test_dataset, batch_size=batch_size, shuffle=False)\n",
        "\n",
        "# EarlyStopping 인스턴스 생성\n",
        "early_stopping = EarlyStopping(patience=8)\n",
        "\n",
        "# 성능 기록을 위한 리스트 초기화\n",
        "train_losses = []\n",
        "val_losses = []\n",
        "train_accuracies = []\n",
        "val_accuracies = []\n",
        "epoch_cnt = 0\n",
        "\n",
        "# 학습 루프 (CLS 토큰 기반 감정 예측)\n",
        "num_epochs = 30\n",
        "for epoch in tqdm(range(num_epochs)):\n",
        "    model.train()\n",
        "    total_loss = 0\n",
        "\n",
        "    correct_preds, total_preds = 0, 0  # 매 에폭마다 초기화\n",
        "\n",
        "    for batch_embeddings, batch_labels in train_loader:\n",
        "        # 데이터를 GPU로 이동\n",
        "        batch_embeddings, batch_labels = batch_embeddings.to(device), batch_labels.to(device)\n",
        "\n",
        "        # batch_labels를 long 타입으로 변환\n",
        "        batch_labels = batch_labels.long()\n",
        "\n",
        "        # Forward pass: CLS 토큰을 통한 감정 예측\n",
        "        cls_output = model(batch_embeddings, modality='image')  # 이미지 모달리티에 맞게 조정\n",
        "\n",
        "        # 손실 함수 계산\n",
        "        loss = criterion(cls_output, batch_labels)\n",
        "\n",
        "        # Backward pass and optimization\n",
        "        optimizer.zero_grad()\n",
        "        loss.backward()\n",
        "        optimizer.step()\n",
        "\n",
        "        total_loss += loss.item()\n",
        "\n",
        "        # 정확도 계산\n",
        "        _, predicted = torch.max(cls_output, 1)  # 가장 높은 확률을 가진 클래스를 예측\n",
        "        correct_preds += (predicted == batch_labels).sum().item()\n",
        "        total_preds += batch_labels.size(0)\n",
        "\n",
        "    # 학습 손실 및 정확도 기록\n",
        "    train_loss = total_loss / len(train_loader)\n",
        "    train_losses.append(train_loss)\n",
        "    train_accuracy = correct_preds / total_preds\n",
        "    train_accuracies.append(train_accuracy)\n",
        "\n",
        "    # 예측값이 0~5 범위 내에 있는지 확인\n",
        "    predicted_values = predicted.cpu().numpy()  # 예측된 클래스 값\n",
        "    print(f\"Epoch [{epoch+1}/{num_epochs}], Predicted Values: {predicted_values[:10]}\")  # 첫 10개 예측값 출력\n",
        "    print(f\"Epoch [{epoch+1}/{num_epochs}], Actual Labels: {batch_labels.cpu().numpy()[:10]}\")  # 첫 10개 실제 라벨 출력\n",
        "\n",
        "    # 검증 단계\n",
        "    model.eval()\n",
        "    val_loss = 0\n",
        "    correct_preds, total_preds = 0, 0  # 검증 단계에서 다시 초기화\n",
        "    with torch.no_grad():\n",
        "        for batch_embeddings, batch_labels in test_loader:\n",
        "            batch_embeddings, batch_labels = batch_embeddings.to(device), batch_labels.to(device)\n",
        "\n",
        "            # batch_labels를 long 타입으로 변환\n",
        "            batch_labels = batch_labels.long()\n",
        "\n",
        "            # Forward pass (검증)\n",
        "            cls_output = model(batch_embeddings, modality='image')  # 이미지 모달리티에 맞게 조정\n",
        "\n",
        "            val_loss += criterion(cls_output, batch_labels).item()\n",
        "\n",
        "            # 검증 정확도 계산\n",
        "            _, predicted = torch.max(cls_output, 1)\n",
        "            correct_preds += (predicted == batch_labels).sum().item()\n",
        "            total_preds += batch_labels.size(0)\n",
        "\n",
        "    # 검증 손실 및 정확도 기록\n",
        "    val_loss /= len(test_loader)\n",
        "    val_losses.append(val_loss)\n",
        "    val_accuracy = correct_preds / total_preds\n",
        "    val_accuracies.append(val_accuracy)\n",
        "\n",
        "    print(f\"Epoch [{epoch+1}/{num_epochs}], Train Loss: {train_loss:.4f}, Val Loss: {val_loss:.4f}, Train Acc: {train_accuracy:.4f}, Val Acc: {val_accuracy:.4f}\")\n",
        "\n",
        "    epoch_cnt += 1\n",
        "    # Early stopping 체크\n",
        "    early_stopping(val_loss)\n",
        "    if early_stopping.early_stop:\n",
        "        print(f\"Early stopping at epoch {epoch+1}\")\n",
        "        break\n",
        "\n",
        "# 성능 시각화\n",
        "plt.figure(figsize=(12, 6))\n",
        "\n",
        "# 손실 시각화\n",
        "plt.subplot(1, 2, 1)\n",
        "plt.plot(train_losses, label=\"Train Loss\")\n",
        "plt.plot(val_losses, label=\"Validation Loss\")\n",
        "plt.xlabel(\"Epoch\")\n",
        "plt.ylabel(\"Loss\")\n",
        "plt.title(\"Train and Validation Loss\")\n",
        "plt.legend()\n",
        "\n",
        "# 정확도 시각화\n",
        "plt.subplot(1, 2, 2)\n",
        "plt.plot(train_accuracies, label=\"Train Accuracy\")\n",
        "plt.plot(val_accuracies, label=\"Validation Accuracy\")\n",
        "plt.xlabel(\"Epoch\")\n",
        "plt.ylabel(\"Accuracy\")\n",
        "plt.title(\"Train and Validation Accuracy\")\n",
        "plt.legend()\n",
        "\n",
        "plt.show()\n",
        "\n",
        "# 성능 평가 루프 (CLS 토큰 기반 감정 예측 평가)\n",
        "model.eval()\n",
        "all_preds = []\n",
        "all_labels = []\n",
        "with torch.no_grad():\n",
        "    for batch_embeddings, batch_labels in test_loader:\n",
        "        # 데이터를 GPU로 이동\n",
        "        batch_embeddings, batch_labels = batch_embeddings.to(device), batch_labels.to(device)\n",
        "\n",
        "        # batch_labels를 long 타입으로 변환\n",
        "        batch_labels = batch_labels.long()\n",
        "\n",
        "        # Forward pass (이미지 모달리티로 감정 예측)\n",
        "        cls_output = model(batch_embeddings, modality='image')\n",
        "\n",
        "        # 예측값 predicted를 long 타입으로 변환\n",
        "        _, predicted = torch.max(cls_output, 1)\n",
        "        predicted = predicted.long()\n",
        "\n",
        "        # GPU 텐서를 CPU로 이동하여 numpy로 변환\n",
        "        all_preds.extend(predicted.cpu().numpy())  # GPU 텐서를 CPU로 변환 후 numpy로 변환\n",
        "        all_labels.extend(batch_labels.cpu().numpy())  # 동일하게 처리\n",
        "\n",
        "# 정확도 및 F1 점수 계산\n",
        "accuracy = accuracy_score(all_labels, all_preds)\n",
        "f1 = f1_score(all_labels, all_preds, average='weighted')\n",
        "\n",
        "# 모델 저장 (확장자 추가)\n",
        "torch.save(model.state_dict(), file_path + f'/individual_modality_transformer_model/image_epoch_{epoch_cnt}_acc_{accuracy:.3f}.pth')\n",
        "\n",
        "print(f\"Final Accuracy: {accuracy:.4f}\")\n",
        "print(f\"Final F1 Score: {f1:.4f}\")"
      ]
    },
    {
      "cell_type": "markdown",
      "metadata": {
        "id": "IL8_sZVRrM9X"
      },
      "source": [
        "교차학습을 위한 이미지 임베딩 벡터 생성"
      ]
    },
    {
      "cell_type": "code",
      "execution_count": null,
      "metadata": {
        "colab": {
          "base_uri": "https://localhost:8080/"
        },
        "id": "qVZGHxZ_rMCf",
        "outputId": "90cd5197-06a7-4e29-d662-a72a0a063a8a"
      },
      "outputs": [
        {
          "name": "stderr",
          "output_type": "stream",
          "text": [
            "<ipython-input-69-e122169715e6>:1: FutureWarning: You are using `torch.load` with `weights_only=False` (the current default value), which uses the default pickle module implicitly. It is possible to construct malicious pickle data which will execute arbitrary code during unpickling (See https://github.com/pytorch/pytorch/blob/main/SECURITY.md#untrusted-models for more details). In a future release, the default value for `weights_only` will be flipped to `True`. This limits the functions that could be executed during unpickling. Arbitrary objects will no longer be allowed to be loaded via this mode unless they are explicitly allowlisted by the user via `torch.serialization.add_safe_globals`. We recommend you start setting `weights_only=True` for any use case where you don't have full control of the loaded file. Please open an issue on GitHub for any issues related to this experimental feature.\n",
            "  model.load_state_dict(torch.load(file_path + '/individual_modality_transformer_model/image_epoch_17_acc_0.162.pth'))\n"
          ]
        },
        {
          "data": {
            "text/plain": [
              "ModalityTransformerWithCLSAndFramewisePrediction(\n",
              "  (transformer): TransformerEncoder(\n",
              "    (layers): ModuleList(\n",
              "      (0-5): 6 x TransformerEncoderLayer(\n",
              "        (self_attn): MultiheadAttention(\n",
              "          (out_proj): NonDynamicallyQuantizableLinear(in_features=768, out_features=768, bias=True)\n",
              "        )\n",
              "        (linear1): Linear(in_features=768, out_features=2048, bias=True)\n",
              "        (dropout): Dropout(p=0.1, inplace=False)\n",
              "        (linear2): Linear(in_features=2048, out_features=768, bias=True)\n",
              "        (norm1): LayerNorm((768,), eps=1e-05, elementwise_affine=True)\n",
              "        (norm2): LayerNorm((768,), eps=1e-05, elementwise_affine=True)\n",
              "        (dropout1): Dropout(p=0.1, inplace=False)\n",
              "        (dropout2): Dropout(p=0.1, inplace=False)\n",
              "      )\n",
              "    )\n",
              "  )\n",
              "  (classifier): Linear(in_features=768, out_features=6, bias=True)\n",
              ")"
            ]
          },
          "execution_count": 69,
          "metadata": {},
          "output_type": "execute_result"
        }
      ],
      "source": [
        "model.load_state_dict(torch.load(file_path + '/individual_modality_transformer_model/image_epoch_17_acc_0.162.pth'))\n",
        "model.eval()"
      ]
    },
    {
      "cell_type": "code",
      "execution_count": null,
      "metadata": {
        "id": "T8ZEJjSCreCF"
      },
      "outputs": [],
      "source": [
        "# 이미지 데이터를 TensorDataset으로 묶기 (이미지 임베딩, 라벨 포함)\n",
        "image_dataset = TensorDataset(image_embeddings, encoded_image_labels_tensor)\n",
        "\n",
        "# DataLoader 생성 (배치 크기 32, 셔플 여부는 필요에 따라 설정)\n",
        "image_loader = DataLoader(image_dataset, batch_size=32, shuffle=False, drop_last=True)\n",
        "\n",
        "image_embeddings = []"
      ]
    },
    {
      "cell_type": "code",
      "execution_count": null,
      "metadata": {
        "colab": {
          "base_uri": "https://localhost:8080/"
        },
        "id": "UPXr4e0crrcO",
        "outputId": "c65ff920-b0c9-45ba-bd38-cbe3131a9d6b"
      },
      "outputs": [
        {
          "name": "stdout",
          "output_type": "stream",
          "text": [
            "이미지 임베딩 벡터가 /content/drive/MyDrive/sns_multimodal_sentiment_pr/contrastive_learning_input_embedding/에 저장되었습니다.\n",
            "(1952, 768)\n"
          ]
        }
      ],
      "source": [
        "# 드랍 last 설정으로 데이터 로더 일부 삭제\n",
        "with torch.no_grad():\n",
        "    for batch_embeddings, _ in image_loader:  # 텍스트 임베딩과 라벨 추출 (라벨은 사용하지 않음)\n",
        "        batch_embeddings = batch_embeddings.to(device)\n",
        "\n",
        "        # 모델에 오디오 임베딩 입력\n",
        "        cls_output = model(batch_embeddings, modality='image')  # CLS 토큰으로부터 임베딩 추출\n",
        "\n",
        "        # CLS 토큰을 임베딩으로 사용\n",
        "        image_embeddings.append(cls_output.cpu().numpy())\n",
        "\n",
        "# 리스트를 numpy 배열로 변환 (배치 차원 제거)\n",
        "image_embeddings = np.concatenate(image_embeddings, axis=0)  # (전체 텍스트 샘플 수, embed_dim)\n",
        "\n",
        "# 임베딩 벡터 저장\n",
        "np.save(file_path + '/contrastive_learning_input_embedding/image_embeddings.npy', image_embeddings)\n",
        "\n",
        "print(f\"이미지 임베딩 벡터가 {file_path}/contrastive_learning_input_embedding/에 저장되었습니다.\")\n",
        "\n",
        "# 저장된 이미지 임베딩 데이터를 불러오기\n",
        "image_embeddings = np.load(file_path + '/contrastive_learning_input_embedding/image_embeddings.npy')\n",
        "\n",
        "# 데이터의 형태를 확인\n",
        "print(image_embeddings.shape)  # (전체 이미지 샘플 수, embed_dim)"
      ]
    },
    {
      "cell_type": "markdown",
      "metadata": {
        "id": "CtfzL5s7sNd3"
      },
      "source": [
        "#아래부터는 4가지 모달리티를 토대로 교차학습 진행 코드"
      ]
    },
    {
      "cell_type": "markdown",
      "metadata": {
        "id": "tRnY0o9lGtwV"
      },
      "source": [
        "## 모달리티 shape 확인"
      ]
    },
    {
      "cell_type": "code",
      "execution_count": 72,
      "metadata": {
        "id": "tgmgMMDnHRKs"
      },
      "outputs": [],
      "source": [
        "import numpy as np"
      ]
    },
    {
      "cell_type": "code",
      "execution_count": 73,
      "metadata": {
        "colab": {
          "base_uri": "https://localhost:8080/"
        },
        "id": "tiHSDJf2sn3R",
        "outputId": "460d9271-f6a2-4df2-8f2d-ffc857949962"
      },
      "outputs": [
        {
          "name": "stdout",
          "output_type": "stream",
          "text": [
            "(127, 4, 768) (3424, 768) (1952, 768) (103840, 768)\n"
          ]
        }
      ],
      "source": [
        "# 저장된 비디오 임베딩 데이터를 불러오기\n",
        "video_embeddings = np.load('/content/drive/MyDrive/sns_multimodal_sentiment_pr/contrastive_learning_input_embedding/video_embeddings.npy')\n",
        "audio_embeddings = np.load('/content/drive/MyDrive/sns_multimodal_sentiment_pr/contrastive_learning_input_embedding/audio_embeddings.npy')\n",
        "image_embeddings = np.load('/content/drive/MyDrive/sns_multimodal_sentiment_pr/contrastive_learning_input_embedding/image_embeddings.npy')\n",
        "text_embeddings = np.load('/content/drive/MyDrive/sns_multimodal_sentiment_pr/contrastive_learning_input_embedding/text_embeddings.npy')\n",
        "\n",
        "# 데이터의 형태를 확인 비디오 오디오 이미지 텍스트\n",
        "print(video_embeddings.shape,audio_embeddings.shape,image_embeddings.shape,text_embeddings.shape)"
      ]
    },
    {
      "cell_type": "code",
      "execution_count": 74,
      "metadata": {
        "id": "J4CgehLVM8xS"
      },
      "outputs": [],
      "source": [
        "import torch\n",
        "import torch.nn as nn\n",
        "import torch.nn.functional as F"
      ]
    },
    {
      "cell_type": "code",
      "execution_count": 75,
      "metadata": {
        "id": "9oX_M7qt5kDC"
      },
      "outputs": [],
      "source": [
        "# numpy 배열을 torch 텐서로 변환하는 함수\n",
        "def numpy_to_tensor(data):\n",
        "    return torch.from_numpy(data).float() if isinstance(data, np.ndarray) else data"
      ]
    },
    {
      "cell_type": "code",
      "execution_count": 76,
      "metadata": {
        "id": "vF7A_mY8NRBN"
      },
      "outputs": [],
      "source": [
        "# CrossModalProjection을 통한 비디오-오디오, 비디오-텍스트, 비디오-이미지 학습\n",
        "class CrossModalProjection(nn.Module):\n",
        "    def __init__(self, embed_dim=768, va_dim=512, vt_dim=256, vi_dim=256):\n",
        "        super(CrossModalProjection, self).__init__()\n",
        "        # 비디오-오디오 공통 공간 512차원으로 투영 (입력 크기 768, 출력 크기 512)\n",
        "        self.video_to_va_proj = nn.Linear(embed_dim, va_dim)\n",
        "        self.audio_to_va_proj = nn.Linear(embed_dim, va_dim)\n",
        "\n",
        "        # 비디오-텍스트 공통 공간 256차원으로 투영 (입력 크기 768, 출력 크기 256)\n",
        "        self.video_to_vt_proj = nn.Linear(embed_dim, vt_dim)\n",
        "        self.text_to_vt_proj = nn.Linear(embed_dim, vt_dim)\n",
        "\n",
        "        # 비디오-이미지 공통 공간 256차원으로 투영 (입력 크기 768, 출력 크기 256)\n",
        "        self.video_to_vi_proj = nn.Linear(embed_dim, vi_dim)\n",
        "        self.image_to_vi_proj = nn.Linear(embed_dim, vi_dim)\n",
        "\n",
        "    def forward(self, video_embed, audio_embed, text_embed, image_embed):\n",
        "        # 모든 입력을 torch 텐서로 변환\n",
        "        video_embed = numpy_to_tensor(video_embed)\n",
        "        audio_embed = numpy_to_tensor(audio_embed)\n",
        "        text_embed = numpy_to_tensor(text_embed)\n",
        "        image_embed = numpy_to_tensor(image_embed)\n",
        "\n",
        "        # video_embed의 차원: (batch_size, num_frames, embedding_dim) = (127, 4, 768)\n",
        "        batch_size, num_frames, embedding_dim = video_embed.size()\n",
        "\n",
        "        # 비디오 임베딩을 프레임 단위로 처리 (배치 크기 * 프레임 수로 reshape)\n",
        "        video_framewise = video_embed.view(batch_size * num_frames, embedding_dim)  # (127*4, 768)\n",
        "\n",
        "        # 각 프레임별로 비디오를 다른 모달리티에 맞춰 투영\n",
        "        video_va = self.video_to_va_proj(video_framewise)\n",
        "        video_vt = self.video_to_vt_proj(video_framewise)\n",
        "        video_vi = self.video_to_vi_proj(video_framewise)\n",
        "\n",
        "        # 오디오, 텍스트, 이미지 모달리티에 대한 투영 (차원: (batch_size, embedding_dim))\n",
        "        audio_va = self.audio_to_va_proj(audio_embed)\n",
        "        text_vt = self.text_to_vt_proj(text_embed)\n",
        "        image_vi = self.image_to_vi_proj(image_embed)\n",
        "\n",
        "\n",
        "        # 비디오 프레임별 결과를 다시 (batch_size, num_frames, -1)로 reshape\n",
        "        video_va = video_va.view(batch_size, num_frames, -1)  # (127, 4, 512)\n",
        "        video_vt = video_vt.view(batch_size, num_frames, -1)  # (127, 4, 256)\n",
        "        video_vi = video_vi.view(batch_size, num_frames, -1)  # (127, 4, 256)\n",
        "\n",
        "        # 오디오, 텍스트, 이미지의 차원을 맞추기 위한 reshape (batch_size, 1, -1)\n",
        "        audio_va = audio_va.unsqueeze(1)  # (3444, 1, 512)\n",
        "        text_vt = text_vt.unsqueeze(1)    # (3444, 1, 256)\n",
        "        image_vi = image_vi.unsqueeze(1)  # (3444, 1, 256)\n",
        "\n",
        "        return video_va, audio_va, video_vt, text_vt, video_vi, image_vi"
      ]
    },
    {
      "cell_type": "code",
      "execution_count": 77,
      "metadata": {
        "id": "fYzL1d5XNApb"
      },
      "outputs": [],
      "source": [
        "# Multiple Instance Learning NCE Loss (MIL-NCE)\n",
        "class MIL_NCE_Loss(nn.Module):\n",
        "    def __init__(self, temperature=0.07):\n",
        "        super(MIL_NCE_Loss, self).__init__()\n",
        "        self.temperature = temperature\n",
        "\n",
        "    def forward(self, video_embed, other_embed, top_k=5):\n",
        "        # 코사인 유사도 계산 (비디오-오디오/텍스트/이미지 간)\n",
        "        sim_matrix = F.cosine_similarity(video_embed.unsqueeze(1), other_embed.unsqueeze(0), dim=-1)\n",
        "\n",
        "        # 각 비디오 클립에 대해 가장 가까운 모달리티 클립 5개 샘플링 (positive pair로 간주)\n",
        "        top_k_indices = torch.topk(sim_matrix, top_k, dim=1).indices\n",
        "\n",
        "        # positive pair의 유사도 값 추출\n",
        "        pos_pairs = sim_matrix.gather(1, top_k_indices)\n",
        "\n",
        "        # NCE Loss 계산 (Noise Contrastive Estimation)\n",
        "        nce_loss = -F.log_softmax(sim_matrix / self.temperature, dim=1).gather(1, top_k_indices).mean()\n",
        "\n",
        "        return nce_loss\n"
      ]
    },
    {
      "cell_type": "code",
      "execution_count": 78,
      "metadata": {
        "id": "S8VA3KoJXDZ8"
      },
      "outputs": [],
      "source": [
        "class EarlyStopping:\n",
        "    def __init__(self, patience=10, delta=0, verbose=False):\n",
        "        \"\"\"\n",
        "        patience (int): 개선이 없을 때 학습을 멈추기 전에 기다리는 에폭 수\n",
        "        delta (float): 손실이 감소했다고 간주하기 위한 최소 변화량\n",
        "        verbose (bool): True일 경우 개선 시 출력\n",
        "        \"\"\"\n",
        "        self.patience = patience\n",
        "        self.delta = delta\n",
        "        self.verbose = verbose\n",
        "        self.best_loss = None\n",
        "        self.counter = 0\n",
        "        self.early_stop = False\n",
        "\n",
        "    def __call__(self, val_loss):\n",
        "        if self.best_loss is None:\n",
        "            self.best_loss = val_loss\n",
        "        elif val_loss > self.best_loss - self.delta:\n",
        "            self.counter += 1\n",
        "            if self.verbose:\n",
        "                print(f\"EarlyStopping counter: {self.counter} out of {self.patience}\")\n",
        "            if self.counter >= self.patience:\n",
        "                self.early_stop = True\n",
        "        else:\n",
        "            self.best_loss = val_loss\n",
        "            self.counter = 0"
      ]
    },
    {
      "cell_type": "code",
      "execution_count": 79,
      "metadata": {
        "id": "KRWNLs7wyR67"
      },
      "outputs": [],
      "source": [
        "# 학습 준비 (배치 처리 적용)\n",
        "def train_model(num_epochs, video_embeddings, audio_embeddings, text_embeddings, image_embeddings, model, mil_nce_loss_fn, optimizer, early_stopping, batch_size=8):\n",
        "    for epoch in range(num_epochs):\n",
        "        model.train()\n",
        "        optimizer.zero_grad()\n",
        "\n",
        "        # numpy 배열을 torch 텐서로 변환 (배치 단위 처리 전에 변환)\n",
        "        video_embeddings = numpy_to_tensor(video_embeddings)\n",
        "        audio_embeddings = numpy_to_tensor(audio_embeddings)\n",
        "        text_embeddings = numpy_to_tensor(text_embeddings)\n",
        "        image_embeddings = numpy_to_tensor(image_embeddings)\n",
        "\n",
        "        for i in range(0, video_embeddings.shape[0], batch_size):\n",
        "            video_batch = video_embeddings[i:i+batch_size]\n",
        "            audio_batch = audio_embeddings[i:i+batch_size]\n",
        "            text_batch = text_embeddings[i:i+batch_size]\n",
        "            image_batch = image_embeddings[i:i+batch_size]\n",
        "\n",
        "            video_va, audio_va, video_vt, text_vt, video_vi, image_vi = model(\n",
        "                video_batch, audio_batch, text_batch, image_batch\n",
        "            )\n",
        "\n",
        "            nce_loss_va = mil_nce_loss_fn(video_va, audio_va)\n",
        "            nce_loss_vt = mil_nce_loss_fn(video_vt, text_vt)\n",
        "            nce_loss_vi = mil_nce_loss_fn(video_vi, image_vi)\n",
        "\n",
        "            total_loss = nce_loss_va + nce_loss_vt + nce_loss_vi\n",
        "            total_loss.backward()\n",
        "            optimizer.step()\n",
        "\n",
        "        print(f\"Epoch [{epoch+1}/{num_epochs}], Total NCE Loss: {total_loss.item():.4f}\")\n",
        "\n",
        "        early_stopping(total_loss)\n",
        "        if early_stopping.early_stop:\n",
        "            print(f\"Early stopping at epoch {epoch+1}\")\n",
        "            break\n",
        "\n",
        "# 평가 준비 (배치 처리 적용)\n",
        "def evaluate_model(video_embeddings, audio_embeddings, text_embeddings, image_embeddings, model, mil_nce_loss_fn, batch_size=8):\n",
        "    model.eval()\n",
        "\n",
        "    # numpy 배열을 torch 텐서로 변환 (평가 전에 변환)\n",
        "    video_embeddings = numpy_to_tensor(video_embeddings)\n",
        "    audio_embeddings = numpy_to_tensor(audio_embeddings)\n",
        "    text_embeddings = numpy_to_tensor(text_embeddings)\n",
        "    image_embeddings = numpy_to_tensor(image_embeddings)\n",
        "\n",
        "    total_nce_loss = 0\n",
        "    with torch.no_grad():\n",
        "        for i in range(0, video_embeddings.shape[0], batch_size):\n",
        "            video_batch = video_embeddings[i:i+batch_size]\n",
        "            audio_batch = audio_embeddings[i:i+batch_size]\n",
        "            text_batch = text_embeddings[i:i+batch_size]\n",
        "            image_batch = image_embeddings[i:i+batch_size]\n",
        "\n",
        "            video_va, audio_va, video_vt, text_vt, video_vi, image_vi = model(\n",
        "                video_batch, audio_batch, text_batch, image_batch\n",
        "            )\n",
        "\n",
        "            nce_loss_va = mil_nce_loss_fn(video_va, audio_va)\n",
        "            nce_loss_vt = mil_nce_loss_fn(video_vt, text_vt)\n",
        "            nce_loss_vi = mil_nce_loss_fn(video_vi, image_vi)\n",
        "\n",
        "            total_nce_loss += nce_loss_va + nce_loss_vt + nce_loss_vi\n",
        "\n",
        "    print(f\"Evaluation - Total NCE Loss: {total_nce_loss.item():.4f}\")"
      ]
    },
    {
      "cell_type": "markdown",
      "metadata": {
        "id": "9-Nrta0R7B8q"
      },
      "source": [
        "# 교차학습 진행"
      ]
    },
    {
      "cell_type": "code",
      "execution_count": 89,
      "metadata": {
        "colab": {
          "base_uri": "https://localhost:8080/"
        },
        "id": "wiwMDtDFNJZD",
        "outputId": "3fa2aeb8-8219-48e5-e3a3-3ed99e4a41e2"
      },
      "outputs": [
        {
          "name": "stdout",
          "output_type": "stream",
          "text": [
            "Epoch [1/50], Total NCE Loss: 6.2383\n",
            "Epoch [2/50], Total NCE Loss: 6.2383\n",
            "Epoch [3/50], Total NCE Loss: 6.2383\n",
            "Epoch [4/50], Total NCE Loss: 6.2383\n",
            "EarlyStopping counter: 1 out of 5\n",
            "Epoch [5/50], Total NCE Loss: 6.2383\n",
            "Epoch [6/50], Total NCE Loss: 6.2383\n",
            "EarlyStopping counter: 1 out of 5\n",
            "Epoch [7/50], Total NCE Loss: 6.2383\n",
            "Epoch [8/50], Total NCE Loss: 6.2383\n",
            "EarlyStopping counter: 1 out of 5\n",
            "Epoch [9/50], Total NCE Loss: 6.2383\n",
            "EarlyStopping counter: 2 out of 5\n",
            "Epoch [10/50], Total NCE Loss: 6.2383\n",
            "EarlyStopping counter: 3 out of 5\n",
            "Epoch [11/50], Total NCE Loss: 6.2383\n",
            "EarlyStopping counter: 4 out of 5\n",
            "Epoch [12/50], Total NCE Loss: 6.2383\n",
            "EarlyStopping counter: 5 out of 5\n",
            "Early stopping at epoch 12\n",
            "Evaluation - Total NCE Loss: 99.8132\n"
          ]
        }
      ],
      "source": [
        "# 모델 및 손실 함수 생성\n",
        "model = CrossModalProjection(embed_dim=768, va_dim=512, vt_dim=256, vi_dim=256)\n",
        "mil_nce_loss_fn = MIL_NCE_Loss(temperature=0.07)\n",
        "\n",
        "# EarlyStopping 인스턴스 생성\n",
        "early_stopping = EarlyStopping(patience=5, verbose=True)\n",
        "\n",
        "# 옵티마이저 설정\n",
        "optimizer = torch.optim.Adam(model.parameters(), lr=1e-5)\n",
        "\n",
        "# 학습 실행\n",
        "train_model(num_epochs=50, video_embeddings=video_embeddings, audio_embeddings=audio_embeddings, text_embeddings=text_embeddings, image_embeddings=image_embeddings, model=model, mil_nce_loss_fn=mil_nce_loss_fn, optimizer=optimizer, early_stopping=early_stopping, batch_size=8)\n",
        "\n",
        "# 학습 후 평가 실행\n",
        "evaluate_model(video_embeddings, audio_embeddings, text_embeddings, image_embeddings, model, mil_nce_loss_fn, batch_size=8)\n"
      ]
    },
    {
      "cell_type": "markdown",
      "metadata": {
        "id": "pyHUCG0J2VBp"
      },
      "source": [
        "# 모델전과 모델 후의 임베딩 공간 차이를 보았을 떄 확실한 성능 차이를 보인다\n",
        "\n",
        "#다음은 챗지피티의 분선결과\n",
        "\n",
        "비디오 임베딩:\n",
        "768차원에서 값의 범위가 -3.16에서 3.20으로 변동성이 있습니다.\n",
        "공통 공간으로 투영되면서 범위가 축소되고, 값의 분포가 더 안정적으로 변했습니다.\n",
        "오디오 임베딩:\n",
        "13.20이라는 매우 높은 값이 있었으며, 이는 공통 공간으로 투영되면서 1.60 범위로 축소되었습니다.\n",
        "공통 공간으로의 투영이 오디오 임베딩을 안정화시켰습니다.\n",
        "텍스트 임베딩:\n",
        "12.12로 값이 컸으나, 공통 공간으로 투영 후 2.05 범위로 축소되었습니다.\n",
        "이는 모델이 텍스트 정보를 잘 변환하고 있는 신호입니다.\n",
        "이미지 임베딩:\n",
        "10.46이라는 큰 값에서 5.26으로 축소되었습니다. 공통 공간에 들어오면서 값의 분포가 축소되었지만, 여전히 다른 모달리티에 비해 값의 범위가 큽니다.\n",
        "성능 분석:\n",
        "값의 안정성 향상: 모델 통과 후 모든 모달리티 임베딩 값의 범위가 더 균형적으로 축소되었으며, 특히 오디오와 텍스트 모달리티에서 값의 범위가 큰 폭으로 줄어들어 모델의 안정성이 향상되었습니다.\n",
        "\n",
        "공통 공간에서 차원 축소: 비디오와 오디오 임베딩이 768차원에서 512차원으로, 텍스트와 이미지 임베딩은 768차원에서 256차원으로 차원 축소가 이루어졌습니다. 이는 모달리티 간 유사성을 더 쉽게 계산할 수 있게 합니다.\n",
        "\n",
        "문제점:\n",
        "이미지 임베딩의 값의 범위: 이미지 임베딩의 값이 다른 모달리티에 비해 여전히 큰 범위를 가지고 있어, 모델 학습 시 일부 영향을 줄 수 있습니다. 이는 정규화 등의 추가 처리가 필요할 수 있습니다.\n",
        "결론:\n",
        "성능의 진전은 명확히 확인되었습니다. 모델이 공통 공간으로 임베딩을 투영하면서 값의 분포가 더 안정화되었고, 모달리티 간 관계를 학습할 수 있는 환경이 잘 구축되었습니다.\n",
        "그러나, 이미지 임베딩의 값의 범위가 다른 모달리티에 비해 상대적으로 크기 때문에, 추가적인 정규화나 스케일링 작업이 필요할 수 있습니다."
      ]
    },
    {
      "cell_type": "code",
      "execution_count": 90,
      "metadata": {
        "colab": {
          "base_uri": "https://localhost:8080/"
        },
        "id": "5vOUyf2h2gsJ",
        "outputId": "4b4c728e-cc1c-4cac-cf62-57cd3d8cf5e2"
      },
      "outputs": [
        {
          "name": "stdout",
          "output_type": "stream",
          "text": [
            "\n",
            "모델 통과 전 임베딩 상태:\n",
            "video_embeddings: 비디오 임베딩 (768차원)\n",
            "  Embedding 1 - Shape: torch.Size([127, 4, 768]), Min: -3.16660213470459, Max: 3.2009053230285645\n",
            "\n",
            "audio_embeddings: 오디오 임베딩 (768차원)\n",
            "  Embedding 2 - Shape: torch.Size([3424, 768]), Min: -1.2942382097244263, Max: 13.200847625732422\n",
            "\n",
            "text_embeddings: 텍스트 임베딩 (768차원)\n",
            "  Embedding 3 - Shape: torch.Size([103840, 768]), Min: -3.14351749420166, Max: 12.128424644470215\n",
            "\n",
            "image_embeddings: 이미지 임베딩 (768차원)\n",
            "  Embedding 4 - Shape: torch.Size([1952, 768]), Min: -1.5404974222183228, Max: 10.462053298950195\n",
            "\n",
            "\n",
            "모델 통과 후 임베딩 상태:\n",
            "video_embeddings: 비디오 임베딩 (768차원)\n",
            "  Embedding 1 - Shape: torch.Size([127, 4, 512]), Min: -2.2084031105041504, Max: 1.6030035018920898\n",
            "\n",
            "audio_embeddings: 오디오 임베딩 (768차원)\n",
            "  Embedding 2 - Shape: torch.Size([3424, 1, 512]), Min: -1.7097883224487305, Max: 1.6891177892684937\n",
            "\n",
            "text_embeddings: 텍스트 임베딩 (768차원)\n",
            "  Embedding 3 - Shape: torch.Size([127, 4, 256]), Min: -1.7304847240447998, Max: 1.4999186992645264\n",
            "\n",
            "image_embeddings: 이미지 임베딩 (768차원)\n",
            "  Embedding 4 - Shape: torch.Size([103840, 1, 256]), Min: -4.565184116363525, Max: 3.989063262939453\n",
            "\n"
          ]
        }
      ],
      "source": [
        "# 임베딩의 크기와 값 분포를 확인하는 함수 (의미와 함께 출력)\n",
        "def check_embeddings_with_meaning(embeddings):\n",
        "    \"\"\"\n",
        "    각 임베딩의 shape과 값 분포(최소값/최대값)를 출력하며, 해당 임베딩이 무엇을 나타내는지 설명.\n",
        "    :param embeddings: 여러 개의 임베딩 텐서 (video_va, audio_va 등)\n",
        "    \"\"\"\n",
        "    meanings = [\n",
        "        \"video_embeddings: 비디오 임베딩 (768차원)\",\n",
        "        \"audio_embeddings: 오디오 임베딩 (768차원)\",\n",
        "        \"text_embeddings: 텍스트 임베딩 (768차원)\",\n",
        "        \"image_embeddings: 이미지 임베딩 (768차원)\"\n",
        "    ]\n",
        "\n",
        "    for i, (embedding, meaning) in enumerate(zip(embeddings, meanings)):\n",
        "        shape = embedding.shape\n",
        "        min_val = embedding.min().item()\n",
        "        max_val = embedding.max().item()\n",
        "        print(f\"{meaning}\")\n",
        "        print(f\"  Embedding {i+1} - Shape: {shape}, Min: {min_val}, Max: {max_val}\\n\")\n",
        "\n",
        "# 모델 통과 전후의 임베딩 크기 및 분포 비교\n",
        "def evaluate_and_compare_embeddings_with_meaning(video_embeddings, audio_embeddings, text_embeddings, image_embeddings, model):\n",
        "    \"\"\"\n",
        "    모델 활용 전후의 각 모달리티 임베딩의 크기와 값 분포를 비교하고, 그 의미를 설명하는 함수.\n",
        "    \"\"\"\n",
        "    # numpy 배열을 torch 텐서로 변환\n",
        "    video_embeddings_t = numpy_to_tensor(video_embeddings)\n",
        "    audio_embeddings_t = numpy_to_tensor(audio_embeddings)\n",
        "    text_embeddings_t = numpy_to_tensor(text_embeddings)\n",
        "    image_embeddings_t = numpy_to_tensor(image_embeddings)\n",
        "\n",
        "    # 모델 통과 전 임베딩 확인\n",
        "    print(\"\\n모델 통과 전 임베딩 상태:\")\n",
        "    check_embeddings_with_meaning([video_embeddings_t, audio_embeddings_t, text_embeddings_t, image_embeddings_t])\n",
        "\n",
        "    model.eval()\n",
        "\n",
        "    with torch.no_grad():\n",
        "        # 모델에 텐서로 변환된 임베딩을 전달\n",
        "        video_va, audio_va, video_vt, text_vt, video_vi, image_vi = model(\n",
        "            video_embeddings_t, audio_embeddings_t, text_embeddings_t, image_embeddings_t\n",
        "        )\n",
        "\n",
        "    # 모델 통과 후 임베딩 확인\n",
        "    print(\"\\n모델 통과 후 임베딩 상태:\")\n",
        "    check_embeddings_with_meaning([video_va, audio_va, video_vt, text_vt, video_vi, image_vi])\n",
        "\n",
        "# 시각화 및 확인 함수 실행\n",
        "evaluate_and_compare_embeddings_with_meaning(video_embeddings, audio_embeddings, text_embeddings, image_embeddings, model)"
      ]
    },
    {
      "cell_type": "markdown",
      "metadata": {
        "id": "9Ob7qvc63MCG"
      },
      "source": [
        "#  poc 결론\n",
        " ### 1.교차학습은 전혀 진행되지 않았다.\n",
        " ### 2.저차원 공간에 투영한것만으로 임베딩 값들이 정돈되는 효과 (이미지는 상대적으로 덜 효과) 실제 감정 분류를 해봐야 성능 확인 될 듯\n",
        " ### 3.데이터셋 정돈해서 다시 학습 진행이 필요할 듯하다\n",
        " ### 4.라벨이 없는 교차 학습 과정에서 성능 테스트할 방법 구축 필요(poc에서는 임베딩값과 nce_loss만으로 성능을 평가했는데 실제 데이터로 감정 분류 성능 데스트가 필요할 듯)  \n",
        "  \n",
        "\n",
        "\n",
        "\n",
        "\n",
        "# 개선점\n",
        "## > 비디오\n",
        "### 문제점: 비디오 클립단위로 하니 오히려 다른 모달리티보다도 개수가 너무 부족하다.\n",
        "### 해결 방법: 클립단위가 아닌 프레임단위로 임베딩함으로써 데이터를 늘리고\n",
        "### cls와 포지셔널 임베딩만으로 시간정보 기억하게 하는식으로 다시 코드 수정\n",
        "\n",
        "## > 오디오\n",
        "### 문제점: 트랜스포머 처리 과정에서부터 학습 불균형으로 좋은 성능을 뽑지 못하고 데이터 개수도 부족\n",
        "### 해결 방법: 데이터를 증강하고 감정 재분류로 트랜스포머 성능 증강\n",
        "\n",
        "## > 이미지\n",
        "### 문제점: 데이터 개수가 적어 트랜스포머 처리 과정에서 좋지 못한 성능\n",
        "### 해결 방법: 데이터 증강으로 트랜스포머 성능 증강\n",
        "\n",
        "## > 텍스트\n",
        "### 문제점: 데이터 개수는 충분하나 잘 분류되지 못하여 트랜스포머 처리과정에서 좋지 못한 성능\n",
        "### 해결 방법: 데이터 전처리로 트랜스포머 성능 증강\n"
      ]
    },
    {
      "cell_type": "code",
      "execution_count": null,
      "metadata": {
        "id": "9OW9u1LLUejN"
      },
      "outputs": [],
      "source": []
    }
  ],
  "metadata": {
    "accelerator": "GPU",
    "colab": {
      "gpuType": "L4",
      "machine_shape": "hm",
      "provenance": []
    },
    "kernelspec": {
      "display_name": "Python 3",
      "name": "python3"
    },
    "language_info": {
      "name": "python"
    }
  },
  "nbformat": 4,
  "nbformat_minor": 0
}
