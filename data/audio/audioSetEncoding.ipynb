{
 "cells": [
  {
   "cell_type": "code",
   "execution_count": null,
   "id": "0633180c-2498-4982-b413-240a436276f5",
   "metadata": {},
   "outputs": [],
   "source": [
    "import pandas as pd\n",
    "import pickle\n",
    "\n",
    "df = pd.read_csv('/VATT_AudioSet.csv')\n",
    "df['EMOTION'].value_counts()\n",
    "\n",
    "import torch\n",
    "import torch.nn as nn\n",
    "import numpy as np\n",
    "from sklearn.preprocessing import LabelEncoder\n",
    "\n",
    "torch.manual_seed(42)  # Seed 설정\n",
    "\n",
    "df = pd.read_csv('VATT_AudioSet.csv')\n",
    "labels = df['EMOTION']\n",
    "features = df.drop(columns=['Unnamed: 0', 'EMOTION'])\n",
    "\n",
    "# LabelEncoding\n",
    "label_encoder = LabelEncoder()\n",
    "encoded_labels = label_encoder.fit_transform(labels)\n",
    "\n",
    "# DataFrame -> NumPy -> Tensor\n",
    "features_numpy = features.values \n",
    "features_tensor = torch.FloatTensor(features_numpy)\n",
    "\n",
    "class AudioFeatureExpander(nn.Module): # 차원 확장 & 포지셔닝 인코딩 적용 class\n",
    "    def __init__(self, input_dim, output_dim=768):\n",
    "        super(AudioFeatureExpander, self).__init__()\n",
    "        \n",
    "        self.linear = nn.Linear(input_dim, output_dim)\n",
    "        self.position_embedding = nn.Parameter(torch.randn(1, output_dim))\n",
    "    \n",
    "    def forward(self, x):\n",
    "        x = self.linear(x)  # (32, 768)\n",
    "        x += self.position_embedding\n",
    "        \n",
    "        return x\n",
    "\n",
    "input_dim = features_tensor.shape[1]  # 32 features = Chromagram(feature_0~11) + MFCC(feature_12~31)\n",
    "\n",
    "# Instance 생성\n",
    "expander = AudioFeatureExpander(input_dim)\n",
    "\n",
    "# Class 적용\n",
    "transformer_input = expander(features_tensor)\n",
    "\n",
    "print(\"원본:\", features_tensor.shape)\n",
    "print(\"Transformer input 용:\", transformer_input.shape)\n",
    "print(\"Label:\", encoded_labels.shape)\n"
   ]
  },
  {
   "cell_type": "code",
   "execution_count": null,
   "id": "c0730a44-6953-4f58-8033-b9f01c98cbf5",
   "metadata": {},
   "outputs": [],
   "source": [
    "torch.save(transformer_input, 'transformer_input.pt')\n",
    "\n",
    "with open('audio_label_encoder.pkl', 'wb') as f:\n",
    "    pickle.dump(label_encoder, f)\n",
    "\n",
    "loaded_input = torch.load('transformer_input.pt')\n",
    "with open('audio_label_encoder.pkl', 'rb') as f:\n",
    "    loaded_encoder = pickle.load(f)"
   ]
  },
  {
   "cell_type": "code",
   "execution_count": null,
   "id": "1d3c95a5-6e87-4ee1-9787-9279e9c35397",
   "metadata": {},
   "outputs": [],
   "source": []
  }
 ],
 "metadata": {
  "kernelspec": {
   "display_name": "Python 3 (ipykernel)",
   "language": "python",
   "name": "python3"
  },
  "language_info": {
   "codemirror_mode": {
    "name": "ipython",
    "version": 3
   },
   "file_extension": ".py",
   "mimetype": "text/x-python",
   "name": "python",
   "nbconvert_exporter": "python",
   "pygments_lexer": "ipython3",
   "version": "3.12.4"
  }
 },
 "nbformat": 4,
 "nbformat_minor": 5
}
